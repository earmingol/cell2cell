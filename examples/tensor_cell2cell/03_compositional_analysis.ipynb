{
 "cells": [
  {
   "cell_type": "markdown",
   "id": "f78bc754",
   "metadata": {},
   "source": [
    "# Compositional Analysis\n",
    "\n",
    "This tutorial will guide users in weighting their communication scores by cell type composition"
   ]
  },
  {
   "cell_type": "code",
   "execution_count": 8,
   "id": "49dfc035",
   "metadata": {},
   "outputs": [],
   "source": [
    "import scanpy as sc\n",
    "import numpy as np\n",
    "import pandas as pd\n",
    "\n",
    "import cell2cell as c2c\n",
    "\n",
    "import warnings\n",
    "warnings.filterwarnings('ignore')\n",
    "\n",
    "#from cell2cell....import CellComposition, normalize_lr_scores_by_max, weight_tensor_by_composition, weight_communication_matrix_by_composition\n",
    "seed = 888\n",
    "np.random.seed(seed)"
   ]
  },
  {
   "cell_type": "code",
   "execution_count": 2,
   "id": "21a8b133",
   "metadata": {},
   "outputs": [],
   "source": [
    "out_path = '/data3/hratch/c2c_general/'"
   ]
  },
  {
   "cell_type": "markdown",
   "id": "62b8f97a",
   "metadata": {},
   "source": [
    "# Accounting for Cell Composition"
   ]
  },
  {
   "cell_type": "markdown",
   "id": "1c031bb7",
   "metadata": {},
   "source": [
    "To account for cell composition, in each context, we first need a \"composition score\" associated with each cell type, representative of its relative composition/frequency. \n",
    "\n",
    "We have implemented a number of methods to calculate the composition score in the CellComposition class. If you have your own, simply format it as the CellComposition.aggregated_composition_score attribute. This is a dataframe with one column as the cell type, and the other as the \"Composition Score\". Composition scores should be between [0,1].\n",
    "\n",
    "Here, we show how to get composition scores from the expression data:"
   ]
  },
  {
   "cell_type": "code",
   "execution_count": 3,
   "id": "39c8e35a",
   "metadata": {},
   "outputs": [],
   "source": [
    "# load the data\n",
    "balf_corrected = sc.read_h5ad(out_path + 'batch_corrected_balf_covid.h5ad')\n",
    "log1p = balf_corrected.raw.to_adata()"
   ]
  },
  {
   "cell_type": "code",
   "execution_count": 9,
   "id": "822e3c34",
   "metadata": {},
   "outputs": [],
   "source": [
    "# # subset for quicker running as an example\n",
    "# np.random.seed(seed)\n",
    "# sub = np.random.choice(range(log1p.n_obs), size=3000, replace=False)\n",
    "# log1p = log1p[sub,]\n",
    "\n",
    "# format the manifold information\n",
    "manifold = pd.DataFrame(log1p.obsm['X_pca'])\n",
    "manifold.index = log1p.obs_names"
   ]
  },
  {
   "cell_type": "code",
   "execution_count": 10,
   "id": "6f0bc2eb",
   "metadata": {},
   "outputs": [
    {
     "data": {
      "text/html": [
       "<div>\n",
       "<style scoped>\n",
       "    .dataframe tbody tr th:only-of-type {\n",
       "        vertical-align: middle;\n",
       "    }\n",
       "\n",
       "    .dataframe tbody tr th {\n",
       "        vertical-align: top;\n",
       "    }\n",
       "\n",
       "    .dataframe thead th {\n",
       "        text-align: right;\n",
       "    }\n",
       "</style>\n",
       "<table border=\"1\" class=\"dataframe\">\n",
       "  <thead>\n",
       "    <tr style=\"text-align: right;\">\n",
       "      <th></th>\n",
       "      <th>Sample_ID</th>\n",
       "      <th>Context</th>\n",
       "      <th>cell_type</th>\n",
       "    </tr>\n",
       "  </thead>\n",
       "  <tbody>\n",
       "    <tr>\n",
       "      <th>AAACCTGAGGAATCGC-1</th>\n",
       "      <td>C148</td>\n",
       "      <td>Severe_Covid</td>\n",
       "      <td>Macrophages</td>\n",
       "    </tr>\n",
       "    <tr>\n",
       "      <th>AAACCTGTCCAGAAGG-1</th>\n",
       "      <td>C148</td>\n",
       "      <td>Severe_Covid</td>\n",
       "      <td>Macrophages</td>\n",
       "    </tr>\n",
       "    <tr>\n",
       "      <th>AAACCTGTCCAGTAGT-1</th>\n",
       "      <td>C148</td>\n",
       "      <td>Severe_Covid</td>\n",
       "      <td>Macrophages</td>\n",
       "    </tr>\n",
       "    <tr>\n",
       "      <th>AAACCTGTCTGGGCCA-1</th>\n",
       "      <td>C148</td>\n",
       "      <td>Severe_Covid</td>\n",
       "      <td>Macrophages</td>\n",
       "    </tr>\n",
       "    <tr>\n",
       "      <th>AAACGGGCACGAGGTA-1</th>\n",
       "      <td>C148</td>\n",
       "      <td>Severe_Covid</td>\n",
       "      <td>T</td>\n",
       "    </tr>\n",
       "  </tbody>\n",
       "</table>\n",
       "</div>"
      ],
      "text/plain": [
       "                   Sample_ID       Context    cell_type\n",
       "AAACCTGAGGAATCGC-1      C148  Severe_Covid  Macrophages\n",
       "AAACCTGTCCAGAAGG-1      C148  Severe_Covid  Macrophages\n",
       "AAACCTGTCCAGTAGT-1      C148  Severe_Covid  Macrophages\n",
       "AAACCTGTCTGGGCCA-1      C148  Severe_Covid  Macrophages\n",
       "AAACGGGCACGAGGTA-1      C148  Severe_Covid            T"
      ]
     },
     "execution_count": 10,
     "metadata": {},
     "output_type": "execute_result"
    }
   ],
   "source": [
    "# preview the metadata\n",
    "log1p.obs[['Sample_ID', 'Context', 'cell_type']].head()"
   ]
  },
  {
   "cell_type": "markdown",
   "id": "30fd1134",
   "metadata": {},
   "source": [
    "This tutorial was written to analyze multiple samples/contexts to incorporate into Tensor-cell2cell. If you want to score for just one sample/context, you can use the same code. Set a metadata context column with a single context label. \n",
    "\n",
    "In our case, the we use the 'Sample_ID' as the context column. If we didn't have unique contexts, we can create it as follows:"
   ]
  },
  {
   "cell_type": "code",
   "execution_count": 15,
   "id": "162bfe26",
   "metadata": {},
   "outputs": [],
   "source": [
    "# log1p.obs['Sample_ID'] = 'balf_covid'"
   ]
  },
  {
   "cell_type": "markdown",
   "id": "8615101b",
   "metadata": {},
   "source": [
    "Initialize the CellComposition object with the expression dataframe, metadata, and PCA manifold. We specify the context as the sample, and will use the higher-order disease context for downstream analyses and visualizations:"
   ]
  },
  {
   "cell_type": "code",
   "execution_count": 13,
   "id": "db5d95f8",
   "metadata": {},
   "outputs": [],
   "source": [
    "cc = CellComposition(expr = log1p.to_df().T, \n",
    "                     metadata = log1p.obs, context_label = 'Sample_ID', cellgroup_label= 'cell_type',\n",
    "                    manifold = manifold)"
   ]
  },
  {
   "cell_type": "markdown",
   "id": "9f615caa",
   "metadata": {},
   "source": [
    "If you do not have a manifold and want to use a composition scoring method such as meld that requires one, you can calculate it as follows:"
   ]
  },
  {
   "cell_type": "code",
   "execution_count": 163,
   "id": "f14062a6",
   "metadata": {},
   "outputs": [],
   "source": [
    "# cc.run_pca(n_pcs = 100)"
   ]
  },
  {
   "cell_type": "markdown",
   "id": "9fc894d3",
   "metadata": {},
   "source": [
    "Score the composition using one of the available methods: 'frequency', 'meld', \n",
    "\n"
   ]
  },
  {
   "cell_type": "markdown",
   "id": "1b2c25b2",
   "metadata": {},
   "source": [
    "Using the frequency method is the simplest: the \"composition score\" is simply the cell type frequency in a given context, is already aggregated for cell type, and can be run even if you have just one context:"
   ]
  },
  {
   "cell_type": "code",
   "execution_count": 14,
   "id": "ce261132",
   "metadata": {},
   "outputs": [],
   "source": [
    "cc.score_composition(score_type='frequency')"
   ]
  },
  {
   "cell_type": "markdown",
   "id": "e41f11e4",
   "metadata": {},
   "source": [
    "We can view the composition scores for each context. Let's see what it looks like for sample C51:"
   ]
  },
  {
   "cell_type": "code",
   "execution_count": 15,
   "id": "b9e11110",
   "metadata": {},
   "outputs": [
    {
     "data": {
      "text/html": [
       "<div>\n",
       "<style scoped>\n",
       "    .dataframe tbody tr th:only-of-type {\n",
       "        vertical-align: middle;\n",
       "    }\n",
       "\n",
       "    .dataframe tbody tr th {\n",
       "        vertical-align: top;\n",
       "    }\n",
       "\n",
       "    .dataframe thead th {\n",
       "        text-align: right;\n",
       "    }\n",
       "</style>\n",
       "<table border=\"1\" class=\"dataframe\">\n",
       "  <thead>\n",
       "    <tr style=\"text-align: right;\">\n",
       "      <th></th>\n",
       "      <th>Composition_Score</th>\n",
       "    </tr>\n",
       "    <tr>\n",
       "      <th>cell_type</th>\n",
       "      <th></th>\n",
       "    </tr>\n",
       "  </thead>\n",
       "  <tbody>\n",
       "    <tr>\n",
       "      <th>B</th>\n",
       "      <td>0.001774</td>\n",
       "    </tr>\n",
       "    <tr>\n",
       "      <th>Epithelial</th>\n",
       "      <td>0.001538</td>\n",
       "    </tr>\n",
       "    <tr>\n",
       "      <th>Macrophages</th>\n",
       "      <td>0.936243</td>\n",
       "    </tr>\n",
       "    <tr>\n",
       "      <th>Mast</th>\n",
       "      <td>0.000000</td>\n",
       "    </tr>\n",
       "    <tr>\n",
       "      <th>NK</th>\n",
       "      <td>0.000591</td>\n",
       "    </tr>\n",
       "  </tbody>\n",
       "</table>\n",
       "</div>"
      ],
      "text/plain": [
       "             Composition_Score\n",
       "cell_type                     \n",
       "B                     0.001774\n",
       "Epithelial            0.001538\n",
       "Macrophages           0.936243\n",
       "Mast                  0.000000\n",
       "NK                    0.000591"
      ]
     },
     "execution_count": 15,
     "metadata": {},
     "output_type": "execute_result"
    }
   ],
   "source": [
    "cc.aggregate_composition_score['C51'].head()"
   ]
  },
  {
   "cell_type": "markdown",
   "id": "142fddc4",
   "metadata": {},
   "source": [
    "We can use more complex methods, including those that give composition scores at the single-cell resolution. Here, we show an example of single-cell resolution composition scoring using \"meld\" (https://doi.org/10.1038/s41587-020-00803-5), a method that requires atleast 2 contexts:"
   ]
  },
  {
   "cell_type": "code",
   "execution_count": 166,
   "id": "12561de3",
   "metadata": {},
   "outputs": [
    {
     "name": "stdout",
     "output_type": "stream",
     "text": [
      "Building graph on 3000 samples and 100 features.\n",
      "Calculating graph and diffusion operator...\n",
      "  Calculating KNN search...\n",
      "  Calculated KNN search in 1.14 seconds.\n",
      "  Calculating affinities...\n",
      "  Calculated affinities in 0.32 seconds.\n",
      "Calculated graph and diffusion operator in 1.55 seconds.\n"
     ]
    }
   ],
   "source": [
    "cc.score_composition(score_type='meld')"
   ]
  },
  {
   "cell_type": "markdown",
   "id": "62829201",
   "metadata": {},
   "source": [
    "Since MELD scores composition at the single-cell resolution, this is stored as a dictionary of (barcode, composition_score) pairs in the attribute \"cc.barcode_composition_score\". For such methods, we must aggregate to the cell type resolution, since this is the resolution communication scoring is conducted at. \n",
    "\n",
    "When aggregating, NaN values may result if a cell type was not present in a context. By default, we fill these with 0 since they are not present. "
   ]
  },
  {
   "cell_type": "code",
   "execution_count": 167,
   "id": "95982ce7",
   "metadata": {},
   "outputs": [],
   "source": [
    "cc.get_aggregate_composition_score(aggregation_method='median', fill_na = 0)"
   ]
  },
  {
   "cell_type": "markdown",
   "id": "29d7cffe",
   "metadata": {},
   "source": [
    "Again, let's see what sample C51 looks like after aggregation:"
   ]
  },
  {
   "cell_type": "code",
   "execution_count": 168,
   "id": "6d1b2728",
   "metadata": {},
   "outputs": [
    {
     "data": {
      "text/html": [
       "<div>\n",
       "<style scoped>\n",
       "    .dataframe tbody tr th:only-of-type {\n",
       "        vertical-align: middle;\n",
       "    }\n",
       "\n",
       "    .dataframe tbody tr th {\n",
       "        vertical-align: top;\n",
       "    }\n",
       "\n",
       "    .dataframe thead th {\n",
       "        text-align: right;\n",
       "    }\n",
       "</style>\n",
       "<table border=\"1\" class=\"dataframe\">\n",
       "  <thead>\n",
       "    <tr style=\"text-align: right;\">\n",
       "      <th></th>\n",
       "      <th>Composition_Score</th>\n",
       "    </tr>\n",
       "    <tr>\n",
       "      <th>cell_type</th>\n",
       "      <th></th>\n",
       "    </tr>\n",
       "  </thead>\n",
       "  <tbody>\n",
       "    <tr>\n",
       "      <th>B</th>\n",
       "      <td>0.101434</td>\n",
       "    </tr>\n",
       "    <tr>\n",
       "      <th>Epithelial</th>\n",
       "      <td>0.000000</td>\n",
       "    </tr>\n",
       "    <tr>\n",
       "      <th>Macrophages</th>\n",
       "      <td>0.100636</td>\n",
       "    </tr>\n",
       "    <tr>\n",
       "      <th>NK</th>\n",
       "      <td>0.000000</td>\n",
       "    </tr>\n",
       "    <tr>\n",
       "      <th>Neutrophil</th>\n",
       "      <td>0.000000</td>\n",
       "    </tr>\n",
       "  </tbody>\n",
       "</table>\n",
       "</div>"
      ],
      "text/plain": [
       "             Composition_Score\n",
       "cell_type                     \n",
       "B                     0.101434\n",
       "Epithelial            0.000000\n",
       "Macrophages           0.100636\n",
       "NK                    0.000000\n",
       "Neutrophil            0.000000"
      ]
     },
     "execution_count": 168,
     "metadata": {},
     "output_type": "execute_result"
    }
   ],
   "source": [
    "cc.aggregate_composition_score['C51'].head()"
   ]
  },
  {
   "cell_type": "markdown",
   "id": "b84954a4",
   "metadata": {},
   "source": [
    "To proceed, we must ensure each context has an associated aggregate composition score for each cell type. This is the input you can provide as a user as well, if you have your own composition scores."
   ]
  },
  {
   "cell_type": "markdown",
   "id": "6aee9512",
   "metadata": {},
   "source": [
    "Going forward, we have two options for incorporating composition into the communication score. \n",
    "\n",
    "Option N: Directly scaling gene expression by composition prior to calculating communication\n",
    "\n",
    "\n",
    "Option 2: Incorporate composition after calculating the communication score "
   ]
  },
  {
   "cell_type": "markdown",
   "id": "a30b2d39",
   "metadata": {},
   "source": [
    "#### Mathematically, this is done as follows:\n",
    "\n",
    "from gene expression matrix:\n",
    "$$L\\equiv\\text{sender cell ligand expression}, R\\equiv\\text{target cell receptor expression}$$\n",
    "\n",
    "calculated above and stored in CellComposition.aggregate_composition_score: \n",
    "$$S\\equiv\\text{sender cell composition score}\\in[0,1]$$\n",
    "$$T\\equiv\\text{target cell composition score}\\in[0,1]$$\n",
    "\n",
    "For either option, the terms being combined must lie on the same scale. Once they are on equivalent scales, we can introduce a weighting parameter *lambda* to weight composition vs expression. Specifically, we will calculate a weighted average.\n",
    "\n",
    "##### Option N: Directly scaling gene expression by composition prior to calculating communication\n",
    "In this case, we will modify S and T to lie on the same scale as L and R.  We recommend using scaled expression data. To achieve this, we multiply all composition scores by the maximum expression count across all contexts. Since composition scores are [0,1], multiplying by this value will put them on the same scales, with the largest composition score being at most the largest expression value. \n",
    "\n",
    "$$S' = expr_{\\text{contexts,max}}*S$$\n",
    "$$T' = expr_{\\text{contexts,max}}*T$$\n",
    "\n",
    "$$L'\\equiv\\text{weighted sender cell ligand expression} = f(S',L) = \\lambda S' + (1-\\lambda )L$$\n",
    "$$R'\\equiv\\text{weighted sender cell ligand expression} = g(T',R) = \\lambda T' + (1-\\lambda )R$$\n",
    "$$WCS\\equiv\\text{weighted communication score} = h(L', R')$$ \n",
    "\n",
    "In this case, *WCS*, is the same scoring function used with the internal methods in Part 4, but with modified values for L and R.\n",
    "\n",
    "\n",
    "##### Option 1: Incorporate composition after calculating the communication score\n",
    "calculated in Part 4:\n",
    "$$CS\\equiv\\text{expression communication score} = {g_\\text{S,T}}(L,R)$$\n",
    "\n",
    "Here, we modify the CS to ensure that it lies between [0,1]. We can apply the following normalization:\n",
    "$${g'_\\text{S,T}}(L,R) = \\frac{CS}{CS_\\text{max}}$$\n",
    "where $$CS_\\text{max}\\equiv\\text{maximum CS across all contexts}$$\n",
    "\n",
    "We take the maximum across all contexts rather than within a context to ensure that the relative communication scores across contexts are accounted for when re-structuring into a tensor.\n",
    "\n",
    "Since the communication score CS is calculated pairwise between cells already, we must calculate a pairwise composition score:\n",
    "\n",
    "$$FS\\equiv\\text{pairwise composition score} = f(S,T) \\in[0,1]$$\n",
    "\n",
    "We use the mean, median, or mean as *f* in this instance. Since S and T are both [0,1], FS will be [0,1] <br>\n",
    "Note that since *S* and *T* are the aggregate composition scores aggregated by cell type, this is a \"mean of means\"\n",
    "\n",
    "Now, we have a pairwise LR communication score *CS* and a pairwise composition score *FS* both between [0,1], such that we can weight CS by FS. \n",
    "\n",
    "A) We can do this using a weighted average:\n",
    "\n",
    "$$WCS\\equiv\\text{weighted communication score} = h(L, R, S, T) = \\lambda f(S,T) + (1-\\lambda ){g'_\\text{S,T}}(L,R)$$\n",
    "\n",
    "A weighted average (summation) works, because we can assume that if *f* is 0, *g* will also be 0 (i.e., if the sender and receiver cell were not present in a context, there will be no LR expression communication score in that context).\n",
    "\n",
    "B) Alternatively, we can weight CS by FS using a direct scaling (multiplicative):\n",
    "\n",
    "$$WCS\\equiv\\text{weighted communication score} = h(L, R, S, T) = f(S,T) * g'_\\text{S,T}(L,R)$$"
   ]
  },
  {
   "cell_type": "markdown",
   "id": "49b3b7ca",
   "metadata": {},
   "source": [
    "## Option N:\n",
    "\n",
    "not incorporated"
   ]
  },
  {
   "cell_type": "code",
   "execution_count": 193,
   "id": "3eccfef6",
   "metadata": {},
   "outputs": [],
   "source": [
    "# max_count = self.expr.max().max()\n",
    "# self.scaled_aggregate_composition_score = {}\n",
    "# for context, composition_scores in self.aggregate_composition_score:\n",
    "#     scaled_composition_scores = composition_scores.copy()\n",
    "#     scaled_composition_scores['Composition_Score'] = composition_scores.Composition_Score*max_count\n",
    "#     self.scaled_aggregate_composition_score[context] = scaled_composition_scores\n",
    "# self.scaled_barcde_composition_scores = dict(zip(self.barcode_composition_score, np.array(list(self.barcode_composition_score.values()))*max_count))"
   ]
  },
  {
   "cell_type": "code",
   "execution_count": 33,
   "id": "36fbb514",
   "metadata": {},
   "outputs": [],
   "source": [
    "# TODO: when doing this, make sure to check that S, T, L, and R all lie [0,1]\n",
    "\n",
    "#1) aggregate expression by cell type\n",
    "#2) weight the expression by composition\n",
    "#3) run into scoring function"
   ]
  },
  {
   "cell_type": "markdown",
   "id": "b4f789d4",
   "metadata": {},
   "source": [
    "## Option 1:"
   ]
  },
  {
   "cell_type": "markdown",
   "id": "a0dc4f93",
   "metadata": {},
   "source": [
    "First, we must calculate a pairwise composition score that combines the individual composition scores. We recommend using the geometric mean because this will make any pair of cell composition scores 0 if one of the two is 0. "
   ]
  },
  {
   "cell_type": "code",
   "execution_count": 16,
   "id": "e287843d",
   "metadata": {},
   "outputs": [],
   "source": [
    "pairwise_composition_scores = {}\n",
    "for context, composition_score in cc.aggregate_composition_score.items():\n",
    "    pairwise_composition_scores[context] = \\\n",
    "                            CellComposition.get_pairwise_composition_score(composition_score, method='gmean')"
   ]
  },
  {
   "cell_type": "markdown",
   "id": "3cae959b",
   "metadata": {},
   "source": [
    "The result is a flattened diagonal matrix of pairwise composition scores:"
   ]
  },
  {
   "cell_type": "code",
   "execution_count": 17,
   "id": "c23620ce",
   "metadata": {},
   "outputs": [
    {
     "data": {
      "text/html": [
       "<div>\n",
       "<style scoped>\n",
       "    .dataframe tbody tr th:only-of-type {\n",
       "        vertical-align: middle;\n",
       "    }\n",
       "\n",
       "    .dataframe tbody tr th {\n",
       "        vertical-align: top;\n",
       "    }\n",
       "\n",
       "    .dataframe thead th {\n",
       "        text-align: right;\n",
       "    }\n",
       "</style>\n",
       "<table border=\"1\" class=\"dataframe\">\n",
       "  <thead>\n",
       "    <tr style=\"text-align: right;\">\n",
       "      <th></th>\n",
       "      <th>Composition_Score</th>\n",
       "    </tr>\n",
       "  </thead>\n",
       "  <tbody>\n",
       "    <tr>\n",
       "      <th>B-B</th>\n",
       "      <td>0.001774</td>\n",
       "    </tr>\n",
       "    <tr>\n",
       "      <th>B-Epithelial</th>\n",
       "      <td>0.001652</td>\n",
       "    </tr>\n",
       "    <tr>\n",
       "      <th>B-Macrophages</th>\n",
       "      <td>0.040758</td>\n",
       "    </tr>\n",
       "    <tr>\n",
       "      <th>B-Mast</th>\n",
       "      <td>0.000000</td>\n",
       "    </tr>\n",
       "    <tr>\n",
       "      <th>B-NK</th>\n",
       "      <td>0.001024</td>\n",
       "    </tr>\n",
       "  </tbody>\n",
       "</table>\n",
       "</div>"
      ],
      "text/plain": [
       "               Composition_Score\n",
       "B-B                     0.001774\n",
       "B-Epithelial            0.001652\n",
       "B-Macrophages           0.040758\n",
       "B-Mast                  0.000000\n",
       "B-NK                    0.001024"
      ]
     },
     "execution_count": 17,
     "metadata": {},
     "output_type": "execute_result"
    }
   ],
   "source": [
    "pairwise_composition_scores['C51'].head()"
   ]
  },
  {
   "cell_type": "markdown",
   "id": "bee0ef75",
   "metadata": {},
   "source": [
    "Next, we ensure that our LR scores are b/w [0,1] such that when we later weight the composition and LR communication scores, they are on equivalent scales (composition scores should be between [0,1] already).\n",
    "\n",
    "This step is only necessary if your communication scores are not already between [0,1]. For example, if you followed tutorial 2A, communication scores are already between 0 and 1. "
   ]
  },
  {
   "cell_type": "code",
   "execution_count": 180,
   "id": "62b9109e",
   "metadata": {},
   "outputs": [],
   "source": [
    "tensor = c2c.io.load_variable_with_pickle(out_path + 'tensor_internal.pkl')\n",
    "tensor = normalize_lr_scores_by_max(tensor)"
   ]
  },
  {
   "cell_type": "markdown",
   "id": "83e1fc8d",
   "metadata": {},
   "source": [
    "Finally, we weight the LR communication scores by the pairwise communication scores by the weighted average (with the weightin parameter \"composition_weight\"):"
   ]
  },
  {
   "cell_type": "code",
   "execution_count": 181,
   "id": "b44200c1",
   "metadata": {},
   "outputs": [],
   "source": [
    "tensor = weight_tensor_by_composition(tensor = tensor, \n",
    "                                     pairwise_composition_scores = pairwise_composition_scores, \n",
    "                                      method = 'weighted_average',\n",
    "                                     composition_weight = 0.25)"
   ]
  },
  {
   "cell_type": "markdown",
   "id": "b02fca30",
   "metadata": {},
   "source": [
    "Save the tensor:"
   ]
  },
  {
   "cell_type": "code",
   "execution_count": 182,
   "id": "3239aefe",
   "metadata": {},
   "outputs": [
    {
     "name": "stdout",
     "output_type": "stream",
     "text": [
      "/data3/hratch/c2c_general/tensor_cellcompositionweighted_internal.pkl  was correctly saved.\n"
     ]
    }
   ],
   "source": [
    "c2c.io.export_variable_with_pickle(tensor, out_path + 'tensor_cellcompositionweighted_internal.pkl')"
   ]
  },
  {
   "cell_type": "markdown",
   "id": "b84b5833",
   "metadata": {},
   "source": [
    "Note, communication score scaling and weighting by composition can also be done if you do not yet have a tensor built. The format in this case for the LR communication scores would be a dictionary with keys as contexts and values as the communication matrix."
   ]
  },
  {
   "cell_type": "code",
   "execution_count": 157,
   "id": "c729a168",
   "metadata": {},
   "outputs": [],
   "source": [
    "def tensor_to_communication_matrix(tensor: InteractionTensor, cell_delim: str = '-'):\n",
    "    lr_communication_scores = dict()\n",
    "    for context in tensor.order_names[0]:\n",
    "        cm = pd.DataFrame(tensor.tensor[tensor.order_names[0].index(context),:,:,:].reshape((len(tensor.order_names[1]), len(tensor.order_names[2])*len(tensor.order_names[3]))))\n",
    "        cm.columns = [cell_delim.join(cp) for cp in itertools.product(tensor.order_names[2], tensor.order_names[3])]\n",
    "        cm.index = tensor.order_names[1]\n",
    "        lr_communication_scores[context] = cm\n",
    "    \n",
    "    return lr_communication_scores\n",
    "\n",
    "tensor = c2c.io.load_variable_with_pickle(out_path + 'tensor_internal.pkl')\n",
    "lr_communication_scores = tensor_to_communication_matrix(tensor)"
   ]
  },
  {
   "cell_type": "code",
   "execution_count": 159,
   "id": "d9985c6f",
   "metadata": {},
   "outputs": [],
   "source": [
    "lr_communication_scores = normalize_lr_scores_by_max(lr_communication_scores)"
   ]
  },
  {
   "cell_type": "code",
   "execution_count": 160,
   "id": "f392c05d",
   "metadata": {},
   "outputs": [
    {
     "data": {
      "text/html": [
       "<div>\n",
       "<style scoped>\n",
       "    .dataframe tbody tr th:only-of-type {\n",
       "        vertical-align: middle;\n",
       "    }\n",
       "\n",
       "    .dataframe tbody tr th {\n",
       "        vertical-align: top;\n",
       "    }\n",
       "\n",
       "    .dataframe thead th {\n",
       "        text-align: right;\n",
       "    }\n",
       "</style>\n",
       "<table border=\"1\" class=\"dataframe\">\n",
       "  <thead>\n",
       "    <tr style=\"text-align: right;\">\n",
       "      <th></th>\n",
       "      <th>B-B</th>\n",
       "      <th>B-Epithelial</th>\n",
       "      <th>B-Macrophages</th>\n",
       "      <th>B-NK</th>\n",
       "      <th>B-T</th>\n",
       "      <th>B-mDC</th>\n",
       "      <th>Epithelial-B</th>\n",
       "      <th>Epithelial-Epithelial</th>\n",
       "      <th>Epithelial-Macrophages</th>\n",
       "      <th>Epithelial-NK</th>\n",
       "      <th>...</th>\n",
       "      <th>T-Macrophages</th>\n",
       "      <th>T-NK</th>\n",
       "      <th>T-T</th>\n",
       "      <th>T-mDC</th>\n",
       "      <th>mDC-B</th>\n",
       "      <th>mDC-Epithelial</th>\n",
       "      <th>mDC-Macrophages</th>\n",
       "      <th>mDC-NK</th>\n",
       "      <th>mDC-T</th>\n",
       "      <th>mDC-mDC</th>\n",
       "    </tr>\n",
       "  </thead>\n",
       "  <tbody>\n",
       "    <tr>\n",
       "      <th>TGFB1^TGFBR1&amp;TGFBR2</th>\n",
       "      <td>0.133333</td>\n",
       "      <td>0.210256</td>\n",
       "      <td>0.187850</td>\n",
       "      <td>0.133333</td>\n",
       "      <td>0.153554</td>\n",
       "      <td>0.165942</td>\n",
       "      <td>0.038462</td>\n",
       "      <td>0.115385</td>\n",
       "      <td>0.092978</td>\n",
       "      <td>0.038462</td>\n",
       "      <td>...</td>\n",
       "      <td>0.151943</td>\n",
       "      <td>0.097426</td>\n",
       "      <td>0.117647</td>\n",
       "      <td>0.130035</td>\n",
       "      <td>0.065217</td>\n",
       "      <td>0.142140</td>\n",
       "      <td>0.119734</td>\n",
       "      <td>0.065217</td>\n",
       "      <td>0.085438</td>\n",
       "      <td>0.097826</td>\n",
       "    </tr>\n",
       "    <tr>\n",
       "      <th>TGFB1^ACVR1B&amp;TGFBR2</th>\n",
       "      <td>0.133333</td>\n",
       "      <td>0.248718</td>\n",
       "      <td>0.150895</td>\n",
       "      <td>0.133333</td>\n",
       "      <td>0.142525</td>\n",
       "      <td>0.139855</td>\n",
       "      <td>0.038462</td>\n",
       "      <td>0.153846</td>\n",
       "      <td>0.056023</td>\n",
       "      <td>0.038462</td>\n",
       "      <td>...</td>\n",
       "      <td>0.114988</td>\n",
       "      <td>0.097426</td>\n",
       "      <td>0.106618</td>\n",
       "      <td>0.103948</td>\n",
       "      <td>0.065217</td>\n",
       "      <td>0.180602</td>\n",
       "      <td>0.082779</td>\n",
       "      <td>0.065217</td>\n",
       "      <td>0.074409</td>\n",
       "      <td>0.071739</td>\n",
       "    </tr>\n",
       "    <tr>\n",
       "      <th>TGFB1^ACVR1&amp;TGFBR1&amp;TGFBR2</th>\n",
       "      <td>0.133333</td>\n",
       "      <td>0.171795</td>\n",
       "      <td>0.153169</td>\n",
       "      <td>0.133333</td>\n",
       "      <td>0.153554</td>\n",
       "      <td>0.144203</td>\n",
       "      <td>0.038462</td>\n",
       "      <td>0.076923</td>\n",
       "      <td>0.058297</td>\n",
       "      <td>0.038462</td>\n",
       "      <td>...</td>\n",
       "      <td>0.117262</td>\n",
       "      <td>0.097426</td>\n",
       "      <td>0.117647</td>\n",
       "      <td>0.108296</td>\n",
       "      <td>0.065217</td>\n",
       "      <td>0.103679</td>\n",
       "      <td>0.085053</td>\n",
       "      <td>0.065217</td>\n",
       "      <td>0.085438</td>\n",
       "      <td>0.076087</td>\n",
       "    </tr>\n",
       "    <tr>\n",
       "      <th>GDF11^TGFBR1&amp;ACVR2A</th>\n",
       "      <td>0.000000</td>\n",
       "      <td>0.076923</td>\n",
       "      <td>0.006380</td>\n",
       "      <td>0.000000</td>\n",
       "      <td>0.005515</td>\n",
       "      <td>0.000000</td>\n",
       "      <td>0.000000</td>\n",
       "      <td>0.076923</td>\n",
       "      <td>0.006380</td>\n",
       "      <td>0.000000</td>\n",
       "      <td>...</td>\n",
       "      <td>0.019248</td>\n",
       "      <td>0.012868</td>\n",
       "      <td>0.018382</td>\n",
       "      <td>0.012868</td>\n",
       "      <td>0.004348</td>\n",
       "      <td>0.081271</td>\n",
       "      <td>0.010728</td>\n",
       "      <td>0.004348</td>\n",
       "      <td>0.009863</td>\n",
       "      <td>0.004348</td>\n",
       "    </tr>\n",
       "    <tr>\n",
       "      <th>GDF11^TGFBR1&amp;ACVR2B</th>\n",
       "      <td>0.000000</td>\n",
       "      <td>0.038462</td>\n",
       "      <td>0.005496</td>\n",
       "      <td>0.000000</td>\n",
       "      <td>0.005515</td>\n",
       "      <td>0.002174</td>\n",
       "      <td>0.000000</td>\n",
       "      <td>0.038462</td>\n",
       "      <td>0.005496</td>\n",
       "      <td>0.000000</td>\n",
       "      <td>...</td>\n",
       "      <td>0.018364</td>\n",
       "      <td>0.012868</td>\n",
       "      <td>0.018382</td>\n",
       "      <td>0.015042</td>\n",
       "      <td>0.004348</td>\n",
       "      <td>0.042809</td>\n",
       "      <td>0.009844</td>\n",
       "      <td>0.004348</td>\n",
       "      <td>0.009863</td>\n",
       "      <td>0.006522</td>\n",
       "    </tr>\n",
       "  </tbody>\n",
       "</table>\n",
       "<p>5 rows × 36 columns</p>\n",
       "</div>"
      ],
      "text/plain": [
       "                                B-B  B-Epithelial  B-Macrophages      B-NK  \\\n",
       "TGFB1^TGFBR1&TGFBR2        0.133333      0.210256       0.187850  0.133333   \n",
       "TGFB1^ACVR1B&TGFBR2        0.133333      0.248718       0.150895  0.133333   \n",
       "TGFB1^ACVR1&TGFBR1&TGFBR2  0.133333      0.171795       0.153169  0.133333   \n",
       "GDF11^TGFBR1&ACVR2A        0.000000      0.076923       0.006380  0.000000   \n",
       "GDF11^TGFBR1&ACVR2B        0.000000      0.038462       0.005496  0.000000   \n",
       "\n",
       "                                B-T     B-mDC  Epithelial-B  \\\n",
       "TGFB1^TGFBR1&TGFBR2        0.153554  0.165942      0.038462   \n",
       "TGFB1^ACVR1B&TGFBR2        0.142525  0.139855      0.038462   \n",
       "TGFB1^ACVR1&TGFBR1&TGFBR2  0.153554  0.144203      0.038462   \n",
       "GDF11^TGFBR1&ACVR2A        0.005515  0.000000      0.000000   \n",
       "GDF11^TGFBR1&ACVR2B        0.005515  0.002174      0.000000   \n",
       "\n",
       "                           Epithelial-Epithelial  Epithelial-Macrophages  \\\n",
       "TGFB1^TGFBR1&TGFBR2                     0.115385                0.092978   \n",
       "TGFB1^ACVR1B&TGFBR2                     0.153846                0.056023   \n",
       "TGFB1^ACVR1&TGFBR1&TGFBR2               0.076923                0.058297   \n",
       "GDF11^TGFBR1&ACVR2A                     0.076923                0.006380   \n",
       "GDF11^TGFBR1&ACVR2B                     0.038462                0.005496   \n",
       "\n",
       "                           Epithelial-NK  ...  T-Macrophages      T-NK  \\\n",
       "TGFB1^TGFBR1&TGFBR2             0.038462  ...       0.151943  0.097426   \n",
       "TGFB1^ACVR1B&TGFBR2             0.038462  ...       0.114988  0.097426   \n",
       "TGFB1^ACVR1&TGFBR1&TGFBR2       0.038462  ...       0.117262  0.097426   \n",
       "GDF11^TGFBR1&ACVR2A             0.000000  ...       0.019248  0.012868   \n",
       "GDF11^TGFBR1&ACVR2B             0.000000  ...       0.018364  0.012868   \n",
       "\n",
       "                                T-T     T-mDC     mDC-B  mDC-Epithelial  \\\n",
       "TGFB1^TGFBR1&TGFBR2        0.117647  0.130035  0.065217        0.142140   \n",
       "TGFB1^ACVR1B&TGFBR2        0.106618  0.103948  0.065217        0.180602   \n",
       "TGFB1^ACVR1&TGFBR1&TGFBR2  0.117647  0.108296  0.065217        0.103679   \n",
       "GDF11^TGFBR1&ACVR2A        0.018382  0.012868  0.004348        0.081271   \n",
       "GDF11^TGFBR1&ACVR2B        0.018382  0.015042  0.004348        0.042809   \n",
       "\n",
       "                           mDC-Macrophages    mDC-NK     mDC-T   mDC-mDC  \n",
       "TGFB1^TGFBR1&TGFBR2               0.119734  0.065217  0.085438  0.097826  \n",
       "TGFB1^ACVR1B&TGFBR2               0.082779  0.065217  0.074409  0.071739  \n",
       "TGFB1^ACVR1&TGFBR1&TGFBR2         0.085053  0.065217  0.085438  0.076087  \n",
       "GDF11^TGFBR1&ACVR2A               0.010728  0.004348  0.009863  0.004348  \n",
       "GDF11^TGFBR1&ACVR2B               0.009844  0.004348  0.009863  0.006522  \n",
       "\n",
       "[5 rows x 36 columns]"
      ]
     },
     "execution_count": 160,
     "metadata": {},
     "output_type": "execute_result"
    }
   ],
   "source": [
    "lr_communication_scores['C51'].head()"
   ]
  },
  {
   "cell_type": "markdown",
   "id": "10ed351a",
   "metadata": {},
   "source": [
    "Weight the LR communication scores by the pairwise communication scores:"
   ]
  },
  {
   "cell_type": "code",
   "execution_count": 178,
   "id": "f210db2d",
   "metadata": {},
   "outputs": [],
   "source": [
    "final_communication_scores = {}\n",
    "for context in balf_corrected.obs.Sample_ID.unique():\n",
    "    pairwise_composition_score = pairwise_composition_scores[context]\n",
    "    lr_communication_score = lr_communication_scores[context]\n",
    "    \n",
    "    final_communication_scores[context] = weight_communication_matrix_by_composition(lr_communication_score,\n",
    "                                                                             pairwise_composition_score, \n",
    "                                                                             method = 'weighted_average',\n",
    "                                                                             composition_weight=0.25)"
   ]
  },
  {
   "cell_type": "code",
   "execution_count": 179,
   "id": "ee82d510",
   "metadata": {},
   "outputs": [
    {
     "data": {
      "text/html": [
       "<div>\n",
       "<style scoped>\n",
       "    .dataframe tbody tr th:only-of-type {\n",
       "        vertical-align: middle;\n",
       "    }\n",
       "\n",
       "    .dataframe tbody tr th {\n",
       "        vertical-align: top;\n",
       "    }\n",
       "\n",
       "    .dataframe thead th {\n",
       "        text-align: right;\n",
       "    }\n",
       "</style>\n",
       "<table border=\"1\" class=\"dataframe\">\n",
       "  <thead>\n",
       "    <tr style=\"text-align: right;\">\n",
       "      <th></th>\n",
       "      <th>B-B</th>\n",
       "      <th>B-Epithelial</th>\n",
       "      <th>B-Macrophages</th>\n",
       "      <th>B-NK</th>\n",
       "      <th>B-T</th>\n",
       "      <th>B-mDC</th>\n",
       "      <th>Epithelial-B</th>\n",
       "      <th>Epithelial-Epithelial</th>\n",
       "      <th>Epithelial-Macrophages</th>\n",
       "      <th>Epithelial-NK</th>\n",
       "      <th>...</th>\n",
       "      <th>T-Macrophages</th>\n",
       "      <th>T-NK</th>\n",
       "      <th>T-T</th>\n",
       "      <th>T-mDC</th>\n",
       "      <th>mDC-B</th>\n",
       "      <th>mDC-Epithelial</th>\n",
       "      <th>mDC-Macrophages</th>\n",
       "      <th>mDC-NK</th>\n",
       "      <th>mDC-T</th>\n",
       "      <th>mDC-mDC</th>\n",
       "    </tr>\n",
       "  </thead>\n",
       "  <tbody>\n",
       "    <tr>\n",
       "      <th>TGFB1^TGFBR1&amp;TGFBR2</th>\n",
       "      <td>0.100444</td>\n",
       "      <td>0.158105</td>\n",
       "      <td>0.151077</td>\n",
       "      <td>0.100256</td>\n",
       "      <td>0.117054</td>\n",
       "      <td>0.126193</td>\n",
       "      <td>0.029259</td>\n",
       "      <td>0.086923</td>\n",
       "      <td>0.079220</td>\n",
       "      <td>0.029085</td>\n",
       "      <td>...</td>\n",
       "      <td>0.157347</td>\n",
       "      <td>0.074160</td>\n",
       "      <td>0.096279</td>\n",
       "      <td>0.104923</td>\n",
       "      <td>0.050650</td>\n",
       "      <td>0.108222</td>\n",
       "      <td>0.129700</td>\n",
       "      <td>0.049916</td>\n",
       "      <td>0.071475</td>\n",
       "      <td>0.080171</td>\n",
       "    </tr>\n",
       "    <tr>\n",
       "      <th>TGFB1^ACVR1B&amp;TGFBR2</th>\n",
       "      <td>0.100444</td>\n",
       "      <td>0.186951</td>\n",
       "      <td>0.123361</td>\n",
       "      <td>0.100256</td>\n",
       "      <td>0.108782</td>\n",
       "      <td>0.106628</td>\n",
       "      <td>0.029259</td>\n",
       "      <td>0.115769</td>\n",
       "      <td>0.051503</td>\n",
       "      <td>0.029085</td>\n",
       "      <td>...</td>\n",
       "      <td>0.129631</td>\n",
       "      <td>0.074160</td>\n",
       "      <td>0.088007</td>\n",
       "      <td>0.085358</td>\n",
       "      <td>0.050650</td>\n",
       "      <td>0.137069</td>\n",
       "      <td>0.101984</td>\n",
       "      <td>0.049916</td>\n",
       "      <td>0.063203</td>\n",
       "      <td>0.060606</td>\n",
       "    </tr>\n",
       "    <tr>\n",
       "      <th>TGFB1^ACVR1&amp;TGFBR1&amp;TGFBR2</th>\n",
       "      <td>0.100444</td>\n",
       "      <td>0.129259</td>\n",
       "      <td>0.125066</td>\n",
       "      <td>0.100256</td>\n",
       "      <td>0.117054</td>\n",
       "      <td>0.109889</td>\n",
       "      <td>0.029259</td>\n",
       "      <td>0.058077</td>\n",
       "      <td>0.053209</td>\n",
       "      <td>0.029085</td>\n",
       "      <td>...</td>\n",
       "      <td>0.131336</td>\n",
       "      <td>0.074160</td>\n",
       "      <td>0.096279</td>\n",
       "      <td>0.088619</td>\n",
       "      <td>0.050650</td>\n",
       "      <td>0.079376</td>\n",
       "      <td>0.103689</td>\n",
       "      <td>0.049916</td>\n",
       "      <td>0.071475</td>\n",
       "      <td>0.063867</td>\n",
       "    </tr>\n",
       "    <tr>\n",
       "      <th>GDF11^TGFBR1&amp;ACVR2A</th>\n",
       "      <td>0.000444</td>\n",
       "      <td>0.058105</td>\n",
       "      <td>0.014975</td>\n",
       "      <td>0.000256</td>\n",
       "      <td>0.006025</td>\n",
       "      <td>0.001737</td>\n",
       "      <td>0.000413</td>\n",
       "      <td>0.058077</td>\n",
       "      <td>0.014271</td>\n",
       "      <td>0.000238</td>\n",
       "      <td>...</td>\n",
       "      <td>0.057826</td>\n",
       "      <td>0.010741</td>\n",
       "      <td>0.021830</td>\n",
       "      <td>0.017047</td>\n",
       "      <td>0.004998</td>\n",
       "      <td>0.062570</td>\n",
       "      <td>0.047946</td>\n",
       "      <td>0.004264</td>\n",
       "      <td>0.014793</td>\n",
       "      <td>0.010062</td>\n",
       "    </tr>\n",
       "    <tr>\n",
       "      <th>GDF11^TGFBR1&amp;ACVR2B</th>\n",
       "      <td>0.000444</td>\n",
       "      <td>0.029259</td>\n",
       "      <td>0.014311</td>\n",
       "      <td>0.000256</td>\n",
       "      <td>0.006025</td>\n",
       "      <td>0.003367</td>\n",
       "      <td>0.000413</td>\n",
       "      <td>0.029231</td>\n",
       "      <td>0.013608</td>\n",
       "      <td>0.000238</td>\n",
       "      <td>...</td>\n",
       "      <td>0.057162</td>\n",
       "      <td>0.010741</td>\n",
       "      <td>0.021830</td>\n",
       "      <td>0.018678</td>\n",
       "      <td>0.004998</td>\n",
       "      <td>0.033724</td>\n",
       "      <td>0.047282</td>\n",
       "      <td>0.004264</td>\n",
       "      <td>0.014793</td>\n",
       "      <td>0.011693</td>\n",
       "    </tr>\n",
       "  </tbody>\n",
       "</table>\n",
       "<p>5 rows × 36 columns</p>\n",
       "</div>"
      ],
      "text/plain": [
       "                                B-B  B-Epithelial  B-Macrophages      B-NK  \\\n",
       "TGFB1^TGFBR1&TGFBR2        0.100444      0.158105       0.151077  0.100256   \n",
       "TGFB1^ACVR1B&TGFBR2        0.100444      0.186951       0.123361  0.100256   \n",
       "TGFB1^ACVR1&TGFBR1&TGFBR2  0.100444      0.129259       0.125066  0.100256   \n",
       "GDF11^TGFBR1&ACVR2A        0.000444      0.058105       0.014975  0.000256   \n",
       "GDF11^TGFBR1&ACVR2B        0.000444      0.029259       0.014311  0.000256   \n",
       "\n",
       "                                B-T     B-mDC  Epithelial-B  \\\n",
       "TGFB1^TGFBR1&TGFBR2        0.117054  0.126193      0.029259   \n",
       "TGFB1^ACVR1B&TGFBR2        0.108782  0.106628      0.029259   \n",
       "TGFB1^ACVR1&TGFBR1&TGFBR2  0.117054  0.109889      0.029259   \n",
       "GDF11^TGFBR1&ACVR2A        0.006025  0.001737      0.000413   \n",
       "GDF11^TGFBR1&ACVR2B        0.006025  0.003367      0.000413   \n",
       "\n",
       "                           Epithelial-Epithelial  Epithelial-Macrophages  \\\n",
       "TGFB1^TGFBR1&TGFBR2                     0.086923                0.079220   \n",
       "TGFB1^ACVR1B&TGFBR2                     0.115769                0.051503   \n",
       "TGFB1^ACVR1&TGFBR1&TGFBR2               0.058077                0.053209   \n",
       "GDF11^TGFBR1&ACVR2A                     0.058077                0.014271   \n",
       "GDF11^TGFBR1&ACVR2B                     0.029231                0.013608   \n",
       "\n",
       "                           Epithelial-NK  ...  T-Macrophages      T-NK  \\\n",
       "TGFB1^TGFBR1&TGFBR2             0.029085  ...       0.157347  0.074160   \n",
       "TGFB1^ACVR1B&TGFBR2             0.029085  ...       0.129631  0.074160   \n",
       "TGFB1^ACVR1&TGFBR1&TGFBR2       0.029085  ...       0.131336  0.074160   \n",
       "GDF11^TGFBR1&ACVR2A             0.000238  ...       0.057826  0.010741   \n",
       "GDF11^TGFBR1&ACVR2B             0.000238  ...       0.057162  0.010741   \n",
       "\n",
       "                                T-T     T-mDC     mDC-B  mDC-Epithelial  \\\n",
       "TGFB1^TGFBR1&TGFBR2        0.096279  0.104923  0.050650        0.108222   \n",
       "TGFB1^ACVR1B&TGFBR2        0.088007  0.085358  0.050650        0.137069   \n",
       "TGFB1^ACVR1&TGFBR1&TGFBR2  0.096279  0.088619  0.050650        0.079376   \n",
       "GDF11^TGFBR1&ACVR2A        0.021830  0.017047  0.004998        0.062570   \n",
       "GDF11^TGFBR1&ACVR2B        0.021830  0.018678  0.004998        0.033724   \n",
       "\n",
       "                           mDC-Macrophages    mDC-NK     mDC-T   mDC-mDC  \n",
       "TGFB1^TGFBR1&TGFBR2               0.129700  0.049916  0.071475  0.080171  \n",
       "TGFB1^ACVR1B&TGFBR2               0.101984  0.049916  0.063203  0.060606  \n",
       "TGFB1^ACVR1&TGFBR1&TGFBR2         0.103689  0.049916  0.071475  0.063867  \n",
       "GDF11^TGFBR1&ACVR2A               0.047946  0.004264  0.014793  0.010062  \n",
       "GDF11^TGFBR1&ACVR2B               0.047282  0.004264  0.014793  0.011693  \n",
       "\n",
       "[5 rows x 36 columns]"
      ]
     },
     "execution_count": 179,
     "metadata": {},
     "output_type": "execute_result"
    }
   ],
   "source": [
    "final_communication_scores['C51'].head()"
   ]
  },
  {
   "cell_type": "markdown",
   "id": "bcc5c668",
   "metadata": {},
   "source": [
    "Note, to emulate CellChat's composition incorporation do the following:\n",
    "\n",
    "1) Calculate the composition score with the score_type = 'frequency' <br>\n",
    "2) Calculate the pairwise composition score with the method = 'product' <br>\n",
    "3) scale the communication by the composition with the method = 'product' <br>"
   ]
  }
 ],
 "metadata": {
  "kernelspec": {
   "display_name": "Python [conda env:FDA_collab] *",
   "language": "python",
   "name": "conda-env-FDA_collab-py"
  },
  "language_info": {
   "codemirror_mode": {
    "name": "ipython",
    "version": 3
   },
   "file_extension": ".py",
   "mimetype": "text/x-python",
   "name": "python",
   "nbconvert_exporter": "python",
   "pygments_lexer": "ipython3",
   "version": "3.9.10"
  }
 },
 "nbformat": 4,
 "nbformat_minor": 5
}
