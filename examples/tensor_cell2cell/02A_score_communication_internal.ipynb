{
 "cells": [
  {
   "cell_type": "markdown",
   "id": "f78bc754",
   "metadata": {},
   "source": [
    "# Scoring Communication\n",
    "\n",
    "TODO: EA will make this more comprehensive\n",
    "\n",
    "This tutorial will guide users from the processed expression matrix to a \"communication matrix\" for each context. A communication matrix has as columns cell type pairs, as rows ligand-receptor pairs, and as value a communication score indicating the strenght of the interaction. \n",
    "\n",
    "This tutorial show how to do this with cell2cell's native functions. See tutorial 02B to replace these steps with external tools run through LIANA"
   ]
  },
  {
   "cell_type": "code",
   "execution_count": 98,
   "id": "49dfc035",
   "metadata": {},
   "outputs": [],
   "source": [
    "import cell2cell as c2c\n",
    "\n",
    "import scanpy as sc\n",
    "import numpy as np\n",
    "from tqdm import tqdm\n",
    "\n",
    "import warnings\n",
    "warnings.filterwarnings('ignore')\n",
    "\n",
    "#from cell2cell....import CellComposition\n",
    "seed = 888\n",
    "np.random.seed(seed)"
   ]
  },
  {
   "cell_type": "code",
   "execution_count": null,
   "id": "ba1bf338",
   "metadata": {},
   "outputs": [],
   "source": [
    "out_path = '/data3/hratch/c2c_general/'"
   ]
  },
  {
   "cell_type": "markdown",
   "id": "69675946",
   "metadata": {},
   "source": [
    "First, load the processed object and assigned the expression matrix. In our case, we will proceed with log(1+CPM) data rather than the batch-corrected data, since this is the input to most CCC tools and does not introduce negative counts.  "
   ]
  },
  {
   "cell_type": "code",
   "execution_count": 86,
   "id": "4fadd5da",
   "metadata": {},
   "outputs": [],
   "source": [
    "balf_corrected = sc.read_h5ad(out_path + 'batch_corrected_balf_covid.h5ad') \n",
    "\n",
    "## assign batch corrected data as expression matrix\n",
    "# rnaseq = balf_corrected.to_df() \n",
    "# meta = balf_corrected.obs\n",
    "\n",
    "# assign loc(1+CPM) data as expression matrix\n",
    "log1p = balf_corrected.raw.to_adata()\n",
    "rnaseq = log1p.to_df().T\n",
    "meta = log1p.obs"
   ]
  },
  {
   "cell_type": "markdown",
   "id": "5a384efa",
   "metadata": {},
   "source": [
    "Or if you used R with tutorial 1B:"
   ]
  },
  {
   "cell_type": "code",
   "execution_count": null,
   "id": "af00a27a",
   "metadata": {},
   "outputs": [],
   "source": [
    "balf_corrected = sc.read_h5ad(out_path + 'Rbatch_corrected_balf_covid.h5ad') \n",
    "\n",
    "## assign batch corrected data as expression matrix\n",
    "# rnaseq = balf_corrected.to_df()\n",
    "# rnaseq.index = balfR.var.features\n",
    "\n",
    "# assign loc(1+CPM) data as expression matrix\n",
    "#TODO: couldnt find the log(1+CPM) assay in the saved file"
   ]
  },
  {
   "cell_type": "markdown",
   "id": "963a4608",
   "metadata": {},
   "source": [
    "# 1) Aggregate Expression"
   ]
  },
  {
   "cell_type": "markdown",
   "id": "44fbe45b",
   "metadata": {},
   "source": [
    "We split the expression matrix by sample and aggregate into cell types using the fraction of non-zero genes:"
   ]
  },
  {
   "cell_type": "code",
   "execution_count": 120,
   "id": "2cffa1d6",
   "metadata": {},
   "outputs": [
    {
     "name": "stderr",
     "output_type": "stream",
     "text": [
      "100%|███████████████████████████████████████████| 12/12 [01:05<00:00,  5.49s/it]\n"
     ]
    }
   ],
   "source": [
    "rnaseq_matrices = {}\n",
    "for sample in tqdm(meta.Sample_ID.unique()):\n",
    "    \n",
    "    # split expression matrix by sample\n",
    "    meta_context = meta[meta.Sample_ID == sample]\n",
    "    cells = list(meta_context.index) \n",
    "    tmp_data = rnaseq.loc[cells,:]\n",
    "    \n",
    "    meta_context.index.name = 'barcode'\n",
    "    # aggregate by fraction of non-zero genes\n",
    "    rnaseq_matrices[sample] = c2c.preprocessing.aggregate_single_cells(rnaseq_data=tmp_data,\n",
    "                                                  metadata=meta_context,\n",
    "                                                  barcode_col='barcode',\n",
    "                                                  celltype_col='cell_type',\n",
    "                                                  method='nn_cell_fraction',\n",
    "                                                 )"
   ]
  },
  {
   "cell_type": "markdown",
   "id": "fc365d1a",
   "metadata": {},
   "source": [
    "# 2) LR Pairs"
   ]
  },
  {
   "cell_type": "code",
   "execution_count": 121,
   "id": "9a921971",
   "metadata": {},
   "outputs": [
    {
     "name": "stdout",
     "output_type": "stream",
     "text": [
      "Removing bidirectionality of PPI network\n"
     ]
    }
   ],
   "source": [
    "lr_pairs = pd.read_csv('https://raw.githubusercontent.com/LewisLabUCSD/Ligand-Receptor-Pairs/master/Human/Human-2020-Jin-LR-pairs.csv')\n",
    "int_columns = ('ligand_symbol', 'receptor_symbol')\n",
    "lr_pairs = c2c.preprocessing.ppi.remove_ppi_bidirectionality(ppi_data=lr_pairs, \n",
    "                                                             interaction_columns=int_columns\n",
    "                                                             )\n",
    "\n",
    "ppi_functions = dict()\n",
    "\n",
    "for idx, row in lr_pairs.iterrows():\n",
    "    ppi_label = row[int_columns[0]] + '^' + row[int_columns[1]]\n",
    "    ppi_functions[ppi_label] = row['annotation']"
   ]
  },
  {
   "cell_type": "markdown",
   "id": "13ebd3bb",
   "metadata": {},
   "source": [
    "# 3) Calculating a LR Communication Score"
   ]
  },
  {
   "cell_type": "markdown",
   "id": "7a2df5cf",
   "metadata": {},
   "source": [
    "Here, we calculate a communication score from just the gene expression of the ligands and receptors. In Tutorial #3, we will further discuss how to account for cell composition.\n",
    "\n",
    "\n",
    "With the internal methods, we can combine communication scoring with tensor building (in tutorial 2B we will see how to score each sample separately using LIANA and subsequently build the tensor):"
   ]
  },
  {
   "cell_type": "markdown",
   "id": "d0709572",
   "metadata": {},
   "source": [
    "TODO: implementation and discussion of (HB utility script docstrings from CodeOcean has first two points)\n",
    "-outer vs inner for both LRs and cells\n",
    "-filling with 0 vs NaN\n",
    "-masking: tensor decomposition itself must have no NaNs. Masking will ignore any index in the mask. So, we mask NaN values only (not true zeros) and after generating the mask, fill NaNs with zeros. "
   ]
  },
  {
   "cell_type": "code",
   "execution_count": 123,
   "id": "b727c55d",
   "metadata": {},
   "outputs": [
    {
     "name": "stdout",
     "output_type": "stream",
     "text": [
      "Getting expression values for protein complexes\n",
      "Building tensor for the provided context\n"
     ]
    }
   ],
   "source": [
    "tensor = c2c.tensor.InteractionTensor(rnaseq_matrices=list(rnaseq_matrices.values()),\n",
    "                                      ppi_data=lr_pairs,\n",
    "                                      context_names=list(rnaseq_matrices.keys()),\n",
    "                                      how='inner',\n",
    "                                      complex_sep='&',\n",
    "                                      interaction_columns=int_columns,\n",
    "                                      communication_score='expression_mean',\n",
    "                                     )"
   ]
  },
  {
   "cell_type": "markdown",
   "id": "42115df9",
   "metadata": {},
   "source": [
    "Save the tensor"
   ]
  },
  {
   "cell_type": "code",
   "execution_count": 125,
   "id": "f2b805cd",
   "metadata": {},
   "outputs": [
    {
     "name": "stdout",
     "output_type": "stream",
     "text": [
      "/data3/hratch/c2c_general/tensor_internal.pkl  was correctly saved.\n"
     ]
    }
   ],
   "source": [
    "c2c.io.export_variable_with_pickle(tensor, out_path + 'tensor_internal.pkl')"
   ]
  }
 ],
 "metadata": {
  "kernelspec": {
   "display_name": "Python [conda env:FDA_collab] *",
   "language": "python",
   "name": "conda-env-FDA_collab-py"
  },
  "language_info": {
   "codemirror_mode": {
    "name": "ipython",
    "version": 3
   },
   "file_extension": ".py",
   "mimetype": "text/x-python",
   "name": "python",
   "nbconvert_exporter": "python",
   "pygments_lexer": "ipython3",
   "version": "3.9.10"
  }
 },
 "nbformat": 4,
 "nbformat_minor": 5
}
