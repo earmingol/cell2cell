{
 "cells": [
  {
   "cell_type": "markdown",
   "id": "f78bc754",
   "metadata": {},
   "source": [
    "# Scoring Communication Tutorial"
   ]
  },
  {
   "cell_type": "code",
   "execution_count": 1,
   "id": "49dfc035",
   "metadata": {},
   "outputs": [],
   "source": [
    "import scanpy as sc\n",
    "import numpy as np\n",
    "\n",
    "import warnings\n",
    "warnings.filterwarnings('ignore')\n",
    "\n",
    "from cell2cell.core.cell_composition import CellComposition, normalize_lr_scores_by_max, scale_by_composition\n",
    "\n",
    "seed = 888\n",
    "np.random.seed(seed)"
   ]
  },
  {
   "cell_type": "markdown",
   "id": "fabcd809",
   "metadata": {},
   "source": [
    "for a single context\n",
    "1) LR databases\n",
    "2) aggregating expression\n",
    "3) dealing with negative counts\n",
    "4) scoring options (internal + LIANA)\n",
    "5) cell composition "
   ]
  },
  {
   "cell_type": "markdown",
   "id": "13ebd3bb",
   "metadata": {},
   "source": [
    "# 4) Calculating a LR Communication Score"
   ]
  },
  {
   "cell_type": "markdown",
   "id": "7a2df5cf",
   "metadata": {},
   "source": [
    "Here, we calculate a communication score from just the gene expression of the ligands and receptors. In the proceeding section, we will further discuss how to account for cell composition."
   ]
  },
  {
   "cell_type": "markdown",
   "id": "62b8f97a",
   "metadata": {},
   "source": [
    "# 5) Accounting for Cell Composition"
   ]
  },
  {
   "cell_type": "markdown",
   "id": "1c031bb7",
   "metadata": {},
   "source": [
    "To account for cell composition, in each context, we first need a \"composition score\" associated with each cell type, representative of its relative composition/frequency. \n",
    "\n",
    "We have implemented a number of methods to calculate the composition score in the CellComposition class. If you have your own, simply format it as the CellComposition.aggregated_composition_score attribute. This is a dataframe with one column as the cell type, and the other as the \"Composition Score\". Composition scores should be between [0,1].\n",
    "\n",
    "Here, we show how to get composition scores from the expression data:"
   ]
  },
  {
   "cell_type": "code",
   "execution_count": 4,
   "id": "39c8e35a",
   "metadata": {},
   "outputs": [],
   "source": [
    "balf_corrected = sc.read_h5ad('/data3/hratch/c2c_general/batch_corrected_balf_covid.h5ad')"
   ]
  },
  {
   "cell_type": "code",
   "execution_count": 5,
   "id": "822e3c34",
   "metadata": {},
   "outputs": [],
   "source": [
    "# load the data\n",
    "balf_corrected = sc.read_h5ad('/data3/hratch/c2c_general/batch_corrected_balf_covid.h5ad')\n",
    "\n",
    "# subset for quicker running as an example\n",
    "np.random.seed(seed)\n",
    "sub = np.random.choice(range(balf_corrected.n_obs), size=3000, replace=False)\n",
    "balf_corrected = balf_corrected[sub,]\n",
    "\n",
    "# format the manifold information\n",
    "manifold = pd.DataFrame(balf_corrected.obsm['X_pca'])\n",
    "manifold.index = balf_corrected.obs_names"
   ]
  },
  {
   "cell_type": "code",
   "execution_count": 14,
   "id": "6f0bc2eb",
   "metadata": {},
   "outputs": [
    {
     "data": {
      "text/html": [
       "<div>\n",
       "<style scoped>\n",
       "    .dataframe tbody tr th:only-of-type {\n",
       "        vertical-align: middle;\n",
       "    }\n",
       "\n",
       "    .dataframe tbody tr th {\n",
       "        vertical-align: top;\n",
       "    }\n",
       "\n",
       "    .dataframe thead th {\n",
       "        text-align: right;\n",
       "    }\n",
       "</style>\n",
       "<table border=\"1\" class=\"dataframe\">\n",
       "  <thead>\n",
       "    <tr style=\"text-align: right;\">\n",
       "      <th></th>\n",
       "      <th>Sample_ID</th>\n",
       "      <th>Context</th>\n",
       "      <th>cell_type</th>\n",
       "    </tr>\n",
       "  </thead>\n",
       "  <tbody>\n",
       "    <tr>\n",
       "      <th>ACGAGCCAGATGGCGT-1</th>\n",
       "      <td>C141</td>\n",
       "      <td>Moderate_Covid</td>\n",
       "      <td>Macrophages</td>\n",
       "    </tr>\n",
       "    <tr>\n",
       "      <th>TTCATTGTCTCTTCAA-1</th>\n",
       "      <td>C100</td>\n",
       "      <td>Healthy_Control</td>\n",
       "      <td>Macrophages</td>\n",
       "    </tr>\n",
       "    <tr>\n",
       "      <th>TCATTTGAGCCGCCTA-1</th>\n",
       "      <td>C52</td>\n",
       "      <td>Healthy_Control</td>\n",
       "      <td>Macrophages</td>\n",
       "    </tr>\n",
       "    <tr>\n",
       "      <th>TGGCGCAAGGATGGAA-1</th>\n",
       "      <td>C52</td>\n",
       "      <td>Healthy_Control</td>\n",
       "      <td>Macrophages</td>\n",
       "    </tr>\n",
       "    <tr>\n",
       "      <th>GGGAATGTCGGTGTTA-1</th>\n",
       "      <td>C51</td>\n",
       "      <td>Healthy_Control</td>\n",
       "      <td>Macrophages</td>\n",
       "    </tr>\n",
       "  </tbody>\n",
       "</table>\n",
       "</div>"
      ],
      "text/plain": [
       "                   Sample_ID          Context    cell_type\n",
       "ACGAGCCAGATGGCGT-1      C141   Moderate_Covid  Macrophages\n",
       "TTCATTGTCTCTTCAA-1      C100  Healthy_Control  Macrophages\n",
       "TCATTTGAGCCGCCTA-1       C52  Healthy_Control  Macrophages\n",
       "TGGCGCAAGGATGGAA-1       C52  Healthy_Control  Macrophages\n",
       "GGGAATGTCGGTGTTA-1       C51  Healthy_Control  Macrophages"
      ]
     },
     "execution_count": 14,
     "metadata": {},
     "output_type": "execute_result"
    }
   ],
   "source": [
    "# preview the metadata\n",
    "balf_corrected.obs[['Sample_ID', 'Context', 'cell_type']].head()"
   ]
  },
  {
   "cell_type": "markdown",
   "id": "30fd1134",
   "metadata": {},
   "source": [
    "This tutorial was written to analyze multiple samples/contexts to incorporate into Tensor-cell2cell. If you want to score for just one sample/context, you can use the same code. Set a metadata context column with a single context label. \n",
    "\n",
    "In our case, the we use the 'Sample_ID' as the context column. If we didn't have unique contexts, we can create it as follows:"
   ]
  },
  {
   "cell_type": "code",
   "execution_count": 15,
   "id": "162bfe26",
   "metadata": {},
   "outputs": [],
   "source": [
    "# balf_corrected.obs['Sample_ID'] = 'balf_covid'"
   ]
  },
  {
   "cell_type": "markdown",
   "id": "8615101b",
   "metadata": {},
   "source": [
    "Initialize the CellComposition object with the expression dataframe, metadata, and PCA manifold:"
   ]
  },
  {
   "cell_type": "code",
   "execution_count": 16,
   "id": "db5d95f8",
   "metadata": {},
   "outputs": [],
   "source": [
    "cc = CellComposition(expr = balf_corrected.to_df().T, metadata = balf_corrected.obs, \n",
    "                    manifold = manifold)"
   ]
  },
  {
   "cell_type": "markdown",
   "id": "9f615caa",
   "metadata": {},
   "source": [
    "If you do not have a manifold and want to use a composition scoring method such as meld that requires one, you can calculate it as follows:"
   ]
  },
  {
   "cell_type": "code",
   "execution_count": 7,
   "id": "f14062a6",
   "metadata": {},
   "outputs": [],
   "source": [
    "# cc.run_pca(n_pcs = 100)"
   ]
  },
  {
   "cell_type": "markdown",
   "id": "9fc894d3",
   "metadata": {},
   "source": [
    "Score the composition using one of the available methods: 'meld', \n",
    "\n",
    "Here, we proceed with meld (which requires atleast 2 contexts):"
   ]
  },
  {
   "cell_type": "code",
   "execution_count": 17,
   "id": "12561de3",
   "metadata": {},
   "outputs": [
    {
     "name": "stdout",
     "output_type": "stream",
     "text": [
      "Building graph on 3000 samples and 100 features.\n",
      "Calculating graph and diffusion operator...\n",
      "  Calculating KNN search...\n",
      "  Calculated KNN search in 1.12 seconds.\n",
      "  Calculating affinities...\n",
      "  Calculated affinities in 0.31 seconds.\n",
      "Calculated graph and diffusion operator in 1.54 seconds.\n"
     ]
    }
   ],
   "source": [
    "cc.score_composition(score_type='meld', context_label='Sample_ID')"
   ]
  },
  {
   "cell_type": "markdown",
   "id": "62829201",
   "metadata": {},
   "source": [
    "Since MELD scores composition at the single-cell resolution, this is stored in the attribute cc.barcode_composition_score. For such methods, we must aggregate to the cell type resolution, since this is the resolution communication scoring is conducted at. \n",
    "\n",
    "When aggregating, NaN values may result if a cell type was not present in a context. By default, we fill these with 0 since they are not present. "
   ]
  },
  {
   "cell_type": "code",
   "execution_count": 18,
   "id": "95982ce7",
   "metadata": {},
   "outputs": [],
   "source": [
    "cc.get_aggregate_composition_score(aggregation_method='median', fill_na = 0, \n",
    "                               context_label='Sample_ID', cellgroup_label='cell_type')"
   ]
  },
  {
   "cell_type": "markdown",
   "id": "29d7cffe",
   "metadata": {},
   "source": [
    "Each context has an associated aggregate composition score. This is the input you can provide as a user as well, if you have your own composition scores. As an example, let's see what sample C51 looks like:"
   ]
  },
  {
   "cell_type": "code",
   "execution_count": 19,
   "id": "6d1b2728",
   "metadata": {},
   "outputs": [
    {
     "data": {
      "text/html": [
       "<div>\n",
       "<style scoped>\n",
       "    .dataframe tbody tr th:only-of-type {\n",
       "        vertical-align: middle;\n",
       "    }\n",
       "\n",
       "    .dataframe tbody tr th {\n",
       "        vertical-align: top;\n",
       "    }\n",
       "\n",
       "    .dataframe thead th {\n",
       "        text-align: right;\n",
       "    }\n",
       "</style>\n",
       "<table border=\"1\" class=\"dataframe\">\n",
       "  <thead>\n",
       "    <tr style=\"text-align: right;\">\n",
       "      <th></th>\n",
       "      <th>Composition_Score</th>\n",
       "    </tr>\n",
       "    <tr>\n",
       "      <th>cell_type</th>\n",
       "      <th></th>\n",
       "    </tr>\n",
       "  </thead>\n",
       "  <tbody>\n",
       "    <tr>\n",
       "      <th>B</th>\n",
       "      <td>0.101433</td>\n",
       "    </tr>\n",
       "    <tr>\n",
       "      <th>Epithelial</th>\n",
       "      <td>0.000000</td>\n",
       "    </tr>\n",
       "    <tr>\n",
       "      <th>Macrophages</th>\n",
       "      <td>0.100636</td>\n",
       "    </tr>\n",
       "    <tr>\n",
       "      <th>NK</th>\n",
       "      <td>0.000000</td>\n",
       "    </tr>\n",
       "    <tr>\n",
       "      <th>Neutrophil</th>\n",
       "      <td>0.000000</td>\n",
       "    </tr>\n",
       "  </tbody>\n",
       "</table>\n",
       "</div>"
      ],
      "text/plain": [
       "             Composition_Score\n",
       "cell_type                     \n",
       "B                     0.101433\n",
       "Epithelial            0.000000\n",
       "Macrophages           0.100636\n",
       "NK                    0.000000\n",
       "Neutrophil            0.000000"
      ]
     },
     "execution_count": 19,
     "metadata": {},
     "output_type": "execute_result"
    }
   ],
   "source": [
    "cc.aggregate_composition_score['C51'].head()"
   ]
  },
  {
   "cell_type": "markdown",
   "id": "6aee9512",
   "metadata": {},
   "source": [
    "Going forward, we have two options for incorporating composition into the communication score. \n",
    "\n",
    "Option 1: Directly scaling gene expression by composition prior to calculating communication\n",
    "\n",
    "\n",
    "Option 2: Incorporate composition after calculating the communication score "
   ]
  },
  {
   "cell_type": "markdown",
   "id": "a30b2d39",
   "metadata": {},
   "source": [
    "#### Mathematically, this is done as follows:\n",
    "\n",
    "from gene expression matrix:\n",
    "$$L\\equiv\\text{sender cell ligand expression}, R\\equiv\\text{target cell receptor expression}$$\n",
    "\n",
    "calculated above with CellComposition.get_aggregate_composition_score: \n",
    "$$S\\equiv\\text{sender cell composition score}\\in[0,1]$$\n",
    "$$T\\equiv\\text{target cell composition score}\\in[0,1]$$\n",
    "\n",
    "For either option, the terms being combined must lie between [0,1] so that expression and composition are on equivalent scales. Once they are on equivalent scales, we can introduce a weighting parameter *lambda* to weight composition vs expression. Specifically, we will calculate a weighted average.\n",
    "\n",
    "##### Option 1:\n",
    "In this case, L and R must both lie between [0,1]:\n",
    "\n",
    "$$L'\\equiv\\text{weighted sender cell ligand expression} = f(S,L) = \\frac{\\lambda S + (1-\\lambda )L}{2}$$\n",
    "$$R'\\equiv\\text{weighted sender cell ligand expression} = g(T,R) = \\frac{\\lambda T + (1-\\lambda )R}{2}$$\n",
    "$$S\\equiv\\text{weighted communication score} = h(L', R')$$ \n",
    "\n",
    "In this case, *S*, is the same scoring function used with the internal methods in Part 4, but with modified values for L and R.\n",
    "\n",
    "\n",
    "##### Option 2:\n",
    "\n",
    "calculated in Part 4:\n",
    "$$CS\\equiv\\text{expression communication score} = {g_\\text{S,T}}(L,R)$$\n",
    "\n",
    "to ensure CS lies between [0,1], we can apply a normalization:\n",
    "$${g'_\\text{S,T}}(L,R) = \\frac{CS}{CS_\\text{max}}$$\n",
    "where $$CS_\\text{max}\\equiv\\text{maximum CS across all contexts}$$\n",
    "\n",
    "We take the maximum across all contexts rather than within a context to ensure that the relative communication scores across contexts are accounted for when re-structuring into a tensor.\n",
    "\n",
    "Since the communication score CS is calculated pairwise between cells already, we must calculate a pairwise composition score:\n",
    "\n",
    "$$FS\\equiv\\text{pairwise composition score} = f(S,T) \\in[0,1]$$\n",
    "\n",
    "We use the mean, median, or mean as *f* in this instance. Since S and T are both [0,1], FS will be [0,1] <br>\n",
    "Note that since *S* and *T* are the aggregate composition scores aggregated by cell type, this is a \"mean of means\"\n",
    "\n",
    "Now, we have a pairwise LR communication score *CS* and a pairwise composition score *FS* both between [0,1], such that we can weight CS by FS:\n",
    "\n",
    "$$S\\equiv\\text{weighted communication score} = h(L, R, S, T) = \\frac{\\lambda f(S,T) + (1-\\lambda ){g'_\\text{S,T}}(L,R)}{2}$$\n",
    "\n",
    "A summation works, because we can assume that if *f* is 0, *g* will also be 0 (i.e., if the sender and receiver cell were not present in a context, there will be no LR expression communication score in that context)."
   ]
  },
  {
   "cell_type": "markdown",
   "id": "49b3b7ca",
   "metadata": {},
   "source": [
    "## Option 1:"
   ]
  },
  {
   "cell_type": "code",
   "execution_count": 33,
   "id": "36fbb514",
   "metadata": {},
   "outputs": [],
   "source": [
    "# TODO: when doing this, make sure to check that S, T, L, and R all lie [0,1]\n",
    "\n",
    "#1) aggregate expression by cell type\n",
    "#2) weight the expression by composition\n",
    "#3) run into scoring function"
   ]
  },
  {
   "cell_type": "markdown",
   "id": "b4f789d4",
   "metadata": {},
   "source": [
    "## Option 2:"
   ]
  },
  {
   "cell_type": "markdown",
   "id": "a0dc4f93",
   "metadata": {},
   "source": [
    "First, we must calculate a pairwise composition score that combines the individual composition scores. We recommend using the geometric mean because this will make any pair of cell composition scores 0 if one of the two is 0. "
   ]
  },
  {
   "cell_type": "code",
   "execution_count": 20,
   "id": "e287843d",
   "metadata": {},
   "outputs": [],
   "source": [
    "pairwise_composition_scores = {}\n",
    "for context, composition_score in cc.aggregate_composition_score.items():\n",
    "    pairwise_composition_scores[context] = \\\n",
    "                            CellComposition.get_pairwise_composition_score(composition_score, method='gmean')"
   ]
  },
  {
   "cell_type": "markdown",
   "id": "3cae959b",
   "metadata": {},
   "source": [
    "The result is a flattened diagonal matrix of pairwise composition scores:"
   ]
  },
  {
   "cell_type": "code",
   "execution_count": 22,
   "id": "c23620ce",
   "metadata": {},
   "outputs": [
    {
     "data": {
      "text/html": [
       "<div>\n",
       "<style scoped>\n",
       "    .dataframe tbody tr th:only-of-type {\n",
       "        vertical-align: middle;\n",
       "    }\n",
       "\n",
       "    .dataframe tbody tr th {\n",
       "        vertical-align: top;\n",
       "    }\n",
       "\n",
       "    .dataframe thead th {\n",
       "        text-align: right;\n",
       "    }\n",
       "</style>\n",
       "<table border=\"1\" class=\"dataframe\">\n",
       "  <thead>\n",
       "    <tr style=\"text-align: right;\">\n",
       "      <th></th>\n",
       "      <th>Composition_Score</th>\n",
       "    </tr>\n",
       "  </thead>\n",
       "  <tbody>\n",
       "    <tr>\n",
       "      <th>B-B</th>\n",
       "      <td>0.101433</td>\n",
       "    </tr>\n",
       "    <tr>\n",
       "      <th>B-Epithelial</th>\n",
       "      <td>0.000000</td>\n",
       "    </tr>\n",
       "    <tr>\n",
       "      <th>B-Macrophages</th>\n",
       "      <td>0.101034</td>\n",
       "    </tr>\n",
       "    <tr>\n",
       "      <th>B-NK</th>\n",
       "      <td>0.000000</td>\n",
       "    </tr>\n",
       "    <tr>\n",
       "      <th>B-Neutrophil</th>\n",
       "      <td>0.000000</td>\n",
       "    </tr>\n",
       "  </tbody>\n",
       "</table>\n",
       "</div>"
      ],
      "text/plain": [
       "               Composition_Score\n",
       "B-B                     0.101433\n",
       "B-Epithelial            0.000000\n",
       "B-Macrophages           0.101034\n",
       "B-NK                    0.000000\n",
       "B-Neutrophil            0.000000"
      ]
     },
     "execution_count": 22,
     "metadata": {},
     "output_type": "execute_result"
    }
   ],
   "source": [
    "pairwise_composition_scores['C51'].head()"
   ]
  },
  {
   "cell_type": "markdown",
   "id": "bee0ef75",
   "metadata": {},
   "source": [
    "Next we can scale the communication scores calculated in part 4 by the pairwise composition scores here:"
   ]
  },
  {
   "cell_type": "code",
   "execution_count": 24,
   "id": "a651d562",
   "metadata": {},
   "outputs": [],
   "source": [
    "# TODO: replace these random with actual communication scores\n",
    "lr_communication_scores = {context: pd.DataFrame(np.random.rand(300, len(pairwise_score.index)), \n",
    "            columns = pairwise_score.index) for context, pairwise_score in pairwise_composition_scores.items()}"
   ]
  },
  {
   "cell_type": "markdown",
   "id": "a23fe866",
   "metadata": {},
   "source": [
    "Next, we ensure that our LR scores are b/w [0,1] such that when we later weight the composition and LR communication scores, they are on equivalent scales (composition scores should be between [0,1] already)."
   ]
  },
  {
   "cell_type": "code",
   "execution_count": 25,
   "id": "d9985c6f",
   "metadata": {},
   "outputs": [],
   "source": [
    "lr_communication_scores = normalize_lr_scores_by_max(lr_communication_scores)"
   ]
  },
  {
   "cell_type": "code",
   "execution_count": 31,
   "id": "f392c05d",
   "metadata": {},
   "outputs": [
    {
     "data": {
      "text/html": [
       "<div>\n",
       "<style scoped>\n",
       "    .dataframe tbody tr th:only-of-type {\n",
       "        vertical-align: middle;\n",
       "    }\n",
       "\n",
       "    .dataframe tbody tr th {\n",
       "        vertical-align: top;\n",
       "    }\n",
       "\n",
       "    .dataframe thead th {\n",
       "        text-align: right;\n",
       "    }\n",
       "</style>\n",
       "<table border=\"1\" class=\"dataframe\">\n",
       "  <thead>\n",
       "    <tr style=\"text-align: right;\">\n",
       "      <th></th>\n",
       "      <th>B-B</th>\n",
       "      <th>B-Epithelial</th>\n",
       "      <th>B-Macrophages</th>\n",
       "      <th>B-NK</th>\n",
       "      <th>B-Neutrophil</th>\n",
       "      <th>B-Plasma</th>\n",
       "      <th>B-T</th>\n",
       "      <th>B-mDC</th>\n",
       "      <th>B-pDC</th>\n",
       "      <th>Epithelial-B</th>\n",
       "      <th>...</th>\n",
       "      <th>mDC-pDC</th>\n",
       "      <th>pDC-B</th>\n",
       "      <th>pDC-Epithelial</th>\n",
       "      <th>pDC-Macrophages</th>\n",
       "      <th>pDC-NK</th>\n",
       "      <th>pDC-Neutrophil</th>\n",
       "      <th>pDC-Plasma</th>\n",
       "      <th>pDC-T</th>\n",
       "      <th>pDC-mDC</th>\n",
       "      <th>pDC-pDC</th>\n",
       "    </tr>\n",
       "  </thead>\n",
       "  <tbody>\n",
       "    <tr>\n",
       "      <th>0</th>\n",
       "      <td>0.251636</td>\n",
       "      <td>0.272324</td>\n",
       "      <td>0.549509</td>\n",
       "      <td>0.235827</td>\n",
       "      <td>0.362070</td>\n",
       "      <td>0.930779</td>\n",
       "      <td>0.972409</td>\n",
       "      <td>0.456784</td>\n",
       "      <td>0.976500</td>\n",
       "      <td>0.335636</td>\n",
       "      <td>...</td>\n",
       "      <td>0.638193</td>\n",
       "      <td>0.685172</td>\n",
       "      <td>0.737051</td>\n",
       "      <td>0.194902</td>\n",
       "      <td>0.087117</td>\n",
       "      <td>0.220078</td>\n",
       "      <td>0.945605</td>\n",
       "      <td>0.399299</td>\n",
       "      <td>0.641672</td>\n",
       "      <td>0.726755</td>\n",
       "    </tr>\n",
       "    <tr>\n",
       "      <th>1</th>\n",
       "      <td>0.929658</td>\n",
       "      <td>0.780617</td>\n",
       "      <td>0.491044</td>\n",
       "      <td>0.751686</td>\n",
       "      <td>0.736676</td>\n",
       "      <td>0.971560</td>\n",
       "      <td>0.372635</td>\n",
       "      <td>0.619899</td>\n",
       "      <td>0.979126</td>\n",
       "      <td>0.770571</td>\n",
       "      <td>...</td>\n",
       "      <td>0.631146</td>\n",
       "      <td>0.825354</td>\n",
       "      <td>0.405103</td>\n",
       "      <td>0.546353</td>\n",
       "      <td>0.945089</td>\n",
       "      <td>0.652021</td>\n",
       "      <td>0.834094</td>\n",
       "      <td>0.325539</td>\n",
       "      <td>0.741014</td>\n",
       "      <td>0.318970</td>\n",
       "    </tr>\n",
       "    <tr>\n",
       "      <th>2</th>\n",
       "      <td>0.588343</td>\n",
       "      <td>0.594012</td>\n",
       "      <td>0.585338</td>\n",
       "      <td>0.330183</td>\n",
       "      <td>0.313699</td>\n",
       "      <td>0.699193</td>\n",
       "      <td>0.562986</td>\n",
       "      <td>0.366172</td>\n",
       "      <td>0.283625</td>\n",
       "      <td>0.799744</td>\n",
       "      <td>...</td>\n",
       "      <td>0.265261</td>\n",
       "      <td>0.201016</td>\n",
       "      <td>0.979346</td>\n",
       "      <td>0.937663</td>\n",
       "      <td>0.850905</td>\n",
       "      <td>0.475232</td>\n",
       "      <td>0.137722</td>\n",
       "      <td>0.774116</td>\n",
       "      <td>0.447206</td>\n",
       "      <td>0.976485</td>\n",
       "    </tr>\n",
       "    <tr>\n",
       "      <th>3</th>\n",
       "      <td>0.090067</td>\n",
       "      <td>0.157863</td>\n",
       "      <td>0.058658</td>\n",
       "      <td>0.909436</td>\n",
       "      <td>0.668232</td>\n",
       "      <td>0.202363</td>\n",
       "      <td>0.605425</td>\n",
       "      <td>0.744067</td>\n",
       "      <td>0.804526</td>\n",
       "      <td>0.812308</td>\n",
       "      <td>...</td>\n",
       "      <td>0.347474</td>\n",
       "      <td>0.980513</td>\n",
       "      <td>0.075422</td>\n",
       "      <td>0.252192</td>\n",
       "      <td>0.650773</td>\n",
       "      <td>0.753796</td>\n",
       "      <td>0.437932</td>\n",
       "      <td>0.250780</td>\n",
       "      <td>0.266627</td>\n",
       "      <td>0.829893</td>\n",
       "    </tr>\n",
       "    <tr>\n",
       "      <th>4</th>\n",
       "      <td>0.458214</td>\n",
       "      <td>0.407332</td>\n",
       "      <td>0.798032</td>\n",
       "      <td>0.383857</td>\n",
       "      <td>0.827237</td>\n",
       "      <td>0.868393</td>\n",
       "      <td>0.619853</td>\n",
       "      <td>0.632085</td>\n",
       "      <td>0.006781</td>\n",
       "      <td>0.356945</td>\n",
       "      <td>...</td>\n",
       "      <td>0.984337</td>\n",
       "      <td>0.179892</td>\n",
       "      <td>0.340541</td>\n",
       "      <td>0.703671</td>\n",
       "      <td>0.667272</td>\n",
       "      <td>0.686995</td>\n",
       "      <td>0.100802</td>\n",
       "      <td>0.343237</td>\n",
       "      <td>0.057814</td>\n",
       "      <td>0.475087</td>\n",
       "    </tr>\n",
       "  </tbody>\n",
       "</table>\n",
       "<p>5 rows × 81 columns</p>\n",
       "</div>"
      ],
      "text/plain": [
       "        B-B  B-Epithelial  B-Macrophages      B-NK  B-Neutrophil  B-Plasma  \\\n",
       "0  0.251636      0.272324       0.549509  0.235827      0.362070  0.930779   \n",
       "1  0.929658      0.780617       0.491044  0.751686      0.736676  0.971560   \n",
       "2  0.588343      0.594012       0.585338  0.330183      0.313699  0.699193   \n",
       "3  0.090067      0.157863       0.058658  0.909436      0.668232  0.202363   \n",
       "4  0.458214      0.407332       0.798032  0.383857      0.827237  0.868393   \n",
       "\n",
       "        B-T     B-mDC     B-pDC  Epithelial-B  ...   mDC-pDC     pDC-B  \\\n",
       "0  0.972409  0.456784  0.976500      0.335636  ...  0.638193  0.685172   \n",
       "1  0.372635  0.619899  0.979126      0.770571  ...  0.631146  0.825354   \n",
       "2  0.562986  0.366172  0.283625      0.799744  ...  0.265261  0.201016   \n",
       "3  0.605425  0.744067  0.804526      0.812308  ...  0.347474  0.980513   \n",
       "4  0.619853  0.632085  0.006781      0.356945  ...  0.984337  0.179892   \n",
       "\n",
       "   pDC-Epithelial  pDC-Macrophages    pDC-NK  pDC-Neutrophil  pDC-Plasma  \\\n",
       "0        0.737051         0.194902  0.087117        0.220078    0.945605   \n",
       "1        0.405103         0.546353  0.945089        0.652021    0.834094   \n",
       "2        0.979346         0.937663  0.850905        0.475232    0.137722   \n",
       "3        0.075422         0.252192  0.650773        0.753796    0.437932   \n",
       "4        0.340541         0.703671  0.667272        0.686995    0.100802   \n",
       "\n",
       "      pDC-T   pDC-mDC   pDC-pDC  \n",
       "0  0.399299  0.641672  0.726755  \n",
       "1  0.325539  0.741014  0.318970  \n",
       "2  0.774116  0.447206  0.976485  \n",
       "3  0.250780  0.266627  0.829893  \n",
       "4  0.343237  0.057814  0.475087  \n",
       "\n",
       "[5 rows x 81 columns]"
      ]
     },
     "execution_count": 31,
     "metadata": {},
     "output_type": "execute_result"
    }
   ],
   "source": [
    "lr_communication_scores['C51'].head()"
   ]
  },
  {
   "cell_type": "markdown",
   "id": "10ed351a",
   "metadata": {},
   "source": [
    "Finally, we weight the LR communication scores by the pairwise communication scores (with the weightin parameter \"composition_weight\"):"
   ]
  },
  {
   "cell_type": "code",
   "execution_count": 29,
   "id": "f210db2d",
   "metadata": {},
   "outputs": [],
   "source": [
    "final_communication_scores = {}\n",
    "for context in balf_corrected.obs.Sample_ID.unique():\n",
    "    pairwise_composition_score = pairwise_composition_scores[context]\n",
    "    lr_communication_score = lr_communication_scores[context]\n",
    "    \n",
    "    final_communication_scores[context] = scale_by_composition(lr_communication_score, \n",
    "                                                              pairwise_composition_score, \n",
    "                                                              composition_weight=0.25)"
   ]
  },
  {
   "cell_type": "code",
   "execution_count": 30,
   "id": "ee82d510",
   "metadata": {},
   "outputs": [
    {
     "data": {
      "text/html": [
       "<div>\n",
       "<style scoped>\n",
       "    .dataframe tbody tr th:only-of-type {\n",
       "        vertical-align: middle;\n",
       "    }\n",
       "\n",
       "    .dataframe tbody tr th {\n",
       "        vertical-align: top;\n",
       "    }\n",
       "\n",
       "    .dataframe thead th {\n",
       "        text-align: right;\n",
       "    }\n",
       "</style>\n",
       "<table border=\"1\" class=\"dataframe\">\n",
       "  <thead>\n",
       "    <tr style=\"text-align: right;\">\n",
       "      <th></th>\n",
       "      <th>B-B</th>\n",
       "      <th>B-Epithelial</th>\n",
       "      <th>B-Macrophages</th>\n",
       "      <th>B-NK</th>\n",
       "      <th>B-Neutrophil</th>\n",
       "      <th>B-Plasma</th>\n",
       "      <th>B-T</th>\n",
       "      <th>B-mDC</th>\n",
       "      <th>B-pDC</th>\n",
       "      <th>Epithelial-B</th>\n",
       "      <th>...</th>\n",
       "      <th>mDC-pDC</th>\n",
       "      <th>pDC-B</th>\n",
       "      <th>pDC-Epithelial</th>\n",
       "      <th>pDC-Macrophages</th>\n",
       "      <th>pDC-NK</th>\n",
       "      <th>pDC-Neutrophil</th>\n",
       "      <th>pDC-Plasma</th>\n",
       "      <th>pDC-T</th>\n",
       "      <th>pDC-mDC</th>\n",
       "      <th>pDC-pDC</th>\n",
       "    </tr>\n",
       "  </thead>\n",
       "  <tbody>\n",
       "    <tr>\n",
       "      <th>0</th>\n",
       "      <td>0.107043</td>\n",
       "      <td>0.102122</td>\n",
       "      <td>0.218695</td>\n",
       "      <td>0.088435</td>\n",
       "      <td>0.135776</td>\n",
       "      <td>0.349042</td>\n",
       "      <td>0.374344</td>\n",
       "      <td>0.183634</td>\n",
       "      <td>0.366187</td>\n",
       "      <td>0.125864</td>\n",
       "      <td>...</td>\n",
       "      <td>0.239322</td>\n",
       "      <td>0.256939</td>\n",
       "      <td>0.276394</td>\n",
       "      <td>0.073088</td>\n",
       "      <td>0.032669</td>\n",
       "      <td>0.082529</td>\n",
       "      <td>0.354602</td>\n",
       "      <td>0.149737</td>\n",
       "      <td>0.240627</td>\n",
       "      <td>0.272533</td>\n",
       "    </tr>\n",
       "    <tr>\n",
       "      <th>1</th>\n",
       "      <td>0.361301</td>\n",
       "      <td>0.292732</td>\n",
       "      <td>0.196771</td>\n",
       "      <td>0.281882</td>\n",
       "      <td>0.276253</td>\n",
       "      <td>0.364335</td>\n",
       "      <td>0.149428</td>\n",
       "      <td>0.244802</td>\n",
       "      <td>0.367172</td>\n",
       "      <td>0.288964</td>\n",
       "      <td>...</td>\n",
       "      <td>0.236680</td>\n",
       "      <td>0.309508</td>\n",
       "      <td>0.151914</td>\n",
       "      <td>0.204882</td>\n",
       "      <td>0.354408</td>\n",
       "      <td>0.244508</td>\n",
       "      <td>0.312785</td>\n",
       "      <td>0.122077</td>\n",
       "      <td>0.277880</td>\n",
       "      <td>0.119614</td>\n",
       "    </tr>\n",
       "    <tr>\n",
       "      <th>2</th>\n",
       "      <td>0.233308</td>\n",
       "      <td>0.222754</td>\n",
       "      <td>0.232131</td>\n",
       "      <td>0.123819</td>\n",
       "      <td>0.117637</td>\n",
       "      <td>0.262197</td>\n",
       "      <td>0.220810</td>\n",
       "      <td>0.149654</td>\n",
       "      <td>0.106359</td>\n",
       "      <td>0.299904</td>\n",
       "      <td>...</td>\n",
       "      <td>0.099473</td>\n",
       "      <td>0.075381</td>\n",
       "      <td>0.367255</td>\n",
       "      <td>0.351624</td>\n",
       "      <td>0.319090</td>\n",
       "      <td>0.178212</td>\n",
       "      <td>0.051646</td>\n",
       "      <td>0.290293</td>\n",
       "      <td>0.167702</td>\n",
       "      <td>0.366182</td>\n",
       "    </tr>\n",
       "    <tr>\n",
       "      <th>3</th>\n",
       "      <td>0.046454</td>\n",
       "      <td>0.059199</td>\n",
       "      <td>0.034626</td>\n",
       "      <td>0.341038</td>\n",
       "      <td>0.250587</td>\n",
       "      <td>0.075886</td>\n",
       "      <td>0.236724</td>\n",
       "      <td>0.291365</td>\n",
       "      <td>0.301697</td>\n",
       "      <td>0.304615</td>\n",
       "      <td>...</td>\n",
       "      <td>0.130303</td>\n",
       "      <td>0.367692</td>\n",
       "      <td>0.028283</td>\n",
       "      <td>0.094572</td>\n",
       "      <td>0.244040</td>\n",
       "      <td>0.282674</td>\n",
       "      <td>0.164225</td>\n",
       "      <td>0.094042</td>\n",
       "      <td>0.099985</td>\n",
       "      <td>0.311210</td>\n",
       "    </tr>\n",
       "    <tr>\n",
       "      <th>4</th>\n",
       "      <td>0.184510</td>\n",
       "      <td>0.152750</td>\n",
       "      <td>0.311891</td>\n",
       "      <td>0.143946</td>\n",
       "      <td>0.310214</td>\n",
       "      <td>0.325647</td>\n",
       "      <td>0.242135</td>\n",
       "      <td>0.249371</td>\n",
       "      <td>0.002543</td>\n",
       "      <td>0.133854</td>\n",
       "      <td>...</td>\n",
       "      <td>0.369126</td>\n",
       "      <td>0.067460</td>\n",
       "      <td>0.127703</td>\n",
       "      <td>0.263877</td>\n",
       "      <td>0.250227</td>\n",
       "      <td>0.257623</td>\n",
       "      <td>0.037801</td>\n",
       "      <td>0.128714</td>\n",
       "      <td>0.021680</td>\n",
       "      <td>0.178157</td>\n",
       "    </tr>\n",
       "  </tbody>\n",
       "</table>\n",
       "<p>5 rows × 81 columns</p>\n",
       "</div>"
      ],
      "text/plain": [
       "        B-B  B-Epithelial  B-Macrophages      B-NK  B-Neutrophil  B-Plasma  \\\n",
       "0  0.107043      0.102122       0.218695  0.088435      0.135776  0.349042   \n",
       "1  0.361301      0.292732       0.196771  0.281882      0.276253  0.364335   \n",
       "2  0.233308      0.222754       0.232131  0.123819      0.117637  0.262197   \n",
       "3  0.046454      0.059199       0.034626  0.341038      0.250587  0.075886   \n",
       "4  0.184510      0.152750       0.311891  0.143946      0.310214  0.325647   \n",
       "\n",
       "        B-T     B-mDC     B-pDC  Epithelial-B  ...   mDC-pDC     pDC-B  \\\n",
       "0  0.374344  0.183634  0.366187      0.125864  ...  0.239322  0.256939   \n",
       "1  0.149428  0.244802  0.367172      0.288964  ...  0.236680  0.309508   \n",
       "2  0.220810  0.149654  0.106359      0.299904  ...  0.099473  0.075381   \n",
       "3  0.236724  0.291365  0.301697      0.304615  ...  0.130303  0.367692   \n",
       "4  0.242135  0.249371  0.002543      0.133854  ...  0.369126  0.067460   \n",
       "\n",
       "   pDC-Epithelial  pDC-Macrophages    pDC-NK  pDC-Neutrophil  pDC-Plasma  \\\n",
       "0        0.276394         0.073088  0.032669        0.082529    0.354602   \n",
       "1        0.151914         0.204882  0.354408        0.244508    0.312785   \n",
       "2        0.367255         0.351624  0.319090        0.178212    0.051646   \n",
       "3        0.028283         0.094572  0.244040        0.282674    0.164225   \n",
       "4        0.127703         0.263877  0.250227        0.257623    0.037801   \n",
       "\n",
       "      pDC-T   pDC-mDC   pDC-pDC  \n",
       "0  0.149737  0.240627  0.272533  \n",
       "1  0.122077  0.277880  0.119614  \n",
       "2  0.290293  0.167702  0.366182  \n",
       "3  0.094042  0.099985  0.311210  \n",
       "4  0.128714  0.021680  0.178157  \n",
       "\n",
       "[5 rows x 81 columns]"
      ]
     },
     "execution_count": 30,
     "metadata": {},
     "output_type": "execute_result"
    }
   ],
   "source": [
    "final_communication_scores['C51'].head()"
   ]
  },
  {
   "cell_type": "code",
   "execution_count": null,
   "id": "177c04d8",
   "metadata": {},
   "outputs": [],
   "source": [
    "# to do\n",
    "# dealing with NaNs\n",
    "# finalizing score\n",
    "# new attribute: self.aggregate_composition_score"
   ]
  }
 ],
 "metadata": {
  "kernelspec": {
   "display_name": "Python [conda env:FDA_collab] *",
   "language": "python",
   "name": "conda-env-FDA_collab-py"
  },
  "language_info": {
   "codemirror_mode": {
    "name": "ipython",
    "version": 3
   },
   "file_extension": ".py",
   "mimetype": "text/x-python",
   "name": "python",
   "nbconvert_exporter": "python",
   "pygments_lexer": "ipython3",
   "version": "3.9.10"
  }
 },
 "nbformat": 4,
 "nbformat_minor": 5
}
