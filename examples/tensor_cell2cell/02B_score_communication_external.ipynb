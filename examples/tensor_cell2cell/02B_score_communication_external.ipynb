{
 "cells": [
  {
   "cell_type": "markdown",
   "id": "26fb7ab4",
   "metadata": {},
   "source": [
    "Rather than using cell2cell's internal scoring functions, external tools (e.g. CellChat, CellPhoneDB, etc) can first be run to get communication scores. Once communication scores are attained for each context, they can be reformatted into the 4D-Communication Tensor structure used by Tensor-cell2cell. "
   ]
  },
  {
   "cell_type": "markdown",
   "id": "48a7543f",
   "metadata": {},
   "source": [
    "In this tutorial, we will demonstrate how to build the 4D-Communication Tensor from the output of external tools. We assume the user has already run their preferred external tool on each context separately. For robust, easy implementaiton of any tool of interest, we recommend using LIANA (https://github.com/saezlab/liana). You can see how we used LIANA to run multiple tools on the BALF dataset in our CodeOcean capsule (https://doi.org/10.24433/CO.0051950.v2) under code/CCC-Tools/ section. Here, we use the output of CellChat on the BALF dataset as a starting point, which can be found in the CodeOcean under data/CCC-tools/*_cellchat.csv.   "
   ]
  },
  {
   "cell_type": "code",
   "execution_count": 10,
   "id": "0c013e4e",
   "metadata": {},
   "outputs": [],
   "source": [
    "import os\n",
    "import pandas as pd"
   ]
  },
  {
   "cell_type": "code",
   "execution_count": 24,
   "id": "22111852",
   "metadata": {},
   "outputs": [
    {
     "data": {
      "text/plain": [
       "['C100_communication_scores_cellchat.csv',\n",
       " 'C141_communication_scores_cellchat.csv',\n",
       " 'C142_communication_scores_cellchat.csv',\n",
       " 'C143_communication_scores_cellchat.csv',\n",
       " 'C144_communication_scores_cellchat.csv',\n",
       " 'C145_communication_scores_cellchat.csv',\n",
       " 'C146_communication_scores_cellchat.csv',\n",
       " 'C148_communication_scores_cellchat.csv',\n",
       " 'C149_communication_scores_cellchat.csv',\n",
       " 'C152_communication_scores_cellchat.csv',\n",
       " 'C51_communication_scores_cellchat.csv',\n",
       " 'C52_communication_scores_cellchat.csv']"
      ]
     },
     "execution_count": 24,
     "metadata": {},
     "output_type": "execute_result"
    }
   ],
   "source": [
    "# load the data\n",
    "out_path = '/data3/hratch/c2c_general/'\n",
    "in_path = '/data3/hratch/c2c_general/cellchat_balf/inputs/'\n",
    "os.listdir(in_path)"
   ]
  },
  {
   "cell_type": "code",
   "execution_count": 16,
   "id": "dc54aeac",
   "metadata": {},
   "outputs": [],
   "source": [
    "# generate a dictionary of communication scores for each sample\n",
    "scores = {fn.split('_')[0]: pd.read_csv(os.path.join(in_path, fn)) for fn in os.listdir(in_path)}"
   ]
  },
  {
   "cell_type": "markdown",
   "id": "6779b42e",
   "metadata": {},
   "source": [
    "Many tools outputs are formatted as an adjacency list. Each row delineats the cell pair interacting, the ligand-receptor pair mediating the interaction, and the communication score (\"prob\" below) for that cell pair. Some tools will also have a p-value which you can use to further filter interactions if desired. "
   ]
  },
  {
   "cell_type": "code",
   "execution_count": 20,
   "id": "e5697ba5",
   "metadata": {},
   "outputs": [
    {
     "data": {
      "text/html": [
       "<div>\n",
       "<style scoped>\n",
       "    .dataframe tbody tr th:only-of-type {\n",
       "        vertical-align: middle;\n",
       "    }\n",
       "\n",
       "    .dataframe tbody tr th {\n",
       "        vertical-align: top;\n",
       "    }\n",
       "\n",
       "    .dataframe thead th {\n",
       "        text-align: right;\n",
       "    }\n",
       "</style>\n",
       "<table border=\"1\" class=\"dataframe\">\n",
       "  <thead>\n",
       "    <tr style=\"text-align: right;\">\n",
       "      <th></th>\n",
       "      <th>source</th>\n",
       "      <th>target</th>\n",
       "      <th>ligand</th>\n",
       "      <th>receptor</th>\n",
       "      <th>prob</th>\n",
       "      <th>pval</th>\n",
       "    </tr>\n",
       "  </thead>\n",
       "  <tbody>\n",
       "    <tr>\n",
       "      <th>0</th>\n",
       "      <td>Macrophages</td>\n",
       "      <td>Macrophages</td>\n",
       "      <td>JAG2</td>\n",
       "      <td>NOTCH1</td>\n",
       "      <td>0.0</td>\n",
       "      <td>1.0</td>\n",
       "    </tr>\n",
       "    <tr>\n",
       "      <th>1</th>\n",
       "      <td>mDC</td>\n",
       "      <td>Macrophages</td>\n",
       "      <td>JAG2</td>\n",
       "      <td>NOTCH1</td>\n",
       "      <td>0.0</td>\n",
       "      <td>1.0</td>\n",
       "    </tr>\n",
       "    <tr>\n",
       "      <th>2</th>\n",
       "      <td>T</td>\n",
       "      <td>Macrophages</td>\n",
       "      <td>JAG2</td>\n",
       "      <td>NOTCH1</td>\n",
       "      <td>0.0</td>\n",
       "      <td>1.0</td>\n",
       "    </tr>\n",
       "    <tr>\n",
       "      <th>3</th>\n",
       "      <td>NK</td>\n",
       "      <td>Macrophages</td>\n",
       "      <td>JAG2</td>\n",
       "      <td>NOTCH1</td>\n",
       "      <td>0.0</td>\n",
       "      <td>1.0</td>\n",
       "    </tr>\n",
       "    <tr>\n",
       "      <th>4</th>\n",
       "      <td>B</td>\n",
       "      <td>Macrophages</td>\n",
       "      <td>JAG2</td>\n",
       "      <td>NOTCH1</td>\n",
       "      <td>0.0</td>\n",
       "      <td>1.0</td>\n",
       "    </tr>\n",
       "  </tbody>\n",
       "</table>\n",
       "</div>"
      ],
      "text/plain": [
       "        source       target ligand receptor  prob  pval\n",
       "0  Macrophages  Macrophages   JAG2   NOTCH1   0.0   1.0\n",
       "1          mDC  Macrophages   JAG2   NOTCH1   0.0   1.0\n",
       "2            T  Macrophages   JAG2   NOTCH1   0.0   1.0\n",
       "3           NK  Macrophages   JAG2   NOTCH1   0.0   1.0\n",
       "4            B  Macrophages   JAG2   NOTCH1   0.0   1.0"
      ]
     },
     "execution_count": 20,
     "metadata": {},
     "output_type": "execute_result"
    }
   ],
   "source": [
    "scores['C51'].head()"
   ]
  },
  {
   "cell_type": "markdown",
   "id": "4020373f",
   "metadata": {},
   "source": [
    "cell2cell has a function to convert a dictionary of adjacency lists, one for each context, into a 4D-communication tensor:"
   ]
  },
  {
   "cell_type": "code",
   "execution_count": 23,
   "id": "694b544d",
   "metadata": {},
   "outputs": [],
   "source": [
    "# from cell2cell.tensor.external_scores import dataframes_to_tensor #https://github.com/earmingol/cell2cell/blob/new_version/cell2cell/tensor/external_scores.py"
   ]
  },
  {
   "cell_type": "code",
   "execution_count": 36,
   "id": "fd44964b",
   "metadata": {},
   "outputs": [],
   "source": [
    "# tensor_internal = c2c.io.load_variable_with_pickle(out_path + 'tensor_internal.pkl')\n",
    "# context_order = tensor_internal.order_names[0]\n",
    "\n",
    "context_order = ['C148', 'C100', 'C142', 'C51', 'C146', 'C52', 'C149', 'C143', 'C152', 'C145', 'C144', 'C141']\n",
    "tensor = dataframes_to_tensor(context_df_dict = scores, \n",
    "                    sender_col = 'source', \n",
    "                    receiver_col = 'target', \n",
    "                    ligand_col = 'ligand', \n",
    "                    receptor_col = 'receptor', \n",
    "                    score_col = 'prob', \n",
    "                    context_order = context_order)"
   ]
  },
  {
   "cell_type": "markdown",
   "id": "5ec976ef",
   "metadata": {},
   "source": [
    "Save the tensor"
   ]
  },
  {
   "cell_type": "code",
   "execution_count": 38,
   "id": "6ea8fbfc",
   "metadata": {},
   "outputs": [
    {
     "name": "stdout",
     "output_type": "stream",
     "text": [
      "/data3/hratch/c2c_general/tensor_external.pkl  was correctly saved.\n"
     ]
    }
   ],
   "source": [
    "c2c.io.export_variable_with_pickle(tensor, out_path + 'tensor_external.pkl')"
   ]
  },
  {
   "cell_type": "code",
   "execution_count": null,
   "id": "f982681a",
   "metadata": {},
   "outputs": [],
   "source": []
  }
 ],
 "metadata": {
  "kernelspec": {
   "display_name": "Python [conda env:FDA_collab] *",
   "language": "python",
   "name": "conda-env-FDA_collab-py"
  },
  "language_info": {
   "codemirror_mode": {
    "name": "ipython",
    "version": 3
   },
   "file_extension": ".py",
   "mimetype": "text/x-python",
   "name": "python",
   "nbconvert_exporter": "python",
   "pygments_lexer": "ipython3",
   "version": "3.9.10"
  }
 },
 "nbformat": 4,
 "nbformat_minor": 5
}
