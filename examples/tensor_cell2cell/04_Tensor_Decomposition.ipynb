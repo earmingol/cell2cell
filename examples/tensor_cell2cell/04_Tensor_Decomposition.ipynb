{
 "cells": [
  {
   "cell_type": "markdown",
   "id": "64fa1a93",
   "metadata": {},
   "source": [
    "Once we have the communication scores for each context, we can build the tensor and run decomposition"
   ]
  },
  {
   "cell_type": "markdown",
   "id": "5218ab43",
   "metadata": {},
   "source": [
    "1) build the tensor\n",
    "2) decompose "
   ]
  },
  {
   "cell_type": "markdown",
   "id": "762d59a4",
   "metadata": {},
   "source": [
    "If you used a batch-correction method that did not introduce negative LR scores, you can just run the decomposition.\n",
    "\n",
    "If you used log(1+CPM), you can run the decomposition with a technical covariate. \n",
    "\n",
    "If you used a batch-correction method that introduced negative LR scores, you can either mask negative values or run a TCD that does not have a non-negative constraint"
   ]
  },
  {
   "cell_type": "markdown",
   "id": "8a6c8357",
   "metadata": {},
   "source": [
    "Here, we can use any of the tensors generated in tutorial 02A, 02B, or 03. "
   ]
  },
  {
   "cell_type": "code",
   "execution_count": null,
   "id": "6fe28c60",
   "metadata": {},
   "outputs": [],
   "source": []
  }
 ],
 "metadata": {
  "kernelspec": {
   "display_name": "Python [conda env:FDA_collab] *",
   "language": "python",
   "name": "conda-env-FDA_collab-py"
  },
  "language_info": {
   "codemirror_mode": {
    "name": "ipython",
    "version": 3
   },
   "file_extension": ".py",
   "mimetype": "text/x-python",
   "name": "python",
   "nbconvert_exporter": "python",
   "pygments_lexer": "ipython3",
   "version": "3.9.10"
  }
 },
 "nbformat": 4,
 "nbformat_minor": 5
}
