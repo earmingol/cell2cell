{
 "cells": [
  {
   "cell_type": "markdown",
   "id": "c34ac9d3-2d45-4eaf-84a3-b33a18843fa5",
   "metadata": {},
   "source": [
    "# Building multimodal 4D communication tensors"
   ]
  },
  {
   "cell_type": "markdown",
   "id": "f01d2c3d-b5a7-4c81-bb07-2e677912051f",
   "metadata": {},
   "source": [
    "This tutorial is focused on running Tensor-cell2cell v2 using the tools [cell2cell](https://github.com/earmingol/cell2cell) and [MEBOCOST](https://github.com/kaifuchenlab/MEBOCOST) to predict protein- and metabolite-mediated cell-cell communication (CCC), respectively. \n",
    "\n",
    "In this case, we use samples from cortical brain organoids across different time points, previously published on https://doi.org/10.1016/j.stem.2019.08.002."
   ]
  },
  {
   "cell_type": "markdown",
   "id": "7df5d423-eb7f-4ce2-b732-8591e830fb3e",
   "metadata": {},
   "source": [
    "**Read this if you plan using a GPU to speed-up the analysis.** Before running this notebook, make sure to have a proper NVIDIA GPU driver (https://www.nvidia.com/Download/index.aspx) as well as the CUDA toolkit (https://developer.nvidia.com/cuda-toolkit) installed.\n",
    "\n",
    "Then, make sure to create an environment with Pytorch >= v1.8.0 following these instructions to enable CUDA.\n",
    "\n",
    "https://pytorch.org/get-started/locally/\n",
    "\n",
    "Once you have everything installed, run the next blocks two blocks of code before everything.\n",
    "\n",
    "**If you are using a NVIDIA GPU, with PyTorch and CUDA, set the following variable to be True**\n",
    "\n",
    "```use_gpu = True```, otherwise set it ```use_gpu = False```"
   ]
  },
  {
   "cell_type": "code",
   "execution_count": 1,
   "id": "f7446b37",
   "metadata": {},
   "outputs": [],
   "source": [
    "use_gpu = True\n",
    "\n",
    "import tensorly as tl\n",
    "if use_gpu:\n",
    "    tl.set_backend('pytorch')"
   ]
  },
  {
   "cell_type": "code",
   "execution_count": 2,
   "id": "9f55d0d3",
   "metadata": {},
   "outputs": [],
   "source": [
    "import cell2cell as c2c\n",
    "import scanpy as sc\n",
    "\n",
    "import numpy as np\n",
    "import pandas as pd\n",
    "\n",
    "from tqdm.auto import tqdm\n",
    "\n",
    "import matplotlib.pyplot as plt\n",
    "import seaborn as sns\n",
    "%matplotlib inline"
   ]
  },
  {
   "cell_type": "code",
   "execution_count": 3,
   "id": "14cb9a5e",
   "metadata": {},
   "outputs": [],
   "source": [
    "import warnings\n",
    "warnings.filterwarnings('ignore')"
   ]
  },
  {
   "cell_type": "markdown",
   "id": "3385d873",
   "metadata": {},
   "source": [
    "## Load Data"
   ]
  },
  {
   "cell_type": "code",
   "execution_count": 4,
   "id": "1fa62b1b",
   "metadata": {},
   "outputs": [],
   "source": [
    "import os\n",
    "\n",
    "data_folder = './data/'\n",
    "directory = os.fsencode(data_folder)\n",
    "\n",
    "output_folder = './data/Tensor-cell2cell/'\n",
    "if not os.path.isdir(output_folder):\n",
    "    os.mkdir(output_folder)"
   ]
  },
  {
   "cell_type": "markdown",
   "id": "7f00c7d8",
   "metadata": {},
   "source": [
    "### RNA-seq data\n",
    "\n",
    "A preprocessed version of the original paper [(Trujillo et al, 2019)](https://doi.org/10.1016/j.stem.2019.08.002) can be found [here](https://codeocean.com/capsule/9262293/tree/v1/data/preprocessed/annotated_seurat_norm_harmony_2022.h5ad)"
   ]
  },
  {
   "cell_type": "code",
   "execution_count": 5,
   "id": "916019fe",
   "metadata": {},
   "outputs": [],
   "source": [
    "rnaseq = sc.read_h5ad(data_folder + '/annotated_seurat_norm_harmony_2022.h5ad')"
   ]
  },
  {
   "cell_type": "code",
   "execution_count": 6,
   "id": "ccdf3ccc",
   "metadata": {},
   "outputs": [],
   "source": [
    "rnaseq = rnaseq.raw.to_adata()"
   ]
  },
  {
   "cell_type": "code",
   "execution_count": 7,
   "id": "9a0af9f0",
   "metadata": {},
   "outputs": [
    {
     "data": {
      "text/html": [
       "<div>\n",
       "<style scoped>\n",
       "    .dataframe tbody tr th:only-of-type {\n",
       "        vertical-align: middle;\n",
       "    }\n",
       "\n",
       "    .dataframe tbody tr th {\n",
       "        vertical-align: top;\n",
       "    }\n",
       "\n",
       "    .dataframe thead th {\n",
       "        text-align: right;\n",
       "    }\n",
       "</style>\n",
       "<table border=\"1\" class=\"dataframe\">\n",
       "  <thead>\n",
       "    <tr style=\"text-align: right;\">\n",
       "      <th></th>\n",
       "      <th>orig.ident</th>\n",
       "      <th>nCount_RNA</th>\n",
       "      <th>nFeature_RNA</th>\n",
       "      <th>percent.mt</th>\n",
       "      <th>RNA_snn_res.0.5</th>\n",
       "      <th>seurat_clusters</th>\n",
       "      <th>celltype</th>\n",
       "      <th>old.ident</th>\n",
       "    </tr>\n",
       "  </thead>\n",
       "  <tbody>\n",
       "    <tr>\n",
       "      <th>Month-01_AAACCTGAGAATTGTG-1</th>\n",
       "      <td>Month-01</td>\n",
       "      <td>6417.0</td>\n",
       "      <td>2431</td>\n",
       "      <td>2.898551</td>\n",
       "      <td>11</td>\n",
       "      <td>11</td>\n",
       "      <td>Other</td>\n",
       "      <td>11</td>\n",
       "    </tr>\n",
       "    <tr>\n",
       "      <th>Month-01_AAACCTGAGCAACGGT-1</th>\n",
       "      <td>Month-01</td>\n",
       "      <td>8522.0</td>\n",
       "      <td>2464</td>\n",
       "      <td>2.663694</td>\n",
       "      <td>6</td>\n",
       "      <td>6</td>\n",
       "      <td>Progenitor</td>\n",
       "      <td>6</td>\n",
       "    </tr>\n",
       "  </tbody>\n",
       "</table>\n",
       "</div>"
      ],
      "text/plain": [
       "                            orig.ident  nCount_RNA  nFeature_RNA  percent.mt  \\\n",
       "Month-01_AAACCTGAGAATTGTG-1   Month-01      6417.0          2431    2.898551   \n",
       "Month-01_AAACCTGAGCAACGGT-1   Month-01      8522.0          2464    2.663694   \n",
       "\n",
       "                             RNA_snn_res.0.5  seurat_clusters    celltype  \\\n",
       "Month-01_AAACCTGAGAATTGTG-1               11               11       Other   \n",
       "Month-01_AAACCTGAGCAACGGT-1                6                6  Progenitor   \n",
       "\n",
       "                             old.ident  \n",
       "Month-01_AAACCTGAGAATTGTG-1         11  \n",
       "Month-01_AAACCTGAGCAACGGT-1          6  "
      ]
     },
     "execution_count": 7,
     "metadata": {},
     "output_type": "execute_result"
    }
   ],
   "source": [
    "rnaseq.obs.head(2)"
   ]
  },
  {
   "cell_type": "markdown",
   "id": "163281e4",
   "metadata": {},
   "source": [
    "### Ligand-Receptor pairs\n",
    "\n",
    "Different databases of ligand-receptor interactions could be used. We previously created a repository that includes many available DBs (https://github.com/LewisLabUCSD/Ligand-Receptor-Pairs). In this tutorial, we employ the ligand-receptor pairs from CellChat (https://doi.org/10.1038/s41467-021-21246-9), which includes multimeric protein complexes."
   ]
  },
  {
   "cell_type": "code",
   "execution_count": 8,
   "id": "b0da21ee",
   "metadata": {},
   "outputs": [],
   "source": [
    "lr_pairs = pd.read_csv('https://raw.githubusercontent.com/LewisLabUCSD/Ligand-Receptor-Pairs/master/Human/Human-2020-Jin-LR-pairs.csv')\n",
    "lr_pairs = lr_pairs.astype(str)"
   ]
  },
  {
   "cell_type": "code",
   "execution_count": 9,
   "id": "a350d0aa",
   "metadata": {},
   "outputs": [
    {
     "data": {
      "text/html": [
       "<div>\n",
       "<style scoped>\n",
       "    .dataframe tbody tr th:only-of-type {\n",
       "        vertical-align: middle;\n",
       "    }\n",
       "\n",
       "    .dataframe tbody tr th {\n",
       "        vertical-align: top;\n",
       "    }\n",
       "\n",
       "    .dataframe thead th {\n",
       "        text-align: right;\n",
       "    }\n",
       "</style>\n",
       "<table border=\"1\" class=\"dataframe\">\n",
       "  <thead>\n",
       "    <tr style=\"text-align: right;\">\n",
       "      <th></th>\n",
       "      <th>interaction_name</th>\n",
       "      <th>pathway_name</th>\n",
       "      <th>ligand</th>\n",
       "      <th>receptor</th>\n",
       "      <th>agonist</th>\n",
       "      <th>antagonist</th>\n",
       "      <th>co_A_receptor</th>\n",
       "      <th>co_I_receptor</th>\n",
       "      <th>evidence</th>\n",
       "      <th>annotation</th>\n",
       "      <th>interaction_name_2</th>\n",
       "      <th>ligand_symbol</th>\n",
       "      <th>receptor_symbol</th>\n",
       "      <th>ligand_ensembl</th>\n",
       "      <th>receptor_ensembl</th>\n",
       "      <th>interaction_symbol</th>\n",
       "      <th>interaction_ensembl</th>\n",
       "    </tr>\n",
       "  </thead>\n",
       "  <tbody>\n",
       "    <tr>\n",
       "      <th>0</th>\n",
       "      <td>TGFB1_TGFBR1_TGFBR2</td>\n",
       "      <td>TGFb</td>\n",
       "      <td>TGFB1</td>\n",
       "      <td>TGFbR1_R2</td>\n",
       "      <td>TGFb agonist</td>\n",
       "      <td>TGFb antagonist</td>\n",
       "      <td>nan</td>\n",
       "      <td>TGFb inhibition receptor</td>\n",
       "      <td>KEGG: hsa04350</td>\n",
       "      <td>Secreted Signaling</td>\n",
       "      <td>TGFB1 - (TGFBR1+TGFBR2)</td>\n",
       "      <td>TGFB1</td>\n",
       "      <td>TGFBR1&amp;TGFBR2</td>\n",
       "      <td>ENSG00000105329</td>\n",
       "      <td>ENSG00000106799&amp;ENSG00000163513</td>\n",
       "      <td>TGFB1^TGFBR1&amp;TGFBR2</td>\n",
       "      <td>ENSG00000105329^ENSG00000106799&amp;ENSG00000163513</td>\n",
       "    </tr>\n",
       "    <tr>\n",
       "      <th>1</th>\n",
       "      <td>TGFB2_TGFBR1_TGFBR2</td>\n",
       "      <td>TGFb</td>\n",
       "      <td>TGFB2</td>\n",
       "      <td>TGFbR1_R2</td>\n",
       "      <td>TGFb agonist</td>\n",
       "      <td>TGFb antagonist</td>\n",
       "      <td>nan</td>\n",
       "      <td>TGFb inhibition receptor</td>\n",
       "      <td>KEGG: hsa04350</td>\n",
       "      <td>Secreted Signaling</td>\n",
       "      <td>TGFB2 - (TGFBR1+TGFBR2)</td>\n",
       "      <td>TGFB2</td>\n",
       "      <td>TGFBR1&amp;TGFBR2</td>\n",
       "      <td>ENSG00000092969</td>\n",
       "      <td>ENSG00000106799&amp;ENSG00000163513</td>\n",
       "      <td>TGFB2^TGFBR1&amp;TGFBR2</td>\n",
       "      <td>ENSG00000092969^ENSG00000106799&amp;ENSG00000163513</td>\n",
       "    </tr>\n",
       "  </tbody>\n",
       "</table>\n",
       "</div>"
      ],
      "text/plain": [
       "      interaction_name pathway_name ligand   receptor       agonist  \\\n",
       "0  TGFB1_TGFBR1_TGFBR2         TGFb  TGFB1  TGFbR1_R2  TGFb agonist   \n",
       "1  TGFB2_TGFBR1_TGFBR2         TGFb  TGFB2  TGFbR1_R2  TGFb agonist   \n",
       "\n",
       "        antagonist co_A_receptor             co_I_receptor        evidence  \\\n",
       "0  TGFb antagonist           nan  TGFb inhibition receptor  KEGG: hsa04350   \n",
       "1  TGFb antagonist           nan  TGFb inhibition receptor  KEGG: hsa04350   \n",
       "\n",
       "           annotation       interaction_name_2 ligand_symbol receptor_symbol  \\\n",
       "0  Secreted Signaling  TGFB1 - (TGFBR1+TGFBR2)         TGFB1   TGFBR1&TGFBR2   \n",
       "1  Secreted Signaling  TGFB2 - (TGFBR1+TGFBR2)         TGFB2   TGFBR1&TGFBR2   \n",
       "\n",
       "    ligand_ensembl                 receptor_ensembl   interaction_symbol  \\\n",
       "0  ENSG00000105329  ENSG00000106799&ENSG00000163513  TGFB1^TGFBR1&TGFBR2   \n",
       "1  ENSG00000092969  ENSG00000106799&ENSG00000163513  TGFB2^TGFBR1&TGFBR2   \n",
       "\n",
       "                               interaction_ensembl  \n",
       "0  ENSG00000105329^ENSG00000106799&ENSG00000163513  \n",
       "1  ENSG00000092969^ENSG00000106799&ENSG00000163513  "
      ]
     },
     "execution_count": 9,
     "metadata": {},
     "output_type": "execute_result"
    }
   ],
   "source": [
    "lr_pairs.head(2)"
   ]
  },
  {
   "cell_type": "code",
   "execution_count": 10,
   "id": "6fc6059b",
   "metadata": {},
   "outputs": [],
   "source": [
    "# interaction columns:\n",
    "int_columns = ('ligand_symbol', 'receptor_symbol')"
   ]
  },
  {
   "cell_type": "markdown",
   "id": "13ee7f66",
   "metadata": {},
   "source": [
    "### MEBOCOST ouputs\n",
    "\n",
    "\n",
    "In this tutorial we assume that you already ran MEBOCOST and saved its ouputs. You can find an example on how running it and format outputs to be used here:\n",
    "\n",
    "- [Run MEBOCOST for Tensor-cell2cell v2](https://github.com/earmingol/cell2cell/blob/master/docs/tutorials/Run-MEBOCOST-v1.2.0.ipynb)"
   ]
  },
  {
   "cell_type": "code",
   "execution_count": 11,
   "id": "584fbd98",
   "metadata": {},
   "outputs": [
    {
     "name": "stdout",
     "output_type": "stream",
     "text": [
      "MEBOCOST-Month-01.csv\n",
      "MEBOCOST-Month-03.csv\n",
      "MEBOCOST-Month-06.csv\n",
      "MEBOCOST-Month-10.csv\n"
     ]
    }
   ],
   "source": [
    "import os\n",
    "\n",
    "mebocost_folder = data_folder + '/mebocost-results/'\n",
    "directory = os.fsencode(mebocost_folder )\n",
    "\n",
    "\n",
    "data = dict()\n",
    "for file in sorted(os.listdir(directory)):\n",
    "    filename = os.fsdecode(file)\n",
    "    if filename.endswith(\".csv\"): \n",
    "        print(filename)\n",
    "        basename = os.path.basename(filename)\n",
    "        sample = basename.split('.')[0]\n",
    "        sample = sample.lstrip('MEBOCOST')[1:]\n",
    "        data[sample] = pd.read_csv(mebocost_folder  + filename)\n",
    "        data[sample] = data[sample].loc[data[sample]['Annotation'].str.contains('Receptor')]\n",
    "    else:\n",
    "        continue"
   ]
  },
  {
   "cell_type": "markdown",
   "id": "1e28d924",
   "metadata": {},
   "source": [
    "## Data Preprocessing"
   ]
  },
  {
   "cell_type": "markdown",
   "id": "90478bb0",
   "metadata": {},
   "source": [
    "### RNA-seq"
   ]
  },
  {
   "cell_type": "markdown",
   "id": "2f2d1a6d",
   "metadata": {},
   "source": [
    "**Organize data to create tensor**"
   ]
  },
  {
   "cell_type": "markdown",
   "id": "e7e8ab5c",
   "metadata": {},
   "source": [
    "First, define contexts"
   ]
  },
  {
   "cell_type": "code",
   "execution_count": 16,
   "id": "b5612e15",
   "metadata": {},
   "outputs": [],
   "source": [
    "contexts = ['Month-01', 'Month-03', 'Month-06', 'Month-10']"
   ]
  },
  {
   "cell_type": "markdown",
   "id": "d052e64d",
   "metadata": {},
   "source": [
    "**Generate list of RNA-seq data containing all contexts (time points)**\n",
    "\n",
    "Here, we convert the single-cell expression levels into cell-type expression levels.\n",
    "A basic context-wise preprocessing is performed here, keeping only genes that are expressed at least in 4 single cells, and cell types per context with at least 20 cells.\n",
    "\n",
    "**Important:** A list of aggregated gene expression matrices must be used for building the 4D-communication tensor. Each of the gene expression matrices is for one of the contexts, following the same order as the previouslist (`contexts`).\n",
    "\n",
    "The aggregation here corresponds to mean expression value across cells of each cell type. Other aggregation methods could be used by changing the parameter ```method='average'``` in the ```aggregate_single_cell()``` function. Additionally, other gene expression values could be passed, using other preprocessing approaches such as log(x+1) or batch correction methods."
   ]
  },
  {
   "cell_type": "code",
   "execution_count": 17,
   "id": "d8e3f647",
   "metadata": {
    "scrolled": true
   },
   "outputs": [
    {
     "data": {
      "application/vnd.jupyter.widget-view+json": {
       "model_id": "ca3c5cafcb684b50ae3d231fd5ac0188",
       "version_major": 2,
       "version_minor": 0
      },
      "text/plain": [
       "HBox(children=(HTML(value=''), FloatProgress(value=0.0, max=4.0), HTML(value='')))"
      ]
     },
     "metadata": {},
     "output_type": "display_data"
    },
    {
     "name": "stdout",
     "output_type": "stream",
     "text": [
      "\n"
     ]
    }
   ],
   "source": [
    "rnaseq_matrices = []\n",
    "\n",
    "for context in tqdm(contexts):\n",
    "    meta_context = rnaseq.obs.loc[(rnaseq.obs['orig.ident'] == context) \\\n",
    "                                  & (rnaseq.obs['celltype'] != 'Other') & (rnaseq.obs['celltype'] != 'MC')]\n",
    "    \n",
    "    # Remove celltype per context that has few single cells\n",
    "    min_sc_number = 20\n",
    "    excluded_sc = []\n",
    "    for idx, row in (meta_context.groupby(['celltype'])[['celltype']].count() >= min_sc_number).iterrows():\n",
    "        if ~row['celltype']:\n",
    "            excluded_sc.append(idx)\n",
    "        \n",
    "    meta_context = meta_context.loc[~meta_context['celltype'].isin(excluded_sc)]\n",
    "    cells = list(meta_context.index)\n",
    "\n",
    "    meta_context.index.name = 'barcode'\n",
    "    tmp_data = rnaseq[cells]\n",
    "    # Keep genes in each sample with at least 4 single cells expressing it\n",
    "    sc.pp.filter_genes(tmp_data, min_cells=4)\n",
    "    \n",
    "    # Normalize and Log1p\n",
    "    sc.pp.normalize_total(tmp_data, target_sum=1e6)\n",
    "    sc.pp.log1p(tmp_data)\n",
    "\n",
    "    # Aggregate gene expression of single cells into cell types\n",
    "    exp_df = c2c.preprocessing.aggregate_single_cells(rnaseq_data=tmp_data.to_df(),\n",
    "                                                      metadata=meta_context,\n",
    "                                                      barcode_col='barcode',\n",
    "                                                      celltype_col='celltype',\n",
    "                                                      method='average',\n",
    "                                                     )\n",
    "\n",
    "    rnaseq_matrices.append(exp_df)"
   ]
  },
  {
   "cell_type": "markdown",
   "id": "206614e9-5e0e-4bb8-a0a6-f8a515e6376c",
   "metadata": {},
   "source": [
    "`rnaseq_matrices` is the list we will use for building the tensor based on protein-based ligand-receptor pairs."
   ]
  },
  {
   "cell_type": "markdown",
   "id": "3cc2b24f-8982-4d32-b55a-975ba9f0f07e",
   "metadata": {},
   "source": [
    "### LR pairs"
   ]
  },
  {
   "cell_type": "markdown",
   "id": "b961f805-8014-45b3-bea7-83832f4e0506",
   "metadata": {},
   "source": [
    "Remove bidirectionality in the list of protein-based ligand-receptor pairs. That is, remove repeated interactions where both interactions are the same but in different order:\n",
    "\n",
    "From this list:\n",
    "\n",
    "| Ligand | Receptor |\n",
    "| --- | --- |\n",
    "| Protein A | Protein B |\n",
    "| Protein B | Protein A |\n",
    "\n",
    "We will have:\n",
    "\n",
    "| Ligand | Receptor |\n",
    "| --- | --- |\n",
    "| Protein A | Protein B |"
   ]
  },
  {
   "cell_type": "code",
   "execution_count": 13,
   "id": "86c7a17c",
   "metadata": {},
   "outputs": [
    {
     "name": "stdout",
     "output_type": "stream",
     "text": [
      "Removing bidirectionality of PPI network\n"
     ]
    }
   ],
   "source": [
    "lr_pairs = c2c.preprocessing.ppi.remove_ppi_bidirectionality(ppi_data=lr_pairs, \n",
    "                                                             interaction_columns=int_columns\n",
    "                                                             )"
   ]
  },
  {
   "cell_type": "code",
   "execution_count": 14,
   "id": "3290cb32",
   "metadata": {},
   "outputs": [
    {
     "data": {
      "text/plain": [
       "(1988, 17)"
      ]
     },
     "execution_count": 14,
     "metadata": {},
     "output_type": "execute_result"
    }
   ],
   "source": [
    "lr_pairs.shape"
   ]
  },
  {
   "cell_type": "markdown",
   "id": "b3c717cb-bd22-45e6-87c8-0568887f5553",
   "metadata": {},
   "source": [
    "**Generate a dictionary with function info for each LR pairs.**\n",
    "\n",
    "Keys are ***LIGAND_NAME^RECEPTOR_NAME*** (this is the same nomenclature that will be used when building the protein-based 4D-communication tensor later), and values are the function in the annotation column in the dataframe containing ligand-receptor pairs. ***Other functional annotations of the LR pairs could be used if available.***"
   ]
  },
  {
   "cell_type": "code",
   "execution_count": 15,
   "id": "73645bfa",
   "metadata": {},
   "outputs": [],
   "source": [
    "ppi_functions = dict()\n",
    "\n",
    "for idx, row in lr_pairs.iterrows():\n",
    "    ppi_functions[row['interaction_symbol']] = row['annotation']"
   ]
  },
  {
   "cell_type": "markdown",
   "id": "1efe55cf-7b2c-4f72-ac3e-b24a5e3d2ad5",
   "metadata": {},
   "source": [
    "Similarly, we can generate the functions for the metabolite-based ligand-receptor pairs. For that, we open the MEBOCOST database:"
   ]
  },
  {
   "cell_type": "code",
   "execution_count": 23,
   "id": "ce0f7847-6ba0-47eb-b0d6-401f0adb8614",
   "metadata": {},
   "outputs": [],
   "source": [
    "met_sensor = pd.read_csv('https://raw.githubusercontent.com/kaifuchenlab/MEBOCOST/refs/heads/main/data/mebocost_db/human/human_met_sensor_update_May21_2025.tsv', \n",
    "                         sep='\\t',\n",
    "                         index_col=0\n",
    "                        )"
   ]
  },
  {
   "cell_type": "code",
   "execution_count": 24,
   "id": "c5e91ddb-8f19-4373-b50c-8b835891b6bd",
   "metadata": {},
   "outputs": [
    {
     "data": {
      "text/html": [
       "<div>\n",
       "<style scoped>\n",
       "    .dataframe tbody tr th:only-of-type {\n",
       "        vertical-align: middle;\n",
       "    }\n",
       "\n",
       "    .dataframe tbody tr th {\n",
       "        vertical-align: top;\n",
       "    }\n",
       "\n",
       "    .dataframe thead th {\n",
       "        text-align: right;\n",
       "    }\n",
       "</style>\n",
       "<table border=\"1\" class=\"dataframe\">\n",
       "  <thead>\n",
       "    <tr style=\"text-align: right;\">\n",
       "      <th></th>\n",
       "      <th>HMDB_ID</th>\n",
       "      <th>standard_metName</th>\n",
       "      <th>metName</th>\n",
       "      <th>Gene_name</th>\n",
       "      <th>Protein_name</th>\n",
       "      <th>Evidence</th>\n",
       "      <th>Annotation</th>\n",
       "    </tr>\n",
       "    <tr>\n",
       "      <th>ID</th>\n",
       "      <th></th>\n",
       "      <th></th>\n",
       "      <th></th>\n",
       "      <th></th>\n",
       "      <th></th>\n",
       "      <th></th>\n",
       "      <th></th>\n",
       "    </tr>\n",
       "  </thead>\n",
       "  <tbody>\n",
       "    <tr>\n",
       "      <th>1</th>\n",
       "      <td>HMDB0006247</td>\n",
       "      <td>25-Hydroxycholesterol</td>\n",
       "      <td>25-Hydroxycholesterol</td>\n",
       "      <td>ABCA1</td>\n",
       "      <td>Phospholipid-transporting ATPase ABCA1</td>\n",
       "      <td>16611739</td>\n",
       "      <td>Transporter</td>\n",
       "    </tr>\n",
       "    <tr>\n",
       "      <th>2</th>\n",
       "      <td>HMDB0000517</td>\n",
       "      <td>L-Arginine</td>\n",
       "      <td>Arginine; L-Arginine</td>\n",
       "      <td>SLC7A1</td>\n",
       "      <td>High affinity cationic amino acid transporter 1</td>\n",
       "      <td>33209975; 17325243; 33639836; 23831616; 221449...</td>\n",
       "      <td>Transporter</td>\n",
       "    </tr>\n",
       "  </tbody>\n",
       "</table>\n",
       "</div>"
      ],
      "text/plain": [
       "        HMDB_ID       standard_metName                metName Gene_name  \\\n",
       "ID                                                                        \n",
       "1   HMDB0006247  25-Hydroxycholesterol  25-Hydroxycholesterol     ABCA1   \n",
       "2   HMDB0000517             L-Arginine   Arginine; L-Arginine    SLC7A1   \n",
       "\n",
       "                                       Protein_name  \\\n",
       "ID                                                    \n",
       "1            Phospholipid-transporting ATPase ABCA1   \n",
       "2   High affinity cationic amino acid transporter 1   \n",
       "\n",
       "                                             Evidence   Annotation  \n",
       "ID                                                                  \n",
       "1                                            16611739  Transporter  \n",
       "2   33209975; 17325243; 33639836; 23831616; 221449...  Transporter  "
      ]
     },
     "execution_count": 24,
     "metadata": {},
     "output_type": "execute_result"
    }
   ],
   "source": [
    "met_sensor.head(2)"
   ]
  },
  {
   "cell_type": "markdown",
   "id": "1ffb105d-bbed-4d4d-b193-8dec5e41c8b8",
   "metadata": {},
   "source": [
    "Then, generate the ***LIGAND_NAME^RECEPTOR_NAME*** nomenclature that will be used to build the tensor later."
   ]
  },
  {
   "cell_type": "code",
   "execution_count": 25,
   "id": "0c4386d6",
   "metadata": {},
   "outputs": [],
   "source": [
    "met_sensor['interaction'] = met_sensor.apply(lambda row: row['standard_metName'] + '^' + row['Gene_name'], axis=1)"
   ]
  },
  {
   "cell_type": "markdown",
   "id": "edfc72a5-c3cd-42c1-894b-cd3c4dad040a",
   "metadata": {},
   "source": [
    "We get the annotation of each ligand-receptor interaction. Again, this could be a different information/annotation if available."
   ]
  },
  {
   "cell_type": "code",
   "execution_count": 26,
   "id": "a70711a4",
   "metadata": {},
   "outputs": [],
   "source": [
    "met_mapper = met_sensor.set_index('interaction').to_dict()['Annotation']"
   ]
  },
  {
   "cell_type": "markdown",
   "id": "5d05aadd-e391-4527-9f2d-541a383a0da4",
   "metadata": {},
   "source": [
    "And add it to our `ppi_function` dictionary"
   ]
  },
  {
   "cell_type": "code",
   "execution_count": 27,
   "id": "ff8478b7",
   "metadata": {},
   "outputs": [],
   "source": [
    "for m in tensor_met.order_names[1]:\n",
    "    ppi_functions[m] = 'Metabolite ' + met_mapper[m]"
   ]
  },
  {
   "cell_type": "markdown",
   "id": "a2d2604e",
   "metadata": {},
   "source": [
    "## Build Tensors"
   ]
  },
  {
   "cell_type": "markdown",
   "id": "3c697a62",
   "metadata": {},
   "source": [
    "### Build 4D-Communication Tensor\n",
    "\n",
    "Here we use as input the list of gene expression matrices that were aggregated into a cell-type granularity. This list contains the expression matrices of all samples/contexts.\n",
    "\n",
    "The following functions perform all the steps to build a 4D-communication tensor:\n",
    "\n",
    "![4dtensor](../figures/4d-tensor.png)\n",
    "\n",
    "\n",
    "\n",
    "\n",
    "The parameter ```communication_score``` indicates the scoring function to use.\n",
    "\n",
    "\n",
    "```how='outer_cells'``` considers only LR pairs that are present in all contexts, while all cell types in the whole dataset are kept, regardless they appear only in one or a few contexts.\n",
    "\n",
    "```complex_sep='&'``` is used to specify that the list of ligand-receptor pairs contains protein complexes and that subunits are separated by '&'. If the list does not have complexes, use ```complex_sep=None``` instead."
   ]
  },
  {
   "cell_type": "code",
   "execution_count": 18,
   "id": "fca35ef9",
   "metadata": {},
   "outputs": [
    {
     "name": "stdout",
     "output_type": "stream",
     "text": [
      "Getting expression values for protein complexes\n",
      "Building tensor for the provided context\n"
     ]
    }
   ],
   "source": [
    "tensor_lr = c2c.tensor.InteractionTensor(rnaseq_matrices=rnaseq_matrices,\n",
    "                                         ppi_data=lr_pairs,\n",
    "                                         context_names=contexts,\n",
    "                                         how='outer_cells',\n",
    "                                         complex_sep='&',\n",
    "                                         interaction_columns=int_columns,\n",
    "                                         communication_score='expression_gmean',\n",
    "                                         order_labels=['Contexts', 'Protein LRIs', 'Sender Cells', 'Receiver Cells'],\n",
    "                                         device='cuda' if use_gpu else 'cpu'\n",
    "                                        )"
   ]
  },
  {
   "cell_type": "code",
   "execution_count": 19,
   "id": "1a340ac5",
   "metadata": {},
   "outputs": [
    {
     "data": {
      "text/plain": [
       "torch.Size([4, 422, 5, 5])"
      ]
     },
     "execution_count": 19,
     "metadata": {},
     "output_type": "execute_result"
    }
   ],
   "source": [
    "tensor_lr.tensor.shape"
   ]
  },
  {
   "cell_type": "markdown",
   "id": "5e9f851d-ca8c-4be8-bc5e-54d0b1413a5b",
   "metadata": {},
   "source": [
    "By using our MEBOCOST outputs directly, we can generate our metabolite-based 4D communication tensor:"
   ]
  },
  {
   "cell_type": "code",
   "execution_count": 20,
   "id": "9ba5ba41",
   "metadata": {},
   "outputs": [
    {
     "name": "stderr",
     "output_type": "stream",
     "text": [
      "100%|██████████| 4/4 [00:00<00:00,  6.45it/s]\n"
     ]
    }
   ],
   "source": [
    "tensor_met = c2c.tensor.dataframes_to_tensor(context_df_dict=data,\n",
    "                                             sender_col='Sender',\n",
    "                                             receiver_col='Receiver',\n",
    "                                             ligand_col='Metabolite_Name',\n",
    "                                             receptor_col='Sensor',\n",
    "                                             score_col='Commu_Score',\n",
    "                                             order_labels=['Contexts', 'Metabolite LRIs', 'Sender Cells', 'Receiver Cells'],\n",
    "                                             how='outer_cells', # Multiple options implemented now\n",
    "                                             lr_sep='^',\n",
    "                                             context_order=sorted(data.keys()),\n",
    "                                             sort_elements=True,\n",
    "                                             device='cuda' if use_gpu else 'cpu'\n",
    "                                            )"
   ]
  },
  {
   "cell_type": "code",
   "execution_count": 21,
   "id": "8d65117b",
   "metadata": {},
   "outputs": [
    {
     "data": {
      "text/plain": [
       "torch.Size([4, 52, 5, 5])"
      ]
     },
     "execution_count": 21,
     "metadata": {},
     "output_type": "execute_result"
    }
   ],
   "source": [
    "tensor_met.tensor.shape"
   ]
  },
  {
   "cell_type": "markdown",
   "id": "cff7e070",
   "metadata": {},
   "source": [
    "**Modify MEBOCOST scores**\n",
    "\n",
    "Here, we modify the original MEBOCOST scores (which are the product between metabolite production and sensor expression). Given the way that MEBOCOST computes the scores, it allows negative values (when the enzymes consuming the metabolite present higher expression than those producing it), we make these values to be zero, as in our case we are only interested when the metabolite is produced.\n",
    "\n",
    "Additionally, we use the square root of the final score, to represent the geometric mean between the ligand and the receptor, consistent with our calculations for the protein-based LR pairs above."
   ]
  },
  {
   "cell_type": "code",
   "execution_count": 22,
   "id": "b431e860",
   "metadata": {},
   "outputs": [],
   "source": [
    "tensor_met.tensor = tl.sqrt((tensor_met.tensor >= 0) * tensor_met.tensor) # Remove negative cases and convert to gmean"
   ]
  },
  {
   "cell_type": "markdown",
   "id": "3b102a34",
   "metadata": {},
   "source": [
    "**Generate a list containing metadata for each tensor order/dimension - Later used for coloring factor plots**\n",
    "\n",
    "This is a list containing metadata for each dimension of the tensor (contexts, LR pairs, sender cells, receiver cells). Each metadata corresponds to a dataframe with info of each element in the respective dimension.\n",
    "\n",
    "We start with the protein-based tensor."
   ]
  },
  {
   "cell_type": "code",
   "execution_count": 28,
   "id": "dfb64b78",
   "metadata": {},
   "outputs": [],
   "source": [
    "meta_tf = c2c.tensor.generate_tensor_metadata(interaction_tensor=tensor_lr,\n",
    "                                              metadata_dicts=[None, ppi_functions, None, None],\n",
    "                                              fill_with_order_elements=True\n",
    "                                             )"
   ]
  },
  {
   "cell_type": "markdown",
   "id": "930b8e8f-bd91-4523-b47e-66d00c97c37b",
   "metadata": {},
   "source": [
    "We continue with the metabolite-based tensor."
   ]
  },
  {
   "cell_type": "code",
   "execution_count": 29,
   "id": "f816c1f2-3770-4929-a68a-00aba20e864b",
   "metadata": {},
   "outputs": [],
   "source": [
    "meta_tf2 = c2c.tensor.generate_tensor_metadata(interaction_tensor=tensor_met,\n",
    "                                              metadata_dicts=[None, ppi_functions, None, None],\n",
    "                                              fill_with_order_elements=True\n",
    "                                             )"
   ]
  },
  {
   "cell_type": "markdown",
   "id": "83ab1a4f-a6aa-49e0-a342-a4793502b17f",
   "metadata": {},
   "source": [
    "## Re-order ligand-receptor interactions based on their categories\n",
    "\n",
    "Later, we will be interested in plotting our results and group LR pairs by their annotations, so we sort them in a way that those with similar annotations will be plot together.\n",
    "\n",
    "First, we sort them in the metadata."
   ]
  },
  {
   "cell_type": "code",
   "execution_count": 30,
   "id": "52ef3dd6-67e1-4165-b43e-7cb2c16c4b65",
   "metadata": {},
   "outputs": [],
   "source": [
    "meta_tf[1].sort_values(['Category', 'Element'], inplace=True)\n",
    "meta_tf2[1].sort_values(['Category', 'Element'], inplace=True)"
   ]
  },
  {
   "cell_type": "markdown",
   "id": "2a9493c1-03de-41ba-8bc5-8cc86829e940",
   "metadata": {},
   "source": [
    "Then, based on this new order, we sort their locations within the tensors."
   ]
  },
  {
   "cell_type": "code",
   "execution_count": 31,
   "id": "05d81c30-f667-44fa-95b6-c21b9f356a43",
   "metadata": {},
   "outputs": [],
   "source": [
    "tensor_lr = c2c.tensor.subset_tensor(tensor_lr, subset_dict={1: meta_tf[1]['Element'].values.tolist()})\n",
    "tensor_met = c2c.tensor.subset_tensor(tensor_met, subset_dict={1: meta_tf2[1]['Element'].values.tolist()})"
   ]
  },
  {
   "cell_type": "markdown",
   "id": "bbd15caf",
   "metadata": {},
   "source": [
    "## Export tensors and metadata\n",
    "\n",
    "Finally, we export both, metadata and tensor for both modalities (protein- and metabolite-based communication)."
   ]
  },
  {
   "cell_type": "code",
   "execution_count": 32,
   "id": "1e6910c1",
   "metadata": {},
   "outputs": [
    {
     "name": "stdout",
     "output_type": "stream",
     "text": [
      "/data/Tensor-cell2cell//Initial-c2c-Tensor.pkl  was correctly saved.\n",
      "/data/Tensor-cell2cell//Initial-MEBOCOST-Tensor.pkl  was correctly saved.\n"
     ]
    }
   ],
   "source": [
    "c2c.io.save_data.export_variable_with_pickle(tensor_lr, output_folder + '/Initial-c2c-Tensor.pkl')\n",
    "c2c.io.save_data.export_variable_with_pickle(tensor_met, output_folder + '/Initial-MEBOCOST-Tensor.pkl')"
   ]
  },
  {
   "cell_type": "code",
   "execution_count": 33,
   "id": "783a1025-deda-4db2-b8dc-47e0f147b300",
   "metadata": {},
   "outputs": [
    {
     "name": "stdout",
     "output_type": "stream",
     "text": [
      "/data/Tensor-cell2cell//Meta-Initial-c2c-Tensor.pkl  was correctly saved.\n",
      "/data/Tensor-cell2cell//Meta-Initial-MEBOCOST-Tensor.pkl  was correctly saved.\n"
     ]
    }
   ],
   "source": [
    "c2c.io.save_data.export_variable_with_pickle(meta_tf, output_folder + '/Meta-Initial-c2c-Tensor.pkl')\n",
    "c2c.io.save_data.export_variable_with_pickle(meta_tf2, output_folder + '/Meta-Initial-MEBOCOST-Tensor.pkl')"
   ]
  }
 ],
 "metadata": {
  "kernelspec": {
   "display_name": "Python 3 (ipykernel)",
   "language": "python",
   "name": "python3"
  },
  "language_info": {
   "codemirror_mode": {
    "name": "ipython",
    "version": 3
   },
   "file_extension": ".py",
   "mimetype": "text/x-python",
   "name": "python",
   "nbconvert_exporter": "python",
   "pygments_lexer": "ipython3",
   "version": "3.10.18"
  }
 },
 "nbformat": 4,
 "nbformat_minor": 5
}
