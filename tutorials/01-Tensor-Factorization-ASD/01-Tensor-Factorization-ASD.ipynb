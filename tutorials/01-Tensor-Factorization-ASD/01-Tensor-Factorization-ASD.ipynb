{
 "cells": [
  {
   "cell_type": "markdown",
   "id": "0e7b86fd",
   "metadata": {},
   "source": [
    "# Obtaining patterns of cell-cell communication with Tensor-cell2cell\n",
    "\n",
    "This tutorial is focused on running Tensor-cell2cell on a single-cell dataset. In this case, we use samples from patients with Autism Spectrum Disorders, previously published on https://doi.org/10.1126/science.aav8130. Specifically, we explore how cell-cell communication is shaped by the ASD condition in the prefrontal brain cortex of patients."
   ]
  },
  {
   "cell_type": "markdown",
   "id": "a90470f7",
   "metadata": {},
   "source": [
    "**Read this if you plan using a GPU to speed-up the analysis.** Before running this notebook, make sure to have a proper NVIDIA GPU driver (https://www.nvidia.com/Download/index.aspx) as well as the CUDA toolkit (https://developer.nvidia.com/cuda-toolkit) installed.\n",
    "\n",
    "Then, make sure to create an environment with Pytorch >= v1.8.0 following these instructions to enable CUDA.\n",
    "\n",
    "https://pytorch.org/get-started/locally/\n",
    "\n",
    "Once you have everything installed, run the next blocks two blocks of code before everything.\n",
    "\n",
    "**If you are using a NVIDIA GPU, with PyTorch and CUDA, set the following variable to be True**\n",
    "\n",
    "```use_gpu = True```"
   ]
  },
  {
   "cell_type": "code",
   "execution_count": 1,
   "id": "efb0a3b4",
   "metadata": {},
   "outputs": [],
   "source": [
    "use_gpu = False"
   ]
  },
  {
   "cell_type": "code",
   "execution_count": 2,
   "id": "0bd74db5",
   "metadata": {},
   "outputs": [],
   "source": [
    "if use_gpu:\n",
    "    import tensorly as tl\n",
    "    tl.set_backend('pytorch')"
   ]
  },
  {
   "cell_type": "code",
   "execution_count": 3,
   "id": "9f55d0d3",
   "metadata": {},
   "outputs": [],
   "source": [
    "import cell2cell as c2c\n",
    "import scanpy as sc\n",
    "\n",
    "import numpy as np\n",
    "import pandas as pd\n",
    "\n",
    "from tqdm.auto import tqdm\n",
    "\n",
    "import matplotlib.pyplot as plt\n",
    "import seaborn as sns\n",
    "%matplotlib inline"
   ]
  },
  {
   "cell_type": "code",
   "execution_count": 4,
   "id": "14cb9a5e",
   "metadata": {},
   "outputs": [],
   "source": [
    "import warnings\n",
    "warnings.filterwarnings('ignore')"
   ]
  },
  {
   "cell_type": "code",
   "execution_count": 5,
   "id": "28ed2162",
   "metadata": {},
   "outputs": [
    {
     "data": {
      "text/plain": [
       "'0.5.10'"
      ]
     },
     "execution_count": 5,
     "metadata": {},
     "output_type": "execute_result"
    }
   ],
   "source": [
    "c2c.__version__"
   ]
  },
  {
   "cell_type": "markdown",
   "id": "d85faca3",
   "metadata": {},
   "source": [
    "**IMPORTANT: In this notebook, the version 0.5.10 of cell2cell is used. This may cause subtle differences in the results in comparison to the results in the manuscript of Tensor-cell2cell (performed with the version 0.5.9).**"
   ]
  },
  {
   "cell_type": "markdown",
   "id": "3385d873",
   "metadata": {},
   "source": [
    "## Load Data"
   ]
  },
  {
   "cell_type": "markdown",
   "id": "4e9ed246",
   "metadata": {},
   "source": [
    "**Specify folders where the data is located, and where the outputs will be written:**"
   ]
  },
  {
   "cell_type": "code",
   "execution_count": 6,
   "id": "1fa62b1b",
   "metadata": {},
   "outputs": [],
   "source": [
    "import os\n",
    "\n",
    "data_folder = './'\n",
    "directory = os.fsencode(data_folder)\n",
    "\n",
    "output_folder = './results/'\n",
    "if not os.path.isdir(output_folder):\n",
    "    os.mkdir(output_folder)"
   ]
  },
  {
   "cell_type": "markdown",
   "id": "7f00c7d8",
   "metadata": {},
   "source": [
    "### RNA-seq data\n",
    "\n",
    "In this case, the expression matrix was obtained from: https://cells.ucsc.edu/autism/exprMatrix.tsv.gz\n",
    "<br>Values are 10x UMI counts from cellranger, log2-transformed\n",
    "\n",
    "Metadata was obtained from: https://cells.ucsc.edu/autism/meta.tsv"
   ]
  },
  {
   "cell_type": "code",
   "execution_count": 7,
   "id": "3bcb83b4",
   "metadata": {},
   "outputs": [],
   "source": [
    "rnaseq = sc.read_text(data_folder + '/exprMatrix.tsv.gz')\n",
    "rnaseq = rnaseq.transpose()\n",
    "meta = pd.read_csv(data_folder + '/meta.tsv', sep='\\t', index_col=0)\n",
    "rnaseq.obs = rnaseq.obs.join(meta)"
   ]
  },
  {
   "cell_type": "markdown",
   "id": "95ca968d",
   "metadata": {},
   "source": [
    "**Alternatively, a H5AD file can be downloaded from** \n",
    "\n",
    "https://codeocean.com/capsule/9737314/tree/v2\n",
    "\n",
    "(look for the file in the /data/Brain-ASD/ folder)"
   ]
  },
  {
   "cell_type": "code",
   "execution_count": 8,
   "id": "916019fe",
   "metadata": {},
   "outputs": [],
   "source": [
    "# rnaseq = sc.read_h5ad(data_folder + '/Brain-ASD/Brain_ASD.h5ad')"
   ]
  },
  {
   "cell_type": "markdown",
   "id": "5ffb3a4a",
   "metadata": {},
   "source": [
    "**Inspect the object**"
   ]
  },
  {
   "cell_type": "code",
   "execution_count": 9,
   "id": "124067e2",
   "metadata": {},
   "outputs": [
    {
     "data": {
      "text/plain": [
       "AnnData object with n_obs × n_vars = 104559 × 36501\n",
       "    obs: 'cluster', 'sample', 'individual', 'region', 'age', 'sex', 'diagnosis', 'Capbatch', 'Seqbatch', 'post-mortem interval (hours)', 'RNA Integrity Number', 'genes', 'UMIs', 'RNA mitochondr. percent', 'RNA ribosomal percent'"
      ]
     },
     "execution_count": 9,
     "metadata": {},
     "output_type": "execute_result"
    }
   ],
   "source": [
    "rnaseq"
   ]
  },
  {
   "cell_type": "markdown",
   "id": "c54d813f",
   "metadata": {},
   "source": [
    "**Select only samples from the prefrontal cortex (PFC)**\n",
    "\n",
    "This step could be skipped in other datasets where you want to use all samples."
   ]
  },
  {
   "cell_type": "code",
   "execution_count": 10,
   "id": "f1081a2d",
   "metadata": {},
   "outputs": [],
   "source": [
    "brain_area = 'PFC'"
   ]
  },
  {
   "cell_type": "code",
   "execution_count": 11,
   "id": "4b482d99",
   "metadata": {},
   "outputs": [],
   "source": [
    "rnaseq = rnaseq[rnaseq.obs.region == brain_area]"
   ]
  },
  {
   "cell_type": "code",
   "execution_count": 12,
   "id": "d3ea8458",
   "metadata": {},
   "outputs": [
    {
     "data": {
      "text/plain": [
       "View of AnnData object with n_obs × n_vars = 62166 × 36501\n",
       "    obs: 'cluster', 'sample', 'individual', 'region', 'age', 'sex', 'diagnosis', 'Capbatch', 'Seqbatch', 'post-mortem interval (hours)', 'RNA Integrity Number', 'genes', 'UMIs', 'RNA mitochondr. percent', 'RNA ribosomal percent'"
      ]
     },
     "execution_count": 12,
     "metadata": {},
     "output_type": "execute_result"
    }
   ],
   "source": [
    "rnaseq"
   ]
  },
  {
   "cell_type": "markdown",
   "id": "163281e4",
   "metadata": {},
   "source": [
    "### Data for Ligand-Receptor pairs"
   ]
  },
  {
   "cell_type": "markdown",
   "id": "74d2bbe1",
   "metadata": {},
   "source": [
    "Different databases of ligand-receptor interactions could be used. We previously created a repository that includes many available DBs (https://github.com/LewisLabUCSD/Ligand-Receptor-Pairs). In this tutorial, we employ the ligand-receptor pairs from CellChat (https://doi.org/10.1038/s41467-021-21246-9), which includes multimeric protein complexes."
   ]
  },
  {
   "cell_type": "code",
   "execution_count": 13,
   "id": "b0da21ee",
   "metadata": {},
   "outputs": [],
   "source": [
    "lr_pairs = pd.read_csv('https://raw.githubusercontent.com/LewisLabUCSD/Ligand-Receptor-Pairs/master/Human/Human-2020-Jin-LR-pairs.csv')\n",
    "lr_pairs = lr_pairs.astype(str)"
   ]
  },
  {
   "cell_type": "code",
   "execution_count": 14,
   "id": "a350d0aa",
   "metadata": {},
   "outputs": [
    {
     "data": {
      "text/html": [
       "<div>\n",
       "<style scoped>\n",
       "    .dataframe tbody tr th:only-of-type {\n",
       "        vertical-align: middle;\n",
       "    }\n",
       "\n",
       "    .dataframe tbody tr th {\n",
       "        vertical-align: top;\n",
       "    }\n",
       "\n",
       "    .dataframe thead th {\n",
       "        text-align: right;\n",
       "    }\n",
       "</style>\n",
       "<table border=\"1\" class=\"dataframe\">\n",
       "  <thead>\n",
       "    <tr style=\"text-align: right;\">\n",
       "      <th></th>\n",
       "      <th>interaction_name</th>\n",
       "      <th>pathway_name</th>\n",
       "      <th>ligand</th>\n",
       "      <th>receptor</th>\n",
       "      <th>agonist</th>\n",
       "      <th>antagonist</th>\n",
       "      <th>co_A_receptor</th>\n",
       "      <th>co_I_receptor</th>\n",
       "      <th>evidence</th>\n",
       "      <th>annotation</th>\n",
       "      <th>interaction_name_2</th>\n",
       "      <th>ligand_symbol</th>\n",
       "      <th>receptor_symbol</th>\n",
       "      <th>ligand_ensembl</th>\n",
       "      <th>receptor_ensembl</th>\n",
       "      <th>interaction_symbol</th>\n",
       "      <th>interaction_ensembl</th>\n",
       "    </tr>\n",
       "  </thead>\n",
       "  <tbody>\n",
       "    <tr>\n",
       "      <th>0</th>\n",
       "      <td>TGFB1_TGFBR1_TGFBR2</td>\n",
       "      <td>TGFb</td>\n",
       "      <td>TGFB1</td>\n",
       "      <td>TGFbR1_R2</td>\n",
       "      <td>TGFb agonist</td>\n",
       "      <td>TGFb antagonist</td>\n",
       "      <td>nan</td>\n",
       "      <td>TGFb inhibition receptor</td>\n",
       "      <td>KEGG: hsa04350</td>\n",
       "      <td>Secreted Signaling</td>\n",
       "      <td>TGFB1 - (TGFBR1+TGFBR2)</td>\n",
       "      <td>TGFB1</td>\n",
       "      <td>TGFBR1&amp;TGFBR2</td>\n",
       "      <td>ENSG00000105329</td>\n",
       "      <td>ENSG00000106799&amp;ENSG00000163513</td>\n",
       "      <td>TGFB1^TGFBR1&amp;TGFBR2</td>\n",
       "      <td>ENSG00000105329^ENSG00000106799&amp;ENSG00000163513</td>\n",
       "    </tr>\n",
       "    <tr>\n",
       "      <th>1</th>\n",
       "      <td>TGFB2_TGFBR1_TGFBR2</td>\n",
       "      <td>TGFb</td>\n",
       "      <td>TGFB2</td>\n",
       "      <td>TGFbR1_R2</td>\n",
       "      <td>TGFb agonist</td>\n",
       "      <td>TGFb antagonist</td>\n",
       "      <td>nan</td>\n",
       "      <td>TGFb inhibition receptor</td>\n",
       "      <td>KEGG: hsa04350</td>\n",
       "      <td>Secreted Signaling</td>\n",
       "      <td>TGFB2 - (TGFBR1+TGFBR2)</td>\n",
       "      <td>TGFB2</td>\n",
       "      <td>TGFBR1&amp;TGFBR2</td>\n",
       "      <td>ENSG00000092969</td>\n",
       "      <td>ENSG00000106799&amp;ENSG00000163513</td>\n",
       "      <td>TGFB2^TGFBR1&amp;TGFBR2</td>\n",
       "      <td>ENSG00000092969^ENSG00000106799&amp;ENSG00000163513</td>\n",
       "    </tr>\n",
       "  </tbody>\n",
       "</table>\n",
       "</div>"
      ],
      "text/plain": [
       "      interaction_name pathway_name ligand   receptor       agonist  \\\n",
       "0  TGFB1_TGFBR1_TGFBR2         TGFb  TGFB1  TGFbR1_R2  TGFb agonist   \n",
       "1  TGFB2_TGFBR1_TGFBR2         TGFb  TGFB2  TGFbR1_R2  TGFb agonist   \n",
       "\n",
       "        antagonist co_A_receptor             co_I_receptor        evidence  \\\n",
       "0  TGFb antagonist           nan  TGFb inhibition receptor  KEGG: hsa04350   \n",
       "1  TGFb antagonist           nan  TGFb inhibition receptor  KEGG: hsa04350   \n",
       "\n",
       "           annotation       interaction_name_2 ligand_symbol receptor_symbol  \\\n",
       "0  Secreted Signaling  TGFB1 - (TGFBR1+TGFBR2)         TGFB1   TGFBR1&TGFBR2   \n",
       "1  Secreted Signaling  TGFB2 - (TGFBR1+TGFBR2)         TGFB2   TGFBR1&TGFBR2   \n",
       "\n",
       "    ligand_ensembl                 receptor_ensembl   interaction_symbol  \\\n",
       "0  ENSG00000105329  ENSG00000106799&ENSG00000163513  TGFB1^TGFBR1&TGFBR2   \n",
       "1  ENSG00000092969  ENSG00000106799&ENSG00000163513  TGFB2^TGFBR1&TGFBR2   \n",
       "\n",
       "                               interaction_ensembl  \n",
       "0  ENSG00000105329^ENSG00000106799&ENSG00000163513  \n",
       "1  ENSG00000092969^ENSG00000106799&ENSG00000163513  "
      ]
     },
     "execution_count": 14,
     "metadata": {},
     "output_type": "execute_result"
    }
   ],
   "source": [
    "lr_pairs.head(2)"
   ]
  },
  {
   "cell_type": "markdown",
   "id": "8300ad6a",
   "metadata": {},
   "source": [
    "Next, we specify the column where the ligand and receptors are containing for each interaction. Here, the idea is to use names that match those in the expression matrix."
   ]
  },
  {
   "cell_type": "code",
   "execution_count": 15,
   "id": "6fc6059b",
   "metadata": {},
   "outputs": [],
   "source": [
    "int_columns = ('ligand_symbol', 'receptor_symbol')"
   ]
  },
  {
   "cell_type": "markdown",
   "id": "1e28d924",
   "metadata": {},
   "source": [
    "## Data Preprocessing"
   ]
  },
  {
   "cell_type": "markdown",
   "id": "90478bb0",
   "metadata": {},
   "source": [
    "### RNA-seq"
   ]
  },
  {
   "cell_type": "markdown",
   "id": "2f2d1a6d",
   "metadata": {},
   "source": [
    "**Organize data to create tensor**"
   ]
  },
  {
   "cell_type": "markdown",
   "id": "e7e8ab5c",
   "metadata": {},
   "source": [
    "First, generate a dictionary indicating what condition group is associated to each sample/context"
   ]
  },
  {
   "cell_type": "code",
   "execution_count": 16,
   "id": "c6a974e8",
   "metadata": {},
   "outputs": [],
   "source": [
    "context_dict = dict()\n",
    "\n",
    "for diag, df in rnaseq.obs.groupby('diagnosis'):\n",
    "    for donor in df['sample'].unique():\n",
    "        context_dict[donor] = diag"
   ]
  },
  {
   "cell_type": "code",
   "execution_count": 17,
   "id": "fd1042f4",
   "metadata": {},
   "outputs": [
    {
     "data": {
      "text/plain": [
       "{'5144_PFC': 'ASD',\n",
       " '5278_PFC': 'ASD',\n",
       " '5294_BA9': 'ASD',\n",
       " '5403_PFC': 'ASD',\n",
       " '5419_PFC': 'ASD',\n",
       " '5531_BA9': 'ASD',\n",
       " '5565_BA9': 'ASD',\n",
       " '5841_BA9': 'ASD',\n",
       " '5864_BA9': 'ASD',\n",
       " '5939_BA9': 'ASD',\n",
       " '5945_PFC': 'ASD',\n",
       " '5978_BA9': 'ASD',\n",
       " '6033_BA9': 'ASD',\n",
       " '4341_BA46': 'Control',\n",
       " '5387_BA9': 'Control',\n",
       " '5408_PFC_Nova': 'Control',\n",
       " '5538_PFC_Nova': 'Control',\n",
       " '5577_BA9': 'Control',\n",
       " '5879_PFC_Nova': 'Control',\n",
       " '5893_PFC': 'Control',\n",
       " '5936_PFC_Nova': 'Control',\n",
       " '5958_BA9': 'Control',\n",
       " '5976_BA9': 'Control'}"
      ]
     },
     "execution_count": 17,
     "metadata": {},
     "output_type": "execute_result"
    }
   ],
   "source": [
    "context_dict"
   ]
  },
  {
   "cell_type": "code",
   "execution_count": 18,
   "id": "b5612e15",
   "metadata": {},
   "outputs": [],
   "source": [
    "context_names = list(context_dict.keys())"
   ]
  },
  {
   "cell_type": "markdown",
   "id": "d052e64d",
   "metadata": {},
   "source": [
    "**Generate list of RNA-seq data aggregated into cell types**\n",
    "\n",
    "Here, we convert the single-cell expression levels into cell-type expression levels.\n",
    "A basic context-wise preprocessing is performed here, keeping only genes that are expressed at least in 4 single cells.\n",
    "\n",
    "The final list includes the aggregated gene expression of all context, following the same order as the previous dictionary (context_dict).\n",
    "\n",
    "The aggregation here corresponds to the fraction of single cells for a given cell type that have non-zero expression levels. ***Other aggregation methods could be used, as for example the average expression across single cells in a cell type. Additionally, other gene expression values could be passed, using other preprocessing approaches such as log(x+1) or batch correction methods.***"
   ]
  },
  {
   "cell_type": "code",
   "execution_count": 19,
   "id": "d8e3f647",
   "metadata": {
    "scrolled": false
   },
   "outputs": [
    {
     "data": {
      "application/vnd.jupyter.widget-view+json": {
       "model_id": "e2a98fa1e82a4b01914406ee01dbed98",
       "version_major": 2,
       "version_minor": 0
      },
      "text/plain": [
       "  0%|          | 0/23 [00:00<?, ?it/s]"
      ]
     },
     "metadata": {},
     "output_type": "display_data"
    },
    {
     "name": "stderr",
     "output_type": "stream",
     "text": [
      "Trying to set attribute `.var` of view, copying.\n",
      "Trying to set attribute `.var` of view, copying.\n",
      "Trying to set attribute `.var` of view, copying.\n",
      "Trying to set attribute `.var` of view, copying.\n",
      "Trying to set attribute `.var` of view, copying.\n",
      "Trying to set attribute `.var` of view, copying.\n",
      "Trying to set attribute `.var` of view, copying.\n",
      "Trying to set attribute `.var` of view, copying.\n",
      "Trying to set attribute `.var` of view, copying.\n",
      "Trying to set attribute `.var` of view, copying.\n",
      "Trying to set attribute `.var` of view, copying.\n",
      "Trying to set attribute `.var` of view, copying.\n",
      "Trying to set attribute `.var` of view, copying.\n",
      "Trying to set attribute `.var` of view, copying.\n",
      "Trying to set attribute `.var` of view, copying.\n",
      "Trying to set attribute `.var` of view, copying.\n",
      "Trying to set attribute `.var` of view, copying.\n",
      "Trying to set attribute `.var` of view, copying.\n",
      "Trying to set attribute `.var` of view, copying.\n",
      "Trying to set attribute `.var` of view, copying.\n",
      "Trying to set attribute `.var` of view, copying.\n",
      "Trying to set attribute `.var` of view, copying.\n",
      "Trying to set attribute `.var` of view, copying.\n"
     ]
    }
   ],
   "source": [
    "rnaseq_matrices = []\n",
    "\n",
    "# Iteraty by sample/context\n",
    "for context in tqdm(context_names):\n",
    "    # Obtain metadata for context\n",
    "    meta_context = rnaseq.obs.loc[rnaseq.obs['sample'] == context]\n",
    "    # Single cells in the context\n",
    "    cells = list(meta_context.index)\n",
    "    \n",
    "    # Rename index name to identify the barcodes when aggregating expression\n",
    "    meta_context.index.name = 'barcode'\n",
    "    \n",
    "    # Subset RNAseq data by the single cells in the sample/context\n",
    "    tmp_data = rnaseq[cells]\n",
    "    \n",
    "    # Keep genes in each sample with at least 4 single cells expressing it\n",
    "    sc.pp.filter_genes(tmp_data, min_cells=4)\n",
    "\n",
    "    # Aggregate gene expression of single cells into cell types\n",
    "    exp_df = c2c.preprocessing.aggregate_single_cells(rnaseq_data=tmp_data.to_df(),\n",
    "                                                      metadata=meta_context,\n",
    "                                                      barcode_col='barcode',\n",
    "                                                      celltype_col='cluster',\n",
    "                                                      method='nn_cell_fraction',\n",
    "                                                     )\n",
    "\n",
    "    rnaseq_matrices.append(exp_df)"
   ]
  },
  {
   "cell_type": "code",
   "execution_count": 20,
   "id": "93995496",
   "metadata": {},
   "outputs": [],
   "source": [
    "# Change gene names to ensembl (here they are annotated as ENSEMBL|SYMBOL)\n",
    "matrices = []\n",
    "for rna in rnaseq_matrices:\n",
    "    tmp = rna.copy()\n",
    "    tmp.index = [idx.split('|')[0] for idx in rna.index]\n",
    "    matrices.append(tmp)"
   ]
  },
  {
   "cell_type": "code",
   "execution_count": 21,
   "id": "4fa42aa3",
   "metadata": {},
   "outputs": [],
   "source": [
    "genes = set()\n",
    "for i, rna in enumerate(rnaseq_matrices):\n",
    "    if i == 0:\n",
    "        genes = genes.union(set(rna.index))\n",
    "    else:\n",
    "        genes.intersection(set(rna.index))"
   ]
  },
  {
   "cell_type": "code",
   "execution_count": 22,
   "id": "c7b66e70",
   "metadata": {},
   "outputs": [
    {
     "data": {
      "text/plain": [
       "24298"
      ]
     },
     "execution_count": 22,
     "metadata": {},
     "output_type": "execute_result"
    }
   ],
   "source": [
    "len(genes)"
   ]
  },
  {
   "cell_type": "markdown",
   "id": "e240146a",
   "metadata": {},
   "source": [
    "### LR pairs"
   ]
  },
  {
   "cell_type": "markdown",
   "id": "d4e8962a",
   "metadata": {},
   "source": [
    "Remove bidirectionality in the list of ligand-receptor pairs. That is, remove repeated interactions where both interactions are the same but in different order:\n",
    "\n",
    "From this list:\n",
    "\n",
    "| Ligand | Receptor |\n",
    "| --- | --- |\n",
    "| Protein A | Protein B |\n",
    "| Protein B | Protein A |\n",
    "\n",
    "We will have:\n",
    "\n",
    "| Ligand | Receptor |\n",
    "| --- | --- |\n",
    "| Protein A | Protein B |"
   ]
  },
  {
   "cell_type": "code",
   "execution_count": 23,
   "id": "86c7a17c",
   "metadata": {},
   "outputs": [
    {
     "name": "stdout",
     "output_type": "stream",
     "text": [
      "Removing bidirectionality of PPI network\n"
     ]
    }
   ],
   "source": [
    "lr_pairs = c2c.preprocessing.ppi.remove_ppi_bidirectionality(ppi_data=lr_pairs, \n",
    "                                                             interaction_columns=int_columns\n",
    "                                                             )"
   ]
  },
  {
   "cell_type": "code",
   "execution_count": 24,
   "id": "3290cb32",
   "metadata": {},
   "outputs": [
    {
     "data": {
      "text/plain": [
       "(1988, 17)"
      ]
     },
     "execution_count": 24,
     "metadata": {},
     "output_type": "execute_result"
    }
   ],
   "source": [
    "lr_pairs.shape"
   ]
  },
  {
   "cell_type": "markdown",
   "id": "70dc0fa5",
   "metadata": {},
   "source": [
    "**Generate a dictionary with function info for each LR pairs.**\n",
    "\n",
    "Keys are ***LIGAND_NAME^RECEPTOR_NAME*** (this is the same nomenclature that will be used when building the 4D-communication tensor later), and values are the function in the annotation column in the dataframe containing ligand-receptor pairs. ***Other functional annotations of the LR pairs could be used if available.***"
   ]
  },
  {
   "cell_type": "code",
   "execution_count": 25,
   "id": "73645bfa",
   "metadata": {},
   "outputs": [],
   "source": [
    "ppi_functions = dict()\n",
    "\n",
    "for idx, row in lr_pairs.iterrows():\n",
    "    ppi_label = row[int_columns[0]] + '^' + row[int_columns[1]]\n",
    "    ppi_functions[ppi_label] = row['annotation']"
   ]
  },
  {
   "cell_type": "markdown",
   "id": "51a8b0c4",
   "metadata": {},
   "source": [
    "**Convert interactions from ensembl to symbol**\n",
    "\n",
    "This will help to rename the LR pairs later into symbols, which are easier to interpret. This ensembl-symbol convertion is not necessary if using gene expression matrices directly with symbol names of genes."
   ]
  },
  {
   "cell_type": "code",
   "execution_count": 26,
   "id": "8841ebd4",
   "metadata": {},
   "outputs": [],
   "source": [
    "ensembl_symbol = dict()\n",
    "\n",
    "for idx, row in lr_pairs.iterrows():\n",
    "    ensembl_symbol[row['interaction_ensembl']] = row['interaction_symbol']"
   ]
  },
  {
   "cell_type": "markdown",
   "id": "a2d2604e",
   "metadata": {},
   "source": [
    "## Tensor-cell2cell Analysis"
   ]
  },
  {
   "cell_type": "markdown",
   "id": "3c697a62",
   "metadata": {},
   "source": [
    "### Build 4D-Communication Tensor\n",
    "\n",
    "Here we use as input the list of gene expression matrices that were aggregated into a cell-type granularity. This list contains the expression matrices of all samples/contexts.\n",
    "\n",
    "```how='inner'``` is used to keep only cell types and genes that are across all contexts. Use ```how='outer'``` to include all cell types, even if they are not in all samples/contexts.\n",
    "\n",
    "```complex_sep='&'``` is used to specify that the list of ligand-receptor pairs contains protein complexes and that subunits are separated by '&'. If the list does not have complexes, use ```complex_sep=None``` instead."
   ]
  },
  {
   "cell_type": "code",
   "execution_count": 27,
   "id": "fca35ef9",
   "metadata": {},
   "outputs": [
    {
     "name": "stdout",
     "output_type": "stream",
     "text": [
      "Getting expression values for protein complexes\n",
      "Building tensor for the provided context\n"
     ]
    }
   ],
   "source": [
    "tensor = c2c.tensor.InteractionTensor(rnaseq_matrices=matrices,\n",
    "                                      ppi_data=lr_pairs,\n",
    "                                      context_names=context_names,\n",
    "                                      how='inner',\n",
    "                                      complex_sep='&',\n",
    "                                      interaction_columns=('ligand_ensembl', 'receptor_ensembl'),\n",
    "                                      communication_score='expression_mean',\n",
    "                                     )"
   ]
  },
  {
   "cell_type": "code",
   "execution_count": 28,
   "id": "1a340ac5",
   "metadata": {},
   "outputs": [
    {
     "data": {
      "text/plain": [
       "(23, 749, 16, 16)"
      ]
     },
     "execution_count": 28,
     "metadata": {},
     "output_type": "execute_result"
    }
   ],
   "source": [
    "tensor.tensor.shape"
   ]
  },
  {
   "cell_type": "code",
   "execution_count": 29,
   "id": "840abc8c",
   "metadata": {},
   "outputs": [],
   "source": [
    "# If using a GPU, convert tensor & mask into a GPU-manipulable object.\n",
    "if use_gpu:\n",
    "    tensor.tensor = tl.tensor(tensor.tensor, device='cuda:0')\n",
    "    if tensor.mask is not None:\n",
    "        tensor.mask = tl.tensor(tensor.mask, device='cuda:0')"
   ]
  },
  {
   "cell_type": "code",
   "execution_count": 30,
   "id": "e638ad98",
   "metadata": {},
   "outputs": [],
   "source": [
    "# Put LR pair names from ensembl to symbol\n",
    "tensor.order_names[1] = [ensembl_symbol[lr] for lr in tensor.order_names[1]]"
   ]
  },
  {
   "cell_type": "markdown",
   "id": "3b102a34",
   "metadata": {},
   "source": [
    "**Generate a list containing metadata for each tensor order/dimension - Later used for coloring factor plots**\n",
    "\n",
    "This is a list containing metadata for each dimension of the tensor (contexts, LR pairs, sender cells, receiver cells). Each metadata corresponds to a dataframe with info of each element in the respective dimension."
   ]
  },
  {
   "cell_type": "code",
   "execution_count": 31,
   "id": "dfb64b78",
   "metadata": {},
   "outputs": [],
   "source": [
    "meta_tf = c2c.tensor.generate_tensor_metadata(interaction_tensor=tensor,\n",
    "                                              metadata_dicts=[context_dict, ppi_functions, None, None],\n",
    "                                              fill_with_order_elements=True\n",
    "                                             )"
   ]
  },
  {
   "cell_type": "markdown",
   "id": "68207923",
   "metadata": {},
   "source": [
    "For example, the metadata of the contexts looks like this:"
   ]
  },
  {
   "cell_type": "code",
   "execution_count": 32,
   "id": "508720d4",
   "metadata": {},
   "outputs": [
    {
     "data": {
      "text/html": [
       "<div>\n",
       "<style scoped>\n",
       "    .dataframe tbody tr th:only-of-type {\n",
       "        vertical-align: middle;\n",
       "    }\n",
       "\n",
       "    .dataframe tbody tr th {\n",
       "        vertical-align: top;\n",
       "    }\n",
       "\n",
       "    .dataframe thead th {\n",
       "        text-align: right;\n",
       "    }\n",
       "</style>\n",
       "<table border=\"1\" class=\"dataframe\">\n",
       "  <thead>\n",
       "    <tr style=\"text-align: right;\">\n",
       "      <th></th>\n",
       "      <th>Element</th>\n",
       "      <th>Category</th>\n",
       "    </tr>\n",
       "  </thead>\n",
       "  <tbody>\n",
       "    <tr>\n",
       "      <th>0</th>\n",
       "      <td>5144_PFC</td>\n",
       "      <td>ASD</td>\n",
       "    </tr>\n",
       "    <tr>\n",
       "      <th>1</th>\n",
       "      <td>5278_PFC</td>\n",
       "      <td>ASD</td>\n",
       "    </tr>\n",
       "    <tr>\n",
       "      <th>2</th>\n",
       "      <td>5294_BA9</td>\n",
       "      <td>ASD</td>\n",
       "    </tr>\n",
       "    <tr>\n",
       "      <th>3</th>\n",
       "      <td>5403_PFC</td>\n",
       "      <td>ASD</td>\n",
       "    </tr>\n",
       "    <tr>\n",
       "      <th>4</th>\n",
       "      <td>5419_PFC</td>\n",
       "      <td>ASD</td>\n",
       "    </tr>\n",
       "    <tr>\n",
       "      <th>5</th>\n",
       "      <td>5531_BA9</td>\n",
       "      <td>ASD</td>\n",
       "    </tr>\n",
       "    <tr>\n",
       "      <th>6</th>\n",
       "      <td>5565_BA9</td>\n",
       "      <td>ASD</td>\n",
       "    </tr>\n",
       "    <tr>\n",
       "      <th>7</th>\n",
       "      <td>5841_BA9</td>\n",
       "      <td>ASD</td>\n",
       "    </tr>\n",
       "    <tr>\n",
       "      <th>8</th>\n",
       "      <td>5864_BA9</td>\n",
       "      <td>ASD</td>\n",
       "    </tr>\n",
       "    <tr>\n",
       "      <th>9</th>\n",
       "      <td>5939_BA9</td>\n",
       "      <td>ASD</td>\n",
       "    </tr>\n",
       "    <tr>\n",
       "      <th>10</th>\n",
       "      <td>5945_PFC</td>\n",
       "      <td>ASD</td>\n",
       "    </tr>\n",
       "    <tr>\n",
       "      <th>11</th>\n",
       "      <td>5978_BA9</td>\n",
       "      <td>ASD</td>\n",
       "    </tr>\n",
       "    <tr>\n",
       "      <th>12</th>\n",
       "      <td>6033_BA9</td>\n",
       "      <td>ASD</td>\n",
       "    </tr>\n",
       "    <tr>\n",
       "      <th>13</th>\n",
       "      <td>4341_BA46</td>\n",
       "      <td>Control</td>\n",
       "    </tr>\n",
       "    <tr>\n",
       "      <th>14</th>\n",
       "      <td>5387_BA9</td>\n",
       "      <td>Control</td>\n",
       "    </tr>\n",
       "    <tr>\n",
       "      <th>15</th>\n",
       "      <td>5408_PFC_Nova</td>\n",
       "      <td>Control</td>\n",
       "    </tr>\n",
       "    <tr>\n",
       "      <th>16</th>\n",
       "      <td>5538_PFC_Nova</td>\n",
       "      <td>Control</td>\n",
       "    </tr>\n",
       "    <tr>\n",
       "      <th>17</th>\n",
       "      <td>5577_BA9</td>\n",
       "      <td>Control</td>\n",
       "    </tr>\n",
       "    <tr>\n",
       "      <th>18</th>\n",
       "      <td>5879_PFC_Nova</td>\n",
       "      <td>Control</td>\n",
       "    </tr>\n",
       "    <tr>\n",
       "      <th>19</th>\n",
       "      <td>5893_PFC</td>\n",
       "      <td>Control</td>\n",
       "    </tr>\n",
       "    <tr>\n",
       "      <th>20</th>\n",
       "      <td>5936_PFC_Nova</td>\n",
       "      <td>Control</td>\n",
       "    </tr>\n",
       "    <tr>\n",
       "      <th>21</th>\n",
       "      <td>5958_BA9</td>\n",
       "      <td>Control</td>\n",
       "    </tr>\n",
       "    <tr>\n",
       "      <th>22</th>\n",
       "      <td>5976_BA9</td>\n",
       "      <td>Control</td>\n",
       "    </tr>\n",
       "  </tbody>\n",
       "</table>\n",
       "</div>"
      ],
      "text/plain": [
       "          Element Category\n",
       "0        5144_PFC      ASD\n",
       "1        5278_PFC      ASD\n",
       "2        5294_BA9      ASD\n",
       "3        5403_PFC      ASD\n",
       "4        5419_PFC      ASD\n",
       "5        5531_BA9      ASD\n",
       "6        5565_BA9      ASD\n",
       "7        5841_BA9      ASD\n",
       "8        5864_BA9      ASD\n",
       "9        5939_BA9      ASD\n",
       "10       5945_PFC      ASD\n",
       "11       5978_BA9      ASD\n",
       "12       6033_BA9      ASD\n",
       "13      4341_BA46  Control\n",
       "14       5387_BA9  Control\n",
       "15  5408_PFC_Nova  Control\n",
       "16  5538_PFC_Nova  Control\n",
       "17       5577_BA9  Control\n",
       "18  5879_PFC_Nova  Control\n",
       "19       5893_PFC  Control\n",
       "20  5936_PFC_Nova  Control\n",
       "21       5958_BA9  Control\n",
       "22       5976_BA9  Control"
      ]
     },
     "execution_count": 32,
     "metadata": {},
     "output_type": "execute_result"
    }
   ],
   "source": [
    "meta_tf[0]"
   ]
  },
  {
   "cell_type": "markdown",
   "id": "f264d9f8",
   "metadata": {},
   "source": [
    "### Run Analysis"
   ]
  },
  {
   "cell_type": "markdown",
   "id": "4c78f08e",
   "metadata": {},
   "source": [
    "**For selecting the number of factors to decompose CCC,** we could do it either manually  or automatically from an Elbow analysis.\n",
    "\n",
    "In this case, after running the Elbow analysis, we manually selected the number of factors."
   ]
  },
  {
   "cell_type": "code",
   "execution_count": 33,
   "id": "5a752227",
   "metadata": {},
   "outputs": [
    {
     "data": {
      "application/vnd.jupyter.widget-view+json": {
       "model_id": "b22a45970c75497f8172672917494857",
       "version_major": 2,
       "version_minor": 0
      },
      "text/plain": [
       "  0%|          | 0/25 [00:00<?, ?it/s]"
      ]
     },
     "metadata": {},
     "output_type": "display_data"
    },
    {
     "data": {
      "image/png": "[encoded data removed]",
      "text/plain": [
       "<Figure size 288x162 with 1 Axes>"
      ]
     },
     "metadata": {
      "needs_background": "light"
     },
     "output_type": "display_data"
    }
   ],
   "source": [
    "elbow, error = tensor.elbow_rank_selection(upper_rank=25,\n",
    "                                           runs=1, # This can be increased for more robust results\n",
    "                                           init='random',\n",
    "                                           automatic_elbow=False,\n",
    "                                           random_state=888,\n",
    "                                          )\n",
    "\n",
    "# If automatic_elbow=True, remove these two lines. To save the figure in that case,\n",
    "# add the parameter filename=output_folder + 'Elbow.svg' in the previous function.\n",
    "# The number of factors will be saved in tensor.rank\n",
    "_ = plt.plot(*error[5], 'ro') # Here we selected a number of 6 factors.\n",
    "plt.savefig(output_folder + 'Elbow.svg', dpi=300, bbox_inches='tight')"
   ]
  },
  {
   "cell_type": "markdown",
   "id": "1ccd5525",
   "metadata": {},
   "source": [
    "**Perform tensor factorization**"
   ]
  },
  {
   "cell_type": "code",
   "execution_count": 34,
   "id": "ec4db7fd",
   "metadata": {},
   "outputs": [],
   "source": [
    "tensor.compute_tensor_factorization(rank=6,\n",
    "                                    init='svd', \n",
    "                                    random_state=888\n",
    "                                   )\n",
    "# init='svd' helps to get an global-optimal solution.\n",
    "# Replace by 'random' if a memory error is obtained."
   ]
  },
  {
   "cell_type": "markdown",
   "id": "8758752e",
   "metadata": {},
   "source": [
    "### Results"
   ]
  },
  {
   "cell_type": "markdown",
   "id": "73add7b1",
   "metadata": {},
   "source": [
    "**Plot factor loadings**\n",
    "\n",
    "After performing the tensor factorization/decomposition, a set of loadings is obtained in a factor-specific way. These loadings provide details of what elements of each dimension are important within each factor."
   ]
  },
  {
   "cell_type": "code",
   "execution_count": 35,
   "id": "0cc5c560",
   "metadata": {},
   "outputs": [],
   "source": [
    "# Color palettes for each of the tensor dimensions.\n",
    "cmaps = ['viridis', 'Dark2_r', 'tab20', 'tab20']"
   ]
  },
  {
   "cell_type": "code",
   "execution_count": 36,
   "id": "4a14260d",
   "metadata": {},
   "outputs": [
    {
     "data": {
      "image/png": "[encoded data removed]",
      "text/plain": [
       "<Figure size 720x576 with 24 Axes>"
      ]
     },
     "metadata": {
      "needs_background": "light"
     },
     "output_type": "display_data"
    }
   ],
   "source": [
    "factors, axes = c2c.plotting.tensor_factors_plot(interaction_tensor=tensor,\n",
    "                                                 metadata = meta_tf, # This is the metadata for each dimension\n",
    "                                                 sample_col='Element',\n",
    "                                                 group_col='Category',\n",
    "                                                 meta_cmaps=cmaps,\n",
    "                                                 fontsize=14,\n",
    "                                                 filename=output_folder + 'Tensor-Factorization.svg'\n",
    "                                                )"
   ]
  },
  {
   "cell_type": "markdown",
   "id": "a823bfdf",
   "metadata": {},
   "source": [
    "**Top-10 LR pairs from their factor-specific loadings**"
   ]
  },
  {
   "cell_type": "code",
   "execution_count": 37,
   "id": "019ff14c",
   "metadata": {
    "scrolled": false
   },
   "outputs": [
    {
     "name": "stdout",
     "output_type": "stream",
     "text": [
      "NEGR1^NEGR1    0.245580\n",
      "NRXN3^NLGN1    0.236890\n",
      "NRXN1^NLGN1    0.234088\n",
      "CNTN1^NRCAM    0.224620\n",
      "NCAM1^NCAM1    0.217748\n",
      "NCAM1^NCAM2    0.207927\n",
      "NRG3^ERBB4     0.194087\n",
      "NRXN2^NLGN1    0.193669\n",
      "NRXN3^NLGN2    0.166386\n",
      "NRXN3^NLGN3    0.164240\n",
      "Name: Factor 1, dtype: float64\n",
      "\n",
      "LAMA2^SV2B    0.169643\n",
      "LAMA4^SV2B    0.165446\n",
      "LAMB2^SV2B    0.162802\n",
      "LAMA1^SV2B    0.159729\n",
      "LAMA3^SV2B    0.158929\n",
      "LAMC3^SV2B    0.158480\n",
      "LAMC2^SV2B    0.157097\n",
      "LAMA5^SV2B    0.156795\n",
      "LAMC1^SV2B    0.154253\n",
      "LAMB1^SV2B    0.153554\n",
      "Name: Factor 2, dtype: float64\n",
      "\n",
      "NRG1^ERBB2&ERBB4    0.130066\n",
      "NRG1^ERBB2&ERBB3    0.129851\n",
      "NRG1^ERBB3          0.129237\n",
      "NRG1^ERBB4          0.119872\n",
      "EFNA5^EPHB2         0.114581\n",
      "EFNA5^EPHA3         0.107402\n",
      "EFNA5^EPHA7         0.101061\n",
      "EFNA5^EPHA4         0.098312\n",
      "EFNA5^EPHA5         0.097571\n",
      "NECTIN3^PVR         0.096787\n",
      "Name: Factor 3, dtype: float64\n",
      "\n",
      "PTN^ALK        0.203844\n",
      "PTPRM^PTPRM    0.174730\n",
      "HBEGF^ERBB4    0.162865\n",
      "NRG3^ERBB4     0.162113\n",
      "BTC^ERBB4      0.159788\n",
      "NRG4^ERBB4     0.153001\n",
      "NRXN1^NLGN1    0.145317\n",
      "NRG2^ERBB4     0.142327\n",
      "MDK^ALK        0.140828\n",
      "PTN^PTPRZ1     0.126707\n",
      "Name: Factor 4, dtype: float64\n",
      "\n",
      "NRG3^ERBB4      0.252508\n",
      "NCAM1^NCAM2     0.234108\n",
      "CADM1^CADM1     0.215948\n",
      "NCAM1^NCAM1     0.211533\n",
      "CNTN1^NRCAM     0.180136\n",
      "NRG1^ERBB4      0.172563\n",
      "NRG2^ERBB4      0.165418\n",
      "PTN^PTPRZ1      0.164819\n",
      "NRXN1^NLGN1     0.160977\n",
      "PSAP^GPR37L1    0.149110\n",
      "Name: Factor 5, dtype: float64\n",
      "\n",
      "VEGFA^FLT1     0.184078\n",
      "PTPRM^PTPRM    0.182046\n",
      "VEGFB^FLT1     0.172513\n",
      "NRXN1^NLGN2    0.129017\n",
      "PTN^NCL        0.128965\n",
      "IGF1^IGF1R     0.125618\n",
      "NCAM1^FGFR1    0.119571\n",
      "NRXN1^NLGN3    0.117266\n",
      "PTN^SDC3       0.116017\n",
      "PRSS3^PARD3    0.114025\n",
      "Name: Factor 6, dtype: float64\n",
      "\n"
     ]
    }
   ],
   "source": [
    "for i in range(tensor.rank):\n",
    "        print(tensor.get_top_factor_elements(order_name='Ligand-Receptor Pairs', \n",
    "                                             factor_name='Factor {}'.format(i+1), \n",
    "                                             top_number=10))\n",
    "        print('')"
   ]
  },
  {
   "cell_type": "markdown",
   "id": "d2471c3b",
   "metadata": {},
   "source": [
    "**Export Loadings for all dimensions of the 4D-communication tensor.**\n",
    "\n",
    "***THESE VALUES CAN BE USED FOR DOWNSTREAM ANALYSES***"
   ]
  },
  {
   "cell_type": "code",
   "execution_count": 38,
   "id": "8dc4e2f9",
   "metadata": {},
   "outputs": [
    {
     "name": "stdout",
     "output_type": "stream",
     "text": [
      "Loadings of the tensor factorization were successfully saved into ./results/Loadings.xlsx\n"
     ]
    }
   ],
   "source": [
    "tensor.export_factor_loadings(output_folder + 'Loadings.xlsx')"
   ]
  },
  {
   "cell_type": "code",
   "execution_count": null,
   "id": "a78730ed",
   "metadata": {},
   "outputs": [],
   "source": []
  }
 ],
 "metadata": {
  "kernelspec": {
   "display_name": "Python 3 (ipykernel)",
   "language": "python",
   "name": "python3"
  },
  "language_info": {
   "codemirror_mode": {
    "name": "ipython",
    "version": 3
   },
   "file_extension": ".py",
   "mimetype": "text/x-python",
   "name": "python",
   "nbconvert_exporter": "python",
   "pygments_lexer": "ipython3",
   "version": "3.7.8"
  }
 },
 "nbformat": 4,
 "nbformat_minor": 5
}
