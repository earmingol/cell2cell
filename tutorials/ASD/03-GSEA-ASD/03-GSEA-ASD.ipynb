{
 "cells": [
  {
   "cell_type": "markdown",
   "id": "11b0c985",
   "metadata": {},
   "source": [
    "# Downstream analysis 2: Gene Set Enrichment Analysis\n",
    "\n",
    "This tutorial is focused on running GSEA based on the loadings that the ligand-receptor pairs obtained from the tensor factorization. Tensor-cell2cell does not have functions for running GSEA directly from the tool. Here, we use the library ```gseapy```, which has its own documentation: https://gseapy.readthedocs.io/en/latest/\n",
    "\n",
    "**IMPORTANT:** Even though we use gseapy as an external tool, we have to build a gene set for ligand-receptor pairs because the standard GSEA is intended for individual genes."
   ]
  },
  {
   "cell_type": "code",
   "execution_count": 1,
   "id": "9f55d0d3",
   "metadata": {},
   "outputs": [],
   "source": [
    "import cell2cell as c2c\n",
    "\n",
    "import numpy as np\n",
    "import pandas as pd\n",
    "\n",
    "import gseapy\n",
    "from statsmodels.stats.multitest import fdrcorrection\n",
    "from collections import defaultdict\n",
    "\n",
    "import seaborn as sns\n",
    "%matplotlib inline"
   ]
  },
  {
   "cell_type": "code",
   "execution_count": 2,
   "id": "14cb9a5e",
   "metadata": {},
   "outputs": [],
   "source": [
    "import warnings\n",
    "warnings.filterwarnings('ignore')"
   ]
  },
  {
   "cell_type": "markdown",
   "id": "3385d873",
   "metadata": {},
   "source": [
    "## 1 - Load Data"
   ]
  },
  {
   "cell_type": "markdown",
   "id": "e83edacc",
   "metadata": {},
   "source": [
    "**Specify folders where the data is located, and where the outputs will be written:**"
   ]
  },
  {
   "cell_type": "code",
   "execution_count": 3,
   "id": "df09e558",
   "metadata": {},
   "outputs": [],
   "source": [
    "import os\n",
    "\n",
    "data_folder = './'\n",
    "directory = os.fsencode(data_folder)\n",
    "\n",
    "output_folder = './results/'\n",
    "if not os.path.isdir(output_folder):\n",
    "    os.mkdir(output_folder)"
   ]
  },
  {
   "cell_type": "markdown",
   "id": "f4c3bf5f",
   "metadata": {},
   "source": [
    "**Open the loadings obtained from the tensor factorization**"
   ]
  },
  {
   "cell_type": "code",
   "execution_count": 4,
   "id": "54c242c6",
   "metadata": {},
   "outputs": [],
   "source": [
    "factors = c2c.io.load_tensor_factors('./results/Loadings.xlsx')"
   ]
  },
  {
   "cell_type": "markdown",
   "id": "3fdb1212",
   "metadata": {},
   "source": [
    "**Load gene set used as reference to build the LR set**\n",
    "\n",
    "In this case we use the KEGG pathways. The .gmt file was obtained from http://www.gsea-msigdb.org/gsea/downloads.jsp. If you are interested in using another gene set such as GO Terms, you can download it from the same website."
   ]
  },
  {
   "cell_type": "code",
   "execution_count": 5,
   "id": "e9e6d121",
   "metadata": {},
   "outputs": [],
   "source": [
    "pathway_per_gene = defaultdict(set)\n",
    "with open('KEGG.gmt', 'rb') as f:\n",
    "    for i, line in enumerate(f):\n",
    "        l = line.decode(\"utf-8\").split('\\t')\n",
    "        l[-1] = l[-1].replace('\\n', '')\n",
    "        l = [pw for pw in l if ('http' not in pw)] # Remove website info\n",
    "        for gene in l[1:]:\n",
    "            pathway_per_gene[gene] = pathway_per_gene[gene].union(set([l[0]]))"
   ]
  },
  {
   "cell_type": "markdown",
   "id": "30cf208e",
   "metadata": {},
   "source": [
    "This file contains pathways associated with each gene. For example for IL6:"
   ]
  },
  {
   "cell_type": "code",
   "execution_count": 6,
   "id": "f5b96763",
   "metadata": {},
   "outputs": [
    {
     "data": {
      "text/plain": [
       "{'KEGG_CYTOKINE_CYTOKINE_RECEPTOR_INTERACTION',\n",
       " 'KEGG_CYTOSOLIC_DNA_SENSING_PATHWAY',\n",
       " 'KEGG_GRAFT_VERSUS_HOST_DISEASE',\n",
       " 'KEGG_HEMATOPOIETIC_CELL_LINEAGE',\n",
       " 'KEGG_HYPERTROPHIC_CARDIOMYOPATHY_HCM',\n",
       " 'KEGG_INTESTINAL_IMMUNE_NETWORK_FOR_IGA_PRODUCTION',\n",
       " 'KEGG_JAK_STAT_SIGNALING_PATHWAY',\n",
       " 'KEGG_NOD_LIKE_RECEPTOR_SIGNALING_PATHWAY',\n",
       " 'KEGG_PATHWAYS_IN_CANCER',\n",
       " 'KEGG_PRION_DISEASES',\n",
       " 'KEGG_TOLL_LIKE_RECEPTOR_SIGNALING_PATHWAY'}"
      ]
     },
     "execution_count": 6,
     "metadata": {},
     "output_type": "execute_result"
    }
   ],
   "source": [
    "pathway_per_gene['IL6']"
   ]
  },
  {
   "cell_type": "markdown",
   "id": "cf76cae6",
   "metadata": {},
   "source": [
    "**Open LR pairs from CellChat**\n",
    "\n",
    "Different databases of ligand-receptor interactions could be used. We previously created a repository that includes many available DBs (https://github.com/LewisLabUCSD/Ligand-Receptor-Pairs). In this tutorial, we employ the ligand-receptor pairs from CellChat (https://doi.org/10.1038/s41467-021-21246-9), which includes multimeric protein complexes.\n",
    "\n",
    "**The database must contain columns for the interactions using the same gene name nomenclature used in the .gmt file.**"
   ]
  },
  {
   "cell_type": "code",
   "execution_count": 7,
   "id": "a36f908b",
   "metadata": {},
   "outputs": [],
   "source": [
    "lr_pairs = pd.read_csv('https://raw.githubusercontent.com/LewisLabUCSD/Ligand-Receptor-Pairs/master/Human/Human-2020-Jin-LR-pairs.csv')\n",
    "lr_pairs = lr_pairs.astype(str)"
   ]
  },
  {
   "cell_type": "code",
   "execution_count": 8,
   "id": "759851ea",
   "metadata": {},
   "outputs": [
    {
     "data": {
      "text/html": [
       "<div>\n",
       "<style scoped>\n",
       "    .dataframe tbody tr th:only-of-type {\n",
       "        vertical-align: middle;\n",
       "    }\n",
       "\n",
       "    .dataframe tbody tr th {\n",
       "        vertical-align: top;\n",
       "    }\n",
       "\n",
       "    .dataframe thead th {\n",
       "        text-align: right;\n",
       "    }\n",
       "</style>\n",
       "<table border=\"1\" class=\"dataframe\">\n",
       "  <thead>\n",
       "    <tr style=\"text-align: right;\">\n",
       "      <th></th>\n",
       "      <th>interaction_name</th>\n",
       "      <th>pathway_name</th>\n",
       "      <th>ligand</th>\n",
       "      <th>receptor</th>\n",
       "      <th>agonist</th>\n",
       "      <th>antagonist</th>\n",
       "      <th>co_A_receptor</th>\n",
       "      <th>co_I_receptor</th>\n",
       "      <th>evidence</th>\n",
       "      <th>annotation</th>\n",
       "      <th>interaction_name_2</th>\n",
       "      <th>ligand_symbol</th>\n",
       "      <th>receptor_symbol</th>\n",
       "      <th>ligand_ensembl</th>\n",
       "      <th>receptor_ensembl</th>\n",
       "      <th>interaction_symbol</th>\n",
       "      <th>interaction_ensembl</th>\n",
       "    </tr>\n",
       "  </thead>\n",
       "  <tbody>\n",
       "    <tr>\n",
       "      <th>0</th>\n",
       "      <td>TGFB1_TGFBR1_TGFBR2</td>\n",
       "      <td>TGFb</td>\n",
       "      <td>TGFB1</td>\n",
       "      <td>TGFbR1_R2</td>\n",
       "      <td>TGFb agonist</td>\n",
       "      <td>TGFb antagonist</td>\n",
       "      <td>nan</td>\n",
       "      <td>TGFb inhibition receptor</td>\n",
       "      <td>KEGG: hsa04350</td>\n",
       "      <td>Secreted Signaling</td>\n",
       "      <td>TGFB1 - (TGFBR1+TGFBR2)</td>\n",
       "      <td>TGFB1</td>\n",
       "      <td>TGFBR1&amp;TGFBR2</td>\n",
       "      <td>ENSG00000105329</td>\n",
       "      <td>ENSG00000106799&amp;ENSG00000163513</td>\n",
       "      <td>TGFB1^TGFBR1&amp;TGFBR2</td>\n",
       "      <td>ENSG00000105329^ENSG00000106799&amp;ENSG00000163513</td>\n",
       "    </tr>\n",
       "    <tr>\n",
       "      <th>1</th>\n",
       "      <td>TGFB2_TGFBR1_TGFBR2</td>\n",
       "      <td>TGFb</td>\n",
       "      <td>TGFB2</td>\n",
       "      <td>TGFbR1_R2</td>\n",
       "      <td>TGFb agonist</td>\n",
       "      <td>TGFb antagonist</td>\n",
       "      <td>nan</td>\n",
       "      <td>TGFb inhibition receptor</td>\n",
       "      <td>KEGG: hsa04350</td>\n",
       "      <td>Secreted Signaling</td>\n",
       "      <td>TGFB2 - (TGFBR1+TGFBR2)</td>\n",
       "      <td>TGFB2</td>\n",
       "      <td>TGFBR1&amp;TGFBR2</td>\n",
       "      <td>ENSG00000092969</td>\n",
       "      <td>ENSG00000106799&amp;ENSG00000163513</td>\n",
       "      <td>TGFB2^TGFBR1&amp;TGFBR2</td>\n",
       "      <td>ENSG00000092969^ENSG00000106799&amp;ENSG00000163513</td>\n",
       "    </tr>\n",
       "  </tbody>\n",
       "</table>\n",
       "</div>"
      ],
      "text/plain": [
       "      interaction_name pathway_name ligand   receptor       agonist  \\\n",
       "0  TGFB1_TGFBR1_TGFBR2         TGFb  TGFB1  TGFbR1_R2  TGFb agonist   \n",
       "1  TGFB2_TGFBR1_TGFBR2         TGFb  TGFB2  TGFbR1_R2  TGFb agonist   \n",
       "\n",
       "        antagonist co_A_receptor             co_I_receptor        evidence  \\\n",
       "0  TGFb antagonist           nan  TGFb inhibition receptor  KEGG: hsa04350   \n",
       "1  TGFb antagonist           nan  TGFb inhibition receptor  KEGG: hsa04350   \n",
       "\n",
       "           annotation       interaction_name_2 ligand_symbol receptor_symbol  \\\n",
       "0  Secreted Signaling  TGFB1 - (TGFBR1+TGFBR2)         TGFB1   TGFBR1&TGFBR2   \n",
       "1  Secreted Signaling  TGFB2 - (TGFBR1+TGFBR2)         TGFB2   TGFBR1&TGFBR2   \n",
       "\n",
       "    ligand_ensembl                 receptor_ensembl   interaction_symbol  \\\n",
       "0  ENSG00000105329  ENSG00000106799&ENSG00000163513  TGFB1^TGFBR1&TGFBR2   \n",
       "1  ENSG00000092969  ENSG00000106799&ENSG00000163513  TGFB2^TGFBR1&TGFBR2   \n",
       "\n",
       "                               interaction_ensembl  \n",
       "0  ENSG00000105329^ENSG00000106799&ENSG00000163513  \n",
       "1  ENSG00000092969^ENSG00000106799&ENSG00000163513  "
      ]
     },
     "execution_count": 8,
     "metadata": {},
     "output_type": "execute_result"
    }
   ],
   "source": [
    "lr_pairs.head(2)"
   ]
  },
  {
   "cell_type": "markdown",
   "id": "0e174f27",
   "metadata": {},
   "source": [
    "## 2 - Generate LR set from a Gene set (KEGG LR set in this case)\n",
    "\n",
    "Here, we label a LR interaction with a given pathway if all members of the interactions are labeled with that pathway."
   ]
  },
  {
   "cell_type": "code",
   "execution_count": 9,
   "id": "fe90cdee",
   "metadata": {},
   "outputs": [],
   "source": [
    "# If the LR db include protein complexes. \n",
    "# This is the character separating members\n",
    "complex_sep = '&' \n",
    "\n",
    "# Dictionary to save the LR interaction (key) and the annotated pathways (values).\n",
    "pathway_sets = defaultdict(set)\n",
    "\n",
    "# Iterate through the interactions in the LR DB.\n",
    "for idx, row in lr_pairs.iterrows():\n",
    "    lr_label = row['interaction_symbol']\n",
    "    lr = lr_label.split('^')\n",
    "    \n",
    "    # Gene members of the ligand and the receptor in the LR pair\n",
    "    if complex_sep is None:\n",
    "        ligands = [lr[0]]\n",
    "        receptors = [lr[1]]\n",
    "    else:\n",
    "        ligands = lr[0].split(complex_sep)\n",
    "        receptors = lr[1].split(complex_sep)\n",
    "    \n",
    "    # Find pathways associated with all members of the ligand\n",
    "    for i, ligand in enumerate(ligands):\n",
    "        if i == 0:\n",
    "            ligand_pathways = pathway_per_gene[ligand]\n",
    "        else:\n",
    "            ligand_pathways = ligand_pathways.intersection(pathway_per_gene[ligand])\n",
    "            \n",
    "    # Find pathways associated with all members of the receptor\n",
    "    for i, receptor in enumerate(receptors):\n",
    "        if i == 0:\n",
    "            receptor_pathways = pathway_per_gene[receptor]\n",
    "        else:\n",
    "            receptor_pathways = receptor_pathways.intersection(pathway_per_gene[receptor])\n",
    "\n",
    "    # Keep only pathways that are in both ligand and receptor.\n",
    "    lr_pathways = ligand_pathways.intersection(receptor_pathways)\n",
    "    for p in lr_pathways:\n",
    "        pathway_sets[p] = pathway_sets[p].union([lr_label])"
   ]
  },
  {
   "cell_type": "markdown",
   "id": "f2f40560",
   "metadata": {},
   "source": [
    "**Keep only pathways annotations that contain at least K LR pairs**\n",
    "\n",
    "Here K=15"
   ]
  },
  {
   "cell_type": "code",
   "execution_count": 10,
   "id": "56bb5505",
   "metadata": {},
   "outputs": [],
   "source": [
    "K=15\n",
    "\n",
    "lr_set = defaultdict(set)\n",
    "    \n",
    "for k, v in pathway_sets.items():\n",
    "    if len(v) >= K:\n",
    "        lr_set[k] = v"
   ]
  },
  {
   "cell_type": "markdown",
   "id": "fa7c12cf",
   "metadata": {},
   "source": [
    "And this results in a total of 22 pathways that were assigned to at least 15 LR pairs."
   ]
  },
  {
   "cell_type": "code",
   "execution_count": 11,
   "id": "84a1b6ce",
   "metadata": {},
   "outputs": [
    {
     "data": {
      "text/plain": [
       "22"
      ]
     },
     "execution_count": 11,
     "metadata": {},
     "output_type": "execute_result"
    }
   ],
   "source": [
    "len(lr_set)"
   ]
  },
  {
   "cell_type": "markdown",
   "id": "2ab56a5e",
   "metadata": {},
   "source": [
    "**This LR set can be exported to be used in other analyses**"
   ]
  },
  {
   "cell_type": "code",
   "execution_count": 12,
   "id": "115cc1cc",
   "metadata": {},
   "outputs": [
    {
     "name": "stdout",
     "output_type": "stream",
     "text": [
      "./results//CellChat-LR-KEGG-set.pkl  was correctly saved.\n"
     ]
    }
   ],
   "source": [
    "c2c.io.export_variable_with_pickle(lr_set, output_folder + '/CellChat-LR-KEGG-set.pkl')\n",
    "\n",
    "# It can be loaded with:\n",
    "# lr_set = c2c.io.load_variable_with_pickle(output_folder + '/CellChat-LR-KEGG-set.pkl')"
   ]
  },
  {
   "cell_type": "markdown",
   "id": "98b8135f",
   "metadata": {},
   "source": [
    "## 3 - GSEA"
   ]
  },
  {
   "cell_type": "markdown",
   "id": "49ced607",
   "metadata": {},
   "source": [
    "Here we use the ```gseapy.prerank()``` function based on the loadings of the LR pairs."
   ]
  },
  {
   "cell_type": "markdown",
   "id": "f2a80508",
   "metadata": {},
   "source": [
    "**GSEA parameters**"
   ]
  },
  {
   "cell_type": "code",
   "execution_count": 13,
   "id": "06541d28",
   "metadata": {},
   "outputs": [],
   "source": [
    "weight = 1\n",
    "min_size = 15\n",
    "permutations = 999\n",
    "significance_threshold = 0.05"
   ]
  },
  {
   "cell_type": "markdown",
   "id": "4e617063",
   "metadata": {},
   "source": [
    "**Loadings of the LR pairs**"
   ]
  },
  {
   "cell_type": "code",
   "execution_count": 14,
   "id": "769f6d6a",
   "metadata": {},
   "outputs": [],
   "source": [
    "loadings = factors['Ligand-Receptor Pairs'].reset_index()"
   ]
  },
  {
   "cell_type": "markdown",
   "id": "30b1e386",
   "metadata": {},
   "source": [
    "### Run the GSEA in each of the factors"
   ]
  },
  {
   "cell_type": "code",
   "execution_count": 15,
   "id": "7a865693",
   "metadata": {},
   "outputs": [],
   "source": [
    "for factor in loadings.columns[1:]:\n",
    "    # Rank LR pairs of each factor by their respective loadings\n",
    "    test = loadings[['index', factor]]\n",
    "    test.columns = [0, 1]\n",
    "    test = test.sort_values(by=1, ascending=False)\n",
    "    test.reset_index(drop=True, inplace=True)\n",
    "\n",
    "    # RUN GSEA\n",
    "    gseapy.prerank(rnk=test,\n",
    "                   gene_sets=lr_set,\n",
    "                   min_size=min_size,\n",
    "                   weighted_score_type=weight,\n",
    "                   processes=6,\n",
    "                   permutation_num=permutations, # reduce number to speed up testing\n",
    "                   outdir=output_folder + '/GSEA/' + factor, format='png', seed=6)"
   ]
  },
  {
   "cell_type": "markdown",
   "id": "4361b05b",
   "metadata": {},
   "source": [
    "**Adjust P-values across all factors (GSEA only adjusts within factor)**\n",
    "\n",
    "First we read the files generated by gseapy within each Factor folder. Then put all those P-values together and perform a Benjamini-Hochberg correction."
   ]
  },
  {
   "cell_type": "code",
   "execution_count": 16,
   "id": "2872be5d",
   "metadata": {},
   "outputs": [],
   "source": [
    "pvals = []\n",
    "terms = []\n",
    "factors = []\n",
    "nes = []\n",
    "for factor in loadings.columns[1:]:\n",
    "    p_report = pd.read_csv(output_folder + '/GSEA/' + factor + '/gseapy.prerank.gene_sets.report.csv')\n",
    "    pval = p_report['pval'].values.tolist()\n",
    "    pvals.extend(pval)\n",
    "    terms.extend(p_report.Term.values.tolist())\n",
    "    factors.extend([factor] * len(pval))\n",
    "    nes.extend(p_report['nes'].values.tolist())\n",
    "pval_df = pd.DataFrame(np.asarray([factors, terms, nes, pvals]).T, columns=['Factor', 'Term', 'NES', 'P-value'])\n",
    "pval_df = pval_df.loc[pval_df['P-value'] != 'nan']\n",
    "pval_df['P-value'] = pd.to_numeric(pval_df['P-value'])\n",
    "pval_df['P-value'] = pval_df['P-value'].replace(0., 1./(permutations+1))\n",
    "pval_df['NES'] = pd.to_numeric(pval_df['NES'])"
   ]
  },
  {
   "cell_type": "markdown",
   "id": "27bf6b2d",
   "metadata": {},
   "source": [
    "BH correction:"
   ]
  },
  {
   "cell_type": "code",
   "execution_count": 17,
   "id": "72e6a95f",
   "metadata": {},
   "outputs": [],
   "source": [
    "pval_df['Adj. P-value'] = fdrcorrection(pval_df['P-value'].values,\n",
    "                                        alpha=significance_threshold)[1]"
   ]
  },
  {
   "cell_type": "markdown",
   "id": "00b479fd",
   "metadata": {},
   "source": [
    "**Enriched LR pairs**"
   ]
  },
  {
   "cell_type": "code",
   "execution_count": 18,
   "id": "4031f0e5",
   "metadata": {},
   "outputs": [
    {
     "data": {
      "text/html": [
       "<div>\n",
       "<style scoped>\n",
       "    .dataframe tbody tr th:only-of-type {\n",
       "        vertical-align: middle;\n",
       "    }\n",
       "\n",
       "    .dataframe tbody tr th {\n",
       "        vertical-align: top;\n",
       "    }\n",
       "\n",
       "    .dataframe thead th {\n",
       "        text-align: right;\n",
       "    }\n",
       "</style>\n",
       "<table border=\"1\" class=\"dataframe\">\n",
       "  <thead>\n",
       "    <tr style=\"text-align: right;\">\n",
       "      <th></th>\n",
       "      <th>Factor</th>\n",
       "      <th>Term</th>\n",
       "      <th>NES</th>\n",
       "      <th>P-value</th>\n",
       "      <th>Adj. P-value</th>\n",
       "    </tr>\n",
       "  </thead>\n",
       "  <tbody>\n",
       "    <tr>\n",
       "      <th>1</th>\n",
       "      <td>Factor 1</td>\n",
       "      <td>KEGG_ERBB_SIGNALING_PATHWAY</td>\n",
       "      <td>1.454242</td>\n",
       "      <td>0.001000</td>\n",
       "      <td>0.008709</td>\n",
       "    </tr>\n",
       "    <tr>\n",
       "      <th>2</th>\n",
       "      <td>Factor 1</td>\n",
       "      <td>KEGG_CELL_ADHESION_MOLECULES_CAMS</td>\n",
       "      <td>1.398443</td>\n",
       "      <td>0.001000</td>\n",
       "      <td>0.008709</td>\n",
       "    </tr>\n",
       "    <tr>\n",
       "      <th>3</th>\n",
       "      <td>Factor 1</td>\n",
       "      <td>KEGG_AXON_GUIDANCE</td>\n",
       "      <td>1.241130</td>\n",
       "      <td>0.006006</td>\n",
       "      <td>0.029029</td>\n",
       "    </tr>\n",
       "    <tr>\n",
       "      <th>17</th>\n",
       "      <td>Factor 2</td>\n",
       "      <td>KEGG_AXON_GUIDANCE</td>\n",
       "      <td>1.563928</td>\n",
       "      <td>0.001000</td>\n",
       "      <td>0.008709</td>\n",
       "    </tr>\n",
       "    <tr>\n",
       "      <th>18</th>\n",
       "      <td>Factor 2</td>\n",
       "      <td>KEGG_CELL_ADHESION_MOLECULES_CAMS</td>\n",
       "      <td>1.309822</td>\n",
       "      <td>0.005005</td>\n",
       "      <td>0.029029</td>\n",
       "    </tr>\n",
       "    <tr>\n",
       "      <th>31</th>\n",
       "      <td>Factor 3</td>\n",
       "      <td>KEGG_ERBB_SIGNALING_PATHWAY</td>\n",
       "      <td>1.486924</td>\n",
       "      <td>0.003003</td>\n",
       "      <td>0.018662</td>\n",
       "    </tr>\n",
       "    <tr>\n",
       "      <th>32</th>\n",
       "      <td>Factor 3</td>\n",
       "      <td>KEGG_AXON_GUIDANCE</td>\n",
       "      <td>1.388006</td>\n",
       "      <td>0.001001</td>\n",
       "      <td>0.008709</td>\n",
       "    </tr>\n",
       "    <tr>\n",
       "      <th>34</th>\n",
       "      <td>Factor 3</td>\n",
       "      <td>KEGG_ECM_RECEPTOR_INTERACTION</td>\n",
       "      <td>1.327261</td>\n",
       "      <td>0.001000</td>\n",
       "      <td>0.008709</td>\n",
       "    </tr>\n",
       "    <tr>\n",
       "      <th>35</th>\n",
       "      <td>Factor 3</td>\n",
       "      <td>KEGG_SMALL_CELL_LUNG_CANCER</td>\n",
       "      <td>1.335054</td>\n",
       "      <td>0.008008</td>\n",
       "      <td>0.033176</td>\n",
       "    </tr>\n",
       "    <tr>\n",
       "      <th>36</th>\n",
       "      <td>Factor 3</td>\n",
       "      <td>KEGG_FOCAL_ADHESION</td>\n",
       "      <td>1.279068</td>\n",
       "      <td>0.001001</td>\n",
       "      <td>0.008709</td>\n",
       "    </tr>\n",
       "    <tr>\n",
       "      <th>45</th>\n",
       "      <td>Factor 4</td>\n",
       "      <td>KEGG_ERBB_SIGNALING_PATHWAY</td>\n",
       "      <td>1.741709</td>\n",
       "      <td>0.001000</td>\n",
       "      <td>0.008709</td>\n",
       "    </tr>\n",
       "    <tr>\n",
       "      <th>46</th>\n",
       "      <td>Factor 4</td>\n",
       "      <td>KEGG_CELL_ADHESION_MOLECULES_CAMS</td>\n",
       "      <td>1.287627</td>\n",
       "      <td>0.003003</td>\n",
       "      <td>0.018662</td>\n",
       "    </tr>\n",
       "    <tr>\n",
       "      <th>47</th>\n",
       "      <td>Factor 4</td>\n",
       "      <td>KEGG_AXON_GUIDANCE</td>\n",
       "      <td>1.254568</td>\n",
       "      <td>0.007007</td>\n",
       "      <td>0.032085</td>\n",
       "    </tr>\n",
       "    <tr>\n",
       "      <th>61</th>\n",
       "      <td>Factor 5</td>\n",
       "      <td>KEGG_CELL_ADHESION_MOLECULES_CAMS</td>\n",
       "      <td>1.422309</td>\n",
       "      <td>0.001000</td>\n",
       "      <td>0.008709</td>\n",
       "    </tr>\n",
       "    <tr>\n",
       "      <th>62</th>\n",
       "      <td>Factor 5</td>\n",
       "      <td>KEGG_MAPK_SIGNALING_PATHWAY</td>\n",
       "      <td>1.310704</td>\n",
       "      <td>0.008008</td>\n",
       "      <td>0.033176</td>\n",
       "    </tr>\n",
       "    <tr>\n",
       "      <th>63</th>\n",
       "      <td>Factor 5</td>\n",
       "      <td>KEGG_REGULATION_OF_ACTIN_CYTOSKELETON</td>\n",
       "      <td>1.312981</td>\n",
       "      <td>0.002002</td>\n",
       "      <td>0.015834</td>\n",
       "    </tr>\n",
       "    <tr>\n",
       "      <th>64</th>\n",
       "      <td>Factor 5</td>\n",
       "      <td>KEGG_ERBB_SIGNALING_PATHWAY</td>\n",
       "      <td>1.326159</td>\n",
       "      <td>0.006006</td>\n",
       "      <td>0.029029</td>\n",
       "    </tr>\n",
       "    <tr>\n",
       "      <th>75</th>\n",
       "      <td>Factor 6</td>\n",
       "      <td>KEGG_CELL_ADHESION_MOLECULES_CAMS</td>\n",
       "      <td>1.297625</td>\n",
       "      <td>0.003003</td>\n",
       "      <td>0.018662</td>\n",
       "    </tr>\n",
       "    <tr>\n",
       "      <th>78</th>\n",
       "      <td>Factor 6</td>\n",
       "      <td>KEGG_FOCAL_ADHESION</td>\n",
       "      <td>1.190575</td>\n",
       "      <td>0.006006</td>\n",
       "      <td>0.029029</td>\n",
       "    </tr>\n",
       "  </tbody>\n",
       "</table>\n",
       "</div>"
      ],
      "text/plain": [
       "      Factor                                   Term       NES   P-value  \\\n",
       "1   Factor 1            KEGG_ERBB_SIGNALING_PATHWAY  1.454242  0.001000   \n",
       "2   Factor 1      KEGG_CELL_ADHESION_MOLECULES_CAMS  1.398443  0.001000   \n",
       "3   Factor 1                     KEGG_AXON_GUIDANCE  1.241130  0.006006   \n",
       "17  Factor 2                     KEGG_AXON_GUIDANCE  1.563928  0.001000   \n",
       "18  Factor 2      KEGG_CELL_ADHESION_MOLECULES_CAMS  1.309822  0.005005   \n",
       "31  Factor 3            KEGG_ERBB_SIGNALING_PATHWAY  1.486924  0.003003   \n",
       "32  Factor 3                     KEGG_AXON_GUIDANCE  1.388006  0.001001   \n",
       "34  Factor 3          KEGG_ECM_RECEPTOR_INTERACTION  1.327261  0.001000   \n",
       "35  Factor 3            KEGG_SMALL_CELL_LUNG_CANCER  1.335054  0.008008   \n",
       "36  Factor 3                    KEGG_FOCAL_ADHESION  1.279068  0.001001   \n",
       "45  Factor 4            KEGG_ERBB_SIGNALING_PATHWAY  1.741709  0.001000   \n",
       "46  Factor 4      KEGG_CELL_ADHESION_MOLECULES_CAMS  1.287627  0.003003   \n",
       "47  Factor 4                     KEGG_AXON_GUIDANCE  1.254568  0.007007   \n",
       "61  Factor 5      KEGG_CELL_ADHESION_MOLECULES_CAMS  1.422309  0.001000   \n",
       "62  Factor 5            KEGG_MAPK_SIGNALING_PATHWAY  1.310704  0.008008   \n",
       "63  Factor 5  KEGG_REGULATION_OF_ACTIN_CYTOSKELETON  1.312981  0.002002   \n",
       "64  Factor 5            KEGG_ERBB_SIGNALING_PATHWAY  1.326159  0.006006   \n",
       "75  Factor 6      KEGG_CELL_ADHESION_MOLECULES_CAMS  1.297625  0.003003   \n",
       "78  Factor 6                    KEGG_FOCAL_ADHESION  1.190575  0.006006   \n",
       "\n",
       "    Adj. P-value  \n",
       "1       0.008709  \n",
       "2       0.008709  \n",
       "3       0.029029  \n",
       "17      0.008709  \n",
       "18      0.029029  \n",
       "31      0.018662  \n",
       "32      0.008709  \n",
       "34      0.008709  \n",
       "35      0.033176  \n",
       "36      0.008709  \n",
       "45      0.008709  \n",
       "46      0.018662  \n",
       "47      0.032085  \n",
       "61      0.008709  \n",
       "62      0.033176  \n",
       "63      0.015834  \n",
       "64      0.029029  \n",
       "75      0.018662  \n",
       "78      0.029029  "
      ]
     },
     "execution_count": 18,
     "metadata": {},
     "output_type": "execute_result"
    }
   ],
   "source": [
    "pval_df.loc[(pval_df['Adj. P-value'] < significance_threshold) & (pval_df['NES'] > 0.)]"
   ]
  },
  {
   "cell_type": "markdown",
   "id": "a1940e66",
   "metadata": {},
   "source": [
    "**Depleted LR pairs**"
   ]
  },
  {
   "cell_type": "code",
   "execution_count": 19,
   "id": "9bf88c6c",
   "metadata": {},
   "outputs": [
    {
     "data": {
      "text/html": [
       "<div>\n",
       "<style scoped>\n",
       "    .dataframe tbody tr th:only-of-type {\n",
       "        vertical-align: middle;\n",
       "    }\n",
       "\n",
       "    .dataframe tbody tr th {\n",
       "        vertical-align: top;\n",
       "    }\n",
       "\n",
       "    .dataframe thead th {\n",
       "        text-align: right;\n",
       "    }\n",
       "</style>\n",
       "<table border=\"1\" class=\"dataframe\">\n",
       "  <thead>\n",
       "    <tr style=\"text-align: right;\">\n",
       "      <th></th>\n",
       "      <th>Factor</th>\n",
       "      <th>Term</th>\n",
       "      <th>NES</th>\n",
       "      <th>P-value</th>\n",
       "      <th>Adj. P-value</th>\n",
       "    </tr>\n",
       "  </thead>\n",
       "  <tbody>\n",
       "    <tr>\n",
       "      <th>0</th>\n",
       "      <td>Factor 1</td>\n",
       "      <td>KEGG_NOTCH_SIGNALING_PATHWAY</td>\n",
       "      <td>-1.380117</td>\n",
       "      <td>0.001</td>\n",
       "      <td>0.008709</td>\n",
       "    </tr>\n",
       "    <tr>\n",
       "      <th>15</th>\n",
       "      <td>Factor 2</td>\n",
       "      <td>KEGG_NOTCH_SIGNALING_PATHWAY</td>\n",
       "      <td>-2.423423</td>\n",
       "      <td>0.001</td>\n",
       "      <td>0.008709</td>\n",
       "    </tr>\n",
       "  </tbody>\n",
       "</table>\n",
       "</div>"
      ],
      "text/plain": [
       "      Factor                          Term       NES  P-value  Adj. P-value\n",
       "0   Factor 1  KEGG_NOTCH_SIGNALING_PATHWAY -1.380117    0.001      0.008709\n",
       "15  Factor 2  KEGG_NOTCH_SIGNALING_PATHWAY -2.423423    0.001      0.008709"
      ]
     },
     "execution_count": 19,
     "metadata": {},
     "output_type": "execute_result"
    }
   ],
   "source": [
    "pval_df.loc[(pval_df['Adj. P-value'] < significance_threshold) & (pval_df['NES'] < 0.)]"
   ]
  },
  {
   "cell_type": "markdown",
   "id": "c57ccca1",
   "metadata": {},
   "source": [
    "**Exported Normalized Enrichment Scores and their adjusted P-values across factors**"
   ]
  },
  {
   "cell_type": "code",
   "execution_count": 20,
   "id": "f48f52a4",
   "metadata": {},
   "outputs": [],
   "source": [
    "pval_df.to_excel(output_folder + '/GSEA-Adj-Pvals.xlsx')"
   ]
  },
  {
   "cell_type": "markdown",
   "id": "38ce71a0",
   "metadata": {},
   "source": [
    "### Visualization"
   ]
  },
  {
   "cell_type": "markdown",
   "id": "c1f3f521",
   "metadata": {},
   "source": [
    "DataFrame needed for the pval_plot included in cell2cell"
   ]
  },
  {
   "cell_type": "code",
   "execution_count": 21,
   "id": "8057be90",
   "metadata": {},
   "outputs": [],
   "source": [
    "pval_pivot = pval_df.pivot(index=\"Term\", columns=\"Factor\", values=\"Adj. P-value\").fillna(1.)\n",
    "scores = pval_df.pivot(index=\"Term\", columns=\"Factor\", values=\"NES\").fillna(0)"
   ]
  },
  {
   "cell_type": "markdown",
   "id": "4641df27",
   "metadata": {},
   "source": [
    "Dot Plot"
   ]
  },
  {
   "cell_type": "code",
   "execution_count": 22,
   "id": "d4b94f49",
   "metadata": {},
   "outputs": [
    {
     "data": {
      "image/png": "[encoded data removed]",
      "text/plain": [
       "<Figure size 648x1152 with 3 Axes>"
      ]
     },
     "metadata": {},
     "output_type": "display_data"
    }
   ],
   "source": [
    "with sns.axes_style(\"darkgrid\"):\n",
    "    dotplot = c2c.plotting.pval_plot.generate_dot_plot(pval_df=pval_pivot,\n",
    "                                                       score_df=scores,\n",
    "                                                       significance=significance_threshold,\n",
    "                                                       xlabel='',\n",
    "                                                       ylabel='KEGG Pathways',\n",
    "                                                       cbar_title='NES',\n",
    "                                                       cmap='PuOr',\n",
    "                                                       figsize=(9,16),\n",
    "                                                       label_size=20,\n",
    "                                                       title_size=20,\n",
    "                                                       tick_size=14,\n",
    "                                                       filename=output_folder + '/GSEA-Dotplot.svg'\n",
    "                                                      )"
   ]
  },
  {
   "cell_type": "markdown",
   "id": "556442c8",
   "metadata": {},
   "source": [
    "This dot plot indicates the pathways or LR sets enriched/depleted (depending on the color) in each of the factors. The size of the circles indicates whether they are significant. The threshold size is for the significance threshold (usually P < 0.05)."
   ]
  }
 ],
 "metadata": {
  "kernelspec": {
   "display_name": "Python 3 (ipykernel)",
   "language": "python",
   "name": "python3"
  },
  "language_info": {
   "codemirror_mode": {
    "name": "ipython",
    "version": 3
   },
   "file_extension": ".py",
   "mimetype": "text/x-python",
   "name": "python",
   "nbconvert_exporter": "python",
   "pygments_lexer": "ipython3",
   "version": "3.7.8"
  }
 },
 "nbformat": 4,
 "nbformat_minor": 5
}
