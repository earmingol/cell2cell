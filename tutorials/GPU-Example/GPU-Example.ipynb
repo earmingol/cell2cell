{
 "cells": [
  {
   "cell_type": "markdown",
   "id": "2c1fd368",
   "metadata": {},
   "source": [
    "# Running Tensor-cell2cell on your own GPU or on Google Colab's GPU\n",
    "\n",
    "You can run this notebook locally or on [Google Colab directly here](https://colab.research.google.com/drive/1xE6Pm1u-XoSWV8a3oYpixUFj64FIDtl0?usp=sharing)\n",
    "\n",
    "**Before running this notebook**, make sure to have a proper NVIDIA GPU driver (https://www.nvidia.com/Download/index.aspx) as well as the CUDA toolkit (https://developer.nvidia.com/cuda-toolkit) installed.\n",
    "\n",
    "Then, make sure to create an environment with Pytorch > v1.8.1 following these instructions to enable CUDA.\n",
    "\n",
    "https://pytorch.org/get-started/locally/\n",
    "\n",
    "Once you have everything install, run the next block of code before everything"
   ]
  },
  {
   "cell_type": "markdown",
   "id": "e29a77f8",
   "metadata": {},
   "source": [
    "## Citations\n",
    "\n",
    "If you plan using this notebook with your own scRNA-seq data, please cite these references:\n",
    "\n",
    "- **Tensor-cell2cell Tool**: Armingol E., Baghdassarian H., Martino C., Perez-Lopez A., Aamodt C., Knight R., Lewis N.E. Context-aware deconvolution of cell-cell communication with Tensor-cell2cell. Nat Commun 13, 3665 (2022). https://doi.org/10.1038/s41467-022-31369-2\n",
    "- **Repository of Ligand-Receptor Pairs used to download the list of LR pairs**: Armingol, E., Officer, A., Harismendy, O. et al. Deciphering cell–cell interactions and communication from gene expression. Nat Rev Genet 22, 71–88 (2021). https://doi.org/10.1038/s41576-020-00292-x\n",
    "- **List of Ligand-Receptor Pairs**: Jin, S., Guerrero-Juarez, C.F., Zhang, L. et al. Inference and analysis of cell-cell communication using CellChat. Nat Commun 12, 1088 (2021). https://doi.org/10.1038/s41467-021-21246-9"
   ]
  },
  {
   "cell_type": "markdown",
   "id": "00249f3b",
   "metadata": {},
   "source": [
    "## Initial setups"
   ]
  },
  {
   "cell_type": "markdown",
   "id": "9930504b",
   "metadata": {},
   "source": [
    "### Installing necessary libraries"
   ]
  },
  {
   "cell_type": "code",
   "execution_count": 1,
   "id": "809c43b5",
   "metadata": {},
   "outputs": [],
   "source": [
    "# This installs the developer version of cell2cell\n",
    "#!pip install git+http://github.com/earmingol/cell2cell@new_version # Run it once. Do not run after installing and clicking on RESTART RUNTIME\n",
    "\n",
    "# To install a stable version instead, run this:\n",
    "#!pip install cell2cell"
   ]
  },
  {
   "cell_type": "code",
   "execution_count": 2,
   "id": "5a9ce190",
   "metadata": {},
   "outputs": [],
   "source": [
    "#!pip install matplotlib==3.2.0 # To properly display figures"
   ]
  },
  {
   "cell_type": "markdown",
   "id": "f28aff86",
   "metadata": {},
   "source": [
    "### Loading libraries\n"
   ]
  },
  {
   "cell_type": "code",
   "execution_count": 3,
   "id": "a2bd455f",
   "metadata": {},
   "outputs": [],
   "source": [
    "import cell2cell as c2c\n",
    "import scanpy as sc\n",
    "\n",
    "import pandas as pd\n",
    "import numpy as np\n",
    "\n",
    "from tqdm import tqdm\n",
    "\n",
    "%matplotlib inline"
   ]
  },
  {
   "cell_type": "code",
   "execution_count": 4,
   "id": "77574b77",
   "metadata": {},
   "outputs": [],
   "source": [
    "import warnings\n",
    "warnings.filterwarnings('ignore')"
   ]
  },
  {
   "cell_type": "code",
   "execution_count": 5,
   "id": "5184ec48",
   "metadata": {},
   "outputs": [
    {
     "data": {
      "text/plain": [
       "'0.6.4'"
      ]
     },
     "execution_count": 5,
     "metadata": {},
     "output_type": "execute_result"
    }
   ],
   "source": [
    "c2c.__version__"
   ]
  },
  {
   "cell_type": "markdown",
   "id": "bde61cd7",
   "metadata": {},
   "source": [
    "## Load Data"
   ]
  },
  {
   "cell_type": "markdown",
   "id": "5c170d01",
   "metadata": {},
   "source": [
    "### Directories to store data"
   ]
  },
  {
   "cell_type": "code",
   "execution_count": 6,
   "id": "99ad8ab0",
   "metadata": {},
   "outputs": [
    {
     "name": "stdout",
     "output_type": "stream",
     "text": [
      "./BALF-COVID19/ already exists.\n"
     ]
    }
   ],
   "source": [
    "output_folder = './BALF-COVID19/'\n",
    "c2c.io.directories.create_directory(output_folder)"
   ]
  },
  {
   "cell_type": "markdown",
   "id": "d8b91777",
   "metadata": {},
   "source": [
    "### Example dataset of COVID-19\n",
    "\n",
    "This is a BALF COVID-19 dataset that consists in 63k immune and epithelial cells in lungs from 3 control, 3 moderate COVID-19, and 6 severe COVID-19 patients.\n",
    "\n",
    "This dataset was previously published in [1], and this object contains the raw counts for the annotated cell types available in: https://www.ncbi.nlm.nih.gov/geo/query/acc.cgi?acc=GSE145926\n",
    "\n",
    "Here we obtain an AnnData object containing the raw counts.\n",
    "\n",
    "**References:**\n",
    "\n",
    "[1] Liao, M., Liu, Y., Yuan, J. et al. Single-cell landscape of bronchoalveolar immune cells in patients with COVID-19. Nat Med 26, 842–844 (2020). https://doi.org/10.1038/s41591-020-0901-9"
   ]
  },
  {
   "cell_type": "code",
   "execution_count": 7,
   "id": "2bcb3727",
   "metadata": {},
   "outputs": [],
   "source": [
    "adata = c2c.datasets.balf_covid()"
   ]
  },
  {
   "cell_type": "code",
   "execution_count": 8,
   "id": "c6ec398e",
   "metadata": {},
   "outputs": [
    {
     "data": {
      "text/plain": [
       "AnnData object with n_obs × n_vars = 63103 × 33538\n",
       "    obs: 'sample', 'sample_new', 'group', 'disease', 'hasnCoV', 'cluster', 'celltype', 'condition'"
      ]
     },
     "execution_count": 8,
     "metadata": {},
     "output_type": "execute_result"
    }
   ],
   "source": [
    "adata"
   ]
  },
  {
   "cell_type": "markdown",
   "id": "b1be0a46",
   "metadata": {},
   "source": [
    "### Ligand-Receptor pairs\n",
    "\n",
    "Different databases of ligand-receptor interactions could be used. We previously created a repository that includes many available DBs (https://github.com/LewisLabUCSD/Ligand-Receptor-Pairs). In this tutorial, we employ the ligand-receptor pairs from CellChat (https://doi.org/10.1038/s41467-021-21246-9), which includes multimeric protein complexes."
   ]
  },
  {
   "cell_type": "code",
   "execution_count": 9,
   "id": "720bb704",
   "metadata": {},
   "outputs": [],
   "source": [
    "lr_pairs = pd.read_csv('https://raw.githubusercontent.com/LewisLabUCSD/Ligand-Receptor-Pairs/master/Human/Human-2020-Jin-LR-pairs.csv')\n",
    "lr_pairs = lr_pairs.astype(str)"
   ]
  },
  {
   "cell_type": "code",
   "execution_count": 10,
   "id": "a35d6298",
   "metadata": {},
   "outputs": [
    {
     "data": {
      "text/html": [
       "<div>\n",
       "<style scoped>\n",
       "    .dataframe tbody tr th:only-of-type {\n",
       "        vertical-align: middle;\n",
       "    }\n",
       "\n",
       "    .dataframe tbody tr th {\n",
       "        vertical-align: top;\n",
       "    }\n",
       "\n",
       "    .dataframe thead th {\n",
       "        text-align: right;\n",
       "    }\n",
       "</style>\n",
       "<table border=\"1\" class=\"dataframe\">\n",
       "  <thead>\n",
       "    <tr style=\"text-align: right;\">\n",
       "      <th></th>\n",
       "      <th>interaction_name</th>\n",
       "      <th>pathway_name</th>\n",
       "      <th>ligand</th>\n",
       "      <th>receptor</th>\n",
       "      <th>agonist</th>\n",
       "      <th>antagonist</th>\n",
       "      <th>co_A_receptor</th>\n",
       "      <th>co_I_receptor</th>\n",
       "      <th>evidence</th>\n",
       "      <th>annotation</th>\n",
       "      <th>interaction_name_2</th>\n",
       "      <th>ligand_symbol</th>\n",
       "      <th>receptor_symbol</th>\n",
       "      <th>ligand_ensembl</th>\n",
       "      <th>receptor_ensembl</th>\n",
       "      <th>interaction_symbol</th>\n",
       "      <th>interaction_ensembl</th>\n",
       "    </tr>\n",
       "  </thead>\n",
       "  <tbody>\n",
       "    <tr>\n",
       "      <th>0</th>\n",
       "      <td>TGFB1_TGFBR1_TGFBR2</td>\n",
       "      <td>TGFb</td>\n",
       "      <td>TGFB1</td>\n",
       "      <td>TGFbR1_R2</td>\n",
       "      <td>TGFb agonist</td>\n",
       "      <td>TGFb antagonist</td>\n",
       "      <td>nan</td>\n",
       "      <td>TGFb inhibition receptor</td>\n",
       "      <td>KEGG: hsa04350</td>\n",
       "      <td>Secreted Signaling</td>\n",
       "      <td>TGFB1 - (TGFBR1+TGFBR2)</td>\n",
       "      <td>TGFB1</td>\n",
       "      <td>TGFBR1&amp;TGFBR2</td>\n",
       "      <td>ENSG00000105329</td>\n",
       "      <td>ENSG00000106799&amp;ENSG00000163513</td>\n",
       "      <td>TGFB1^TGFBR1&amp;TGFBR2</td>\n",
       "      <td>ENSG00000105329^ENSG00000106799&amp;ENSG00000163513</td>\n",
       "    </tr>\n",
       "    <tr>\n",
       "      <th>1</th>\n",
       "      <td>TGFB2_TGFBR1_TGFBR2</td>\n",
       "      <td>TGFb</td>\n",
       "      <td>TGFB2</td>\n",
       "      <td>TGFbR1_R2</td>\n",
       "      <td>TGFb agonist</td>\n",
       "      <td>TGFb antagonist</td>\n",
       "      <td>nan</td>\n",
       "      <td>TGFb inhibition receptor</td>\n",
       "      <td>KEGG: hsa04350</td>\n",
       "      <td>Secreted Signaling</td>\n",
       "      <td>TGFB2 - (TGFBR1+TGFBR2)</td>\n",
       "      <td>TGFB2</td>\n",
       "      <td>TGFBR1&amp;TGFBR2</td>\n",
       "      <td>ENSG00000092969</td>\n",
       "      <td>ENSG00000106799&amp;ENSG00000163513</td>\n",
       "      <td>TGFB2^TGFBR1&amp;TGFBR2</td>\n",
       "      <td>ENSG00000092969^ENSG00000106799&amp;ENSG00000163513</td>\n",
       "    </tr>\n",
       "  </tbody>\n",
       "</table>\n",
       "</div>"
      ],
      "text/plain": [
       "      interaction_name pathway_name ligand   receptor       agonist  \\\n",
       "0  TGFB1_TGFBR1_TGFBR2         TGFb  TGFB1  TGFbR1_R2  TGFb agonist   \n",
       "1  TGFB2_TGFBR1_TGFBR2         TGFb  TGFB2  TGFbR1_R2  TGFb agonist   \n",
       "\n",
       "        antagonist co_A_receptor             co_I_receptor        evidence  \\\n",
       "0  TGFb antagonist           nan  TGFb inhibition receptor  KEGG: hsa04350   \n",
       "1  TGFb antagonist           nan  TGFb inhibition receptor  KEGG: hsa04350   \n",
       "\n",
       "           annotation       interaction_name_2 ligand_symbol receptor_symbol  \\\n",
       "0  Secreted Signaling  TGFB1 - (TGFBR1+TGFBR2)         TGFB1   TGFBR1&TGFBR2   \n",
       "1  Secreted Signaling  TGFB2 - (TGFBR1+TGFBR2)         TGFB2   TGFBR1&TGFBR2   \n",
       "\n",
       "    ligand_ensembl                 receptor_ensembl   interaction_symbol  \\\n",
       "0  ENSG00000105329  ENSG00000106799&ENSG00000163513  TGFB1^TGFBR1&TGFBR2   \n",
       "1  ENSG00000092969  ENSG00000106799&ENSG00000163513  TGFB2^TGFBR1&TGFBR2   \n",
       "\n",
       "                               interaction_ensembl  \n",
       "0  ENSG00000105329^ENSG00000106799&ENSG00000163513  \n",
       "1  ENSG00000092969^ENSG00000106799&ENSG00000163513  "
      ]
     },
     "execution_count": 10,
     "metadata": {},
     "output_type": "execute_result"
    }
   ],
   "source": [
    "lr_pairs.head(2)"
   ]
  },
  {
   "cell_type": "markdown",
   "id": "d2140f7e",
   "metadata": {},
   "source": [
    "**Interaction columns contianing the gene names**"
   ]
  },
  {
   "cell_type": "code",
   "execution_count": 11,
   "id": "88262806",
   "metadata": {},
   "outputs": [],
   "source": [
    "int_columns = ('ligand_symbol', 'receptor_symbol')"
   ]
  },
  {
   "cell_type": "markdown",
   "id": "8a041d30",
   "metadata": {},
   "source": [
    "## Data Preprocessing"
   ]
  },
  {
   "cell_type": "markdown",
   "id": "70b62001",
   "metadata": {},
   "source": [
    "### Information of samples\n",
    "First, generate a dictionary indicating what condition group is associated to each sample/context"
   ]
  },
  {
   "cell_type": "code",
   "execution_count": 12,
   "id": "8d8eb5b3",
   "metadata": {},
   "outputs": [],
   "source": [
    "context_dict = adata.obs.set_index('sample')['condition'].sort_values().to_dict()"
   ]
  },
  {
   "cell_type": "code",
   "execution_count": 13,
   "id": "c905970f",
   "metadata": {},
   "outputs": [
    {
     "data": {
      "text/plain": [
       "{'C100': 'Control',\n",
       " 'C52': 'Control',\n",
       " 'C51': 'Control',\n",
       " 'C142': 'Moderate COVID-19',\n",
       " 'C141': 'Moderate COVID-19',\n",
       " 'C144': 'Moderate COVID-19',\n",
       " 'C143': 'Severe COVID-19',\n",
       " 'C148': 'Severe COVID-19',\n",
       " 'C149': 'Severe COVID-19',\n",
       " 'C146': 'Severe COVID-19',\n",
       " 'C145': 'Severe COVID-19',\n",
       " 'C152': 'Severe COVID-19'}"
      ]
     },
     "execution_count": 13,
     "metadata": {},
     "output_type": "execute_result"
    }
   ],
   "source": [
    "context_dict"
   ]
  },
  {
   "cell_type": "markdown",
   "id": "262a98a9",
   "metadata": {},
   "source": [
    "### Generate list of RNA-seq data (per sample) with single cells aggregated into cell types\n",
    "\n",
    "Here, we convert the single-cell expression levels into cell-type expression levels. A basic context-wise preprocessing is performed here, keeping only genes that are expressed at least in 4 single cells.\n",
    "\n",
    "**Important:** A list of aggregated gene expression matrices must be used for building the 4D-communication tensor. Each of the gene expression matrices is for one of the contexts, following the same order as the previous dictionary (context_dict).\n",
    "\n",
    "Each gene expression is aggregated here across all single cells annotated with the same cell type as the average log1p(CPM) value. Other aggregation methods could be used, please inspect parameter ```method='average'``` in the ```aggregate_single_cell()``` function. Additionally, other gene expression values could be passed, using other preprocessing approaches such as the non-zero fraction of cells expressing a gene or batch correction methods."
   ]
  },
  {
   "cell_type": "code",
   "execution_count": 14,
   "id": "167aa912",
   "metadata": {},
   "outputs": [
    {
     "name": "stderr",
     "output_type": "stream",
     "text": [
      "100%|███████████████████████████████████████████| 12/12 [00:09<00:00,  1.23it/s]\n"
     ]
    }
   ],
   "source": [
    "rnaseq_matrices = []\n",
    "\n",
    "# Iteraty by sample/context\n",
    "for context in tqdm(context_dict.keys()):\n",
    "    # Obtain metadata for context\n",
    "    meta_context = adata.obs.loc[adata.obs['sample'] == context].copy()\n",
    "    # Single cells in the context\n",
    "    cells = list(meta_context.index)\n",
    "\n",
    "    # Rename index name to identify the barcodes when aggregating expression\n",
    "    meta_context.index.name = 'barcode'\n",
    "\n",
    "    # Subset RNAseq data by the single cells in the sample/context\n",
    "    tmp_adata = adata[cells]\n",
    "\n",
    "    # Keep genes in each sample with at least 4 single cells expressing it\n",
    "    genes = sc.pp.filter_genes(tmp_adata, min_cells=4, inplace=False)[0]\n",
    "    \n",
    "    # Convert raw counts into log1p(CPM)\n",
    "    sc.pp.normalize_total(tmp_adata, target_sum=1e6)\n",
    "    sc.pp.log1p(tmp_adata)\n",
    "\n",
    "    # Convert to dataframe and keep filtered genes\n",
    "    tmp_adata = tmp_adata.to_df().loc[:, genes]\n",
    "\n",
    "    # Aggregate gene expression of single cells into cell types\n",
    "    exp_df = c2c.preprocessing.aggregate_single_cells(rnaseq_data=tmp_adata,\n",
    "                                                      metadata=meta_context,\n",
    "                                                      barcode_col='barcode',\n",
    "                                                      celltype_col='celltype',\n",
    "                                                      method='average',\n",
    "                                                     )\n",
    "\n",
    "    rnaseq_matrices.append(exp_df)"
   ]
  },
  {
   "cell_type": "markdown",
   "id": "1dc06972",
   "metadata": {},
   "source": [
    "### Preprocessing of LR pairs\n",
    "\n",
    "**Generate a dictionary with function info for each LR pairs.**\n",
    "\n",
    "Keys are LIGAND_NAME^RECEPTOR_NAME (this is the same nomenclature that will be used when building the 4D-communication tensor later), and values are the function in the annotation column in the dataframe containing ligand-receptor pairs. ***Other functional annotations of the LR pairs could be used if available.***"
   ]
  },
  {
   "cell_type": "code",
   "execution_count": 15,
   "id": "59ab0cee",
   "metadata": {},
   "outputs": [],
   "source": [
    "ppi_functions = dict()\n",
    "\n",
    "for idx, row in lr_pairs.iterrows():\n",
    "    ppi_label = row[int_columns[0]] + '^' + row[int_columns[1]]\n",
    "    ppi_functions[ppi_label] = row['annotation']"
   ]
  },
  {
   "cell_type": "markdown",
   "id": "34497376",
   "metadata": {},
   "source": [
    "## Tensor-cell2cell analysis\n",
    "\n",
    "Build 4D-Communication Tensor\n",
    "Here we use as input the list of gene expression matrices that were aggregated into a cell-type granularity. This list contains the expression matrices of all samples/contexts.\n",
    "\n",
    "The following functions perform all the steps to build a 4D-communication tensor:\n",
    "\n",
    "![TC2C](https://earmingol.github.io/cell2cell/tutorials/ASD/figures/4d-tensor.png).\n",
    "\n",
    "The parameter ```communication_score``` indicates the scoring function to use.\n",
    "\n",
    "```how='inner'``` is used to keep only cell types and genes that are across all contexts. Use ```how='outer'``` to include all cell types, even if they are not in all samples/contexts. When using the last option, a tensor.mask attribute is created, where zeros indicates what are the missing cell pairs and LR interactions in the given contexts, and ones indicate those that are present. Thus, we can deal with missing values by assigning them a value of zero during the tensor decomposition. We can also control the minimum fraction of samples that must containg a LR pair or a cell type to be included in the tensor, through the parameter ```outer_fraction```.\n",
    "\n",
    "```complex_sep='&'``` is used to specify that the list of ligand-receptor pairs contains protein complexes and that subunits are separated by '&'. If the list does not have complexes, use ```complex_sep=None``` instead."
   ]
  },
  {
   "cell_type": "code",
   "execution_count": 16,
   "id": "b4ac060b",
   "metadata": {},
   "outputs": [
    {
     "name": "stdout",
     "output_type": "stream",
     "text": [
      "Getting expression values for protein complexes\n",
      "Building tensor for the provided context\n"
     ]
    }
   ],
   "source": [
    "tensor = c2c.tensor.InteractionTensor(rnaseq_matrices=rnaseq_matrices,\n",
    "                                      ppi_data=lr_pairs,\n",
    "                                      context_names=list(context_dict.keys()),\n",
    "                                      how='outer',\n",
    "                                      outer_fraction=0.5, # Considers elements in at least 50% of samples\n",
    "                                      complex_sep='&',\n",
    "                                      interaction_columns=int_columns,\n",
    "                                      communication_score='expression_gmean',\n",
    "                                     )"
   ]
  },
  {
   "cell_type": "markdown",
   "id": "7345c7f3",
   "metadata": {},
   "source": [
    "### Evaluate some tensor properties"
   ]
  },
  {
   "cell_type": "markdown",
   "id": "05b5d3b1",
   "metadata": {},
   "source": [
    "**Tensor shape**\n",
    "\n",
    "This indicates the number of elements in each tensor dimension: (Contexts, LR pairs, Sender cells, Receiver cells)"
   ]
  },
  {
   "cell_type": "code",
   "execution_count": 17,
   "id": "5d9493b6",
   "metadata": {},
   "outputs": [
    {
     "data": {
      "text/plain": [
       "(12, 807, 10, 10)"
      ]
     },
     "execution_count": 17,
     "metadata": {},
     "output_type": "execute_result"
    }
   ],
   "source": [
    "tensor.tensor.shape"
   ]
  },
  {
   "cell_type": "markdown",
   "id": "c8212aca",
   "metadata": {},
   "source": [
    "**Fraction of excluded elements**\n",
    "\n",
    "This represents the fraction of values that are ignored (masked) in the analysis. "
   ]
  },
  {
   "cell_type": "code",
   "execution_count": 18,
   "id": "48b6a924",
   "metadata": {},
   "outputs": [
    {
     "data": {
      "text/plain": [
       "0.28569496076001655"
      ]
     },
     "execution_count": 18,
     "metadata": {},
     "output_type": "execute_result"
    }
   ],
   "source": [
    "tensor.excluded_value_fraction()"
   ]
  },
  {
   "cell_type": "markdown",
   "id": "fa4c43e6",
   "metadata": {},
   "source": [
    "### Prepare Tensor Metadata\n",
    "\n",
    "To interpret analysis on the tensor, we can assign groups to each sample/context, and to every elements in the other dimensions (LR pairs and cells).\n",
    "\n",
    "We can generate respective dictionaries manually or automatically from DBs."
   ]
  },
  {
   "cell_type": "code",
   "execution_count": 19,
   "id": "c4877077",
   "metadata": {},
   "outputs": [],
   "source": [
    "meta_tensor = c2c.tensor.generate_tensor_metadata(interaction_tensor=tensor,\n",
    "                                                  metadata_dicts=[context_dict, ppi_functions, None, None],\n",
    "                                                  fill_with_order_elements=True\n",
    "                                                  )"
   ]
  },
  {
   "cell_type": "markdown",
   "id": "dfa00885",
   "metadata": {},
   "source": [
    "### Run Tensor-cell2cell\n",
    "\n",
    "Here we use the ```tf_optimization='regular'```, which is faster but generates less robust results. We recommend using ```tf_optimization='robust```, which takes longer to run."
   ]
  },
  {
   "cell_type": "code",
   "execution_count": 20,
   "id": "40603df5",
   "metadata": {},
   "outputs": [
    {
     "name": "stdout",
     "output_type": "stream",
     "text": [
      "Running Elbow Analysis\n"
     ]
    },
    {
     "data": {
      "application/vnd.jupyter.widget-view+json": {
       "model_id": "230d2bed82e0496389a5424a1ca5f27b",
       "version_major": 2,
       "version_minor": 0
      },
      "text/plain": [
       "  0%|          | 0/25 [00:00<?, ?it/s]"
      ]
     },
     "metadata": {},
     "output_type": "display_data"
    },
    {
     "name": "stdout",
     "output_type": "stream",
     "text": [
      "The rank at the elbow is: 10\n",
      "Running Tensor Factorization\n",
      "Generating Outputs\n",
      "Loadings of the tensor factorization were successfully saved into ./BALF-COVID19//Loadings.xlsx\n"
     ]
    },
    {
     "data": {
      "image/png": "[encoded data removed]",
      "text/plain": [
       "<Figure size 288x162 with 1 Axes>"
      ]
     },
     "metadata": {
      "needs_background": "light"
     },
     "output_type": "display_data"
    },
    {
     "data": {
      "image/png": "[encoded data removed]",
      "text/plain": [
       "<Figure size 720x936 with 40 Axes>"
      ]
     },
     "metadata": {
      "needs_background": "light"
     },
     "output_type": "display_data"
    }
   ],
   "source": [
    "tensor2 = c2c.analysis.run_tensor_cell2cell_pipeline(tensor,\n",
    "                                                     meta_tensor,\n",
    "                                                     copy_tensor=True, # Whether to output a new tensor or modifying the original\n",
    "                                                     rank=None, # Number of factors to perform the factorization. If None, it is automatically determined by an elbow analysis\n",
    "                                                     tf_optimization='regular', # To define how robust we want the analysis to be.\n",
    "                                                     random_state=888, # Random seed for reproducibility\n",
    "                                                     backend='pytorch', # This enables a banckend that supports using a GPU.\n",
    "                                                     device='cuda', # Device to use. If using GPU and PyTorch, use 'cuda'. For CPU use 'cpu'\n",
    "                                                     elbow_metric='error', # Metric to use in the elbow analysis.\n",
    "                                                     smooth_elbow=False, # Whether smoothing the metric of the elbow analysis.\n",
    "                                                     upper_rank=25, # Max number of factors to try in the elbow analysis\n",
    "                                                     tf_init='random', # Initialization method of the tensor factorization\n",
    "                                                     tf_svd='numpy_svd', # Type of SVD to use if the initialization is 'svd'\n",
    "                                                     cmaps=None, # Color palettes to use in color each of the dimensions. Must be a list of palettes.\n",
    "                                                     sample_col='Element', # Columns containing the elements in the tensor metadata\n",
    "                                                     group_col='Category', # Columns containing the major groups in the tensor metadata\n",
    "                                                     fig_fontsize=14, # Fontsize of the figures generated\n",
    "                                                     output_folder=output_folder, # Whether to save the figures and loadings in files. If so, a folder pathname must be passed\n",
    "                                                     output_fig=True, # Whether to output the figures. If False, figures won't be saved a files if a folder was passed in output_folder.\n",
    "                                                     fig_format='pdf', # File format of the figures.\n",
    "                                                    )"
   ]
  },
  {
   "cell_type": "markdown",
   "id": "f183a51a",
   "metadata": {},
   "source": [
    "**Top genes in each factor**"
   ]
  },
  {
   "cell_type": "code",
   "execution_count": 21,
   "id": "30d67ae6",
   "metadata": {},
   "outputs": [
    {
     "name": "stdout",
     "output_type": "stream",
     "text": [
      "CD99^CD99             0.396975\n",
      "MIF^CD74&CXCR4        0.368345\n",
      "MIF^CD74&CD44         0.348051\n",
      "LGALS9^PTPRC          0.319667\n",
      "TNFSF13B^TNFRSF13B    0.244478\n",
      "LGALS9^CD44           0.239305\n",
      "APP^CD74              0.226378\n",
      "SELPLG^SELL           0.223956\n",
      "PTPRC^CD22            0.206616\n",
      "CXCL10^CXCR3          0.174164\n",
      "Name: Factor 1, dtype: float32\n",
      "\n",
      "MIF^CD74&CD44        0.607854\n",
      "LGALS9^CD44          0.450888\n",
      "CD99^CD99            0.402892\n",
      "LGALS9^PTPRC         0.260705\n",
      "LGALS9^HAVCR2        0.258238\n",
      "MIF^CD74&CXCR4       0.166606\n",
      "APP^CD74             0.142985\n",
      "COL9A2^CD44          0.112663\n",
      "CD22^PTPRC           0.103688\n",
      "NAMPT^ITGA5&ITGB1    0.098853\n",
      "Name: Factor 2, dtype: float32\n",
      "\n",
      "CCL8^CCR1            0.328729\n",
      "SPP1^CD44            0.318466\n",
      "CCL3L1^CCR1          0.311767\n",
      "CCL3^CCR1            0.311655\n",
      "CCL7^CCR1            0.280976\n",
      "ANXA1^FPR1           0.240010\n",
      "MIF^CD74&CXCR4       0.191990\n",
      "NAMPT^ITGA5&ITGB1    0.188227\n",
      "MIF^CD74&CD44        0.179285\n",
      "SPP1^ITGA5&ITGB1     0.165535\n",
      "Name: Factor 3, dtype: float32\n",
      "\n",
      "CCL5^CCR1            0.405997\n",
      "CD99^PILRA           0.308518\n",
      "ANXA1^FPR1           0.298691\n",
      "PTPRC^MRC1           0.209846\n",
      "CCL5^CCR5            0.194877\n",
      "CD99^CD99            0.193112\n",
      "ANXA1^FPR2           0.189305\n",
      "MIF^CD74&CXCR4       0.182442\n",
      "SELPLG^SELL          0.169664\n",
      "ITGAL&ITGB2^ICAM1    0.165196\n",
      "Name: Factor 4, dtype: float32\n",
      "\n",
      "MDK^NCL         0.379103\n",
      "APP^CD74        0.365288\n",
      "LAMC2^CD44      0.290392\n",
      "LAMB3^CD44      0.283392\n",
      "LAMA5^CD44      0.221012\n",
      "PTN^NCL         0.194058\n",
      "GDF15^TGFBR2    0.178591\n",
      "LAMB2^CD44      0.167368\n",
      "LAMA3^CD44      0.153982\n",
      "COL4A5^CD44     0.147150\n",
      "Name: Factor 5, dtype: float32\n",
      "\n",
      "PTPRC^MRC1       0.392890\n",
      "FN1^CD44         0.374219\n",
      "MIF^CD74&CD44    0.336574\n",
      "RETN^CAP1        0.302886\n",
      "LGALS9^CD44      0.274760\n",
      "GRN^SORT1        0.239909\n",
      "HLA-DMA^CD4      0.239026\n",
      "LGALS9^PTPRC     0.222783\n",
      "PECAM1^PECAM1    0.168159\n",
      "RETN^TLR4        0.152095\n",
      "Name: Factor 6, dtype: float32\n",
      "\n",
      "APP^CD74         0.463218\n",
      "HLA-DMA^CD4      0.393801\n",
      "LGALS9^PTPRC     0.250710\n",
      "HLA-DOA^CD4      0.226411\n",
      "LGALS9^HAVCR2    0.209939\n",
      "GRN^SORT1        0.196472\n",
      "IL16^CD4         0.183482\n",
      "CD99^PILRA       0.183337\n",
      "ICAM1^SPN        0.174727\n",
      "PECAM1^PECAM1    0.164378\n",
      "Name: Factor 7, dtype: float32\n",
      "\n",
      "CD99^CD99              0.279922\n",
      "NAMPT^INSR             0.274649\n",
      "SEMA4D^PLXNB2          0.239051\n",
      "GRN^SORT1              0.223482\n",
      "SEMA4D^PLXNB1          0.199096\n",
      "SELL^PODXL             0.187005\n",
      "TNFSF10^TNFRSF10A      0.169820\n",
      "AREG^EGFR              0.156962\n",
      "TGFB1^ACVR1B&TGFBR2    0.152839\n",
      "AREG^EGFR&ERBB2        0.152592\n",
      "Name: Factor 8, dtype: float32\n",
      "\n",
      "CD99^CD99         0.344679\n",
      "LGALS9^PTPRC      0.341739\n",
      "MIF^CD74&CD44     0.220866\n",
      "MIF^CD74&CXCR4    0.212046\n",
      "CXCL16^CXCR6      0.210066\n",
      "CXCL10^CXCR3      0.209790\n",
      "CD48^CD244        0.207834\n",
      "CCL4^CCR5         0.188202\n",
      "CCL5^CCR5         0.175231\n",
      "ALCAM^CD6         0.174957\n",
      "Name: Factor 9, dtype: float32\n",
      "\n",
      "RETN^CAP1        0.394428\n",
      "FN1^CD44         0.363788\n",
      "MDK^NCL          0.291849\n",
      "SIGLEC1^SPN      0.274590\n",
      "LGALS9^CD44      0.228481\n",
      "LGALS9^PTPRC     0.193877\n",
      "THBS1^CD47       0.177242\n",
      "CCL3^CCR1        0.141885\n",
      "CCL8^CCR1        0.139728\n",
      "LGALS9^HAVCR2    0.126326\n",
      "Name: Factor 10, dtype: float32\n",
      "\n"
     ]
    }
   ],
   "source": [
    "for i in range(tensor2.rank):\n",
    "    print(tensor2.get_top_factor_elements('Ligand-Receptor Pairs', 'Factor {}'.format(i+1), 10))\n",
    "    print('')"
   ]
  },
  {
   "cell_type": "markdown",
   "id": "c95a7995",
   "metadata": {},
   "source": [
    "## Export objects\n",
    "\n",
    "Beyond the generated results, we can export the objects here for using them in posterior analyses."
   ]
  },
  {
   "cell_type": "code",
   "execution_count": 22,
   "id": "f8955db2",
   "metadata": {},
   "outputs": [
    {
     "name": "stdout",
     "output_type": "stream",
     "text": [
      "./BALF-COVID19/Tensor.pkl  was correctly saved.\n"
     ]
    }
   ],
   "source": [
    "# Export Tensor after decomposition\n",
    "\n",
    "c2c.io.export_variable_with_pickle(tensor, output_folder + 'Tensor.pkl')"
   ]
  },
  {
   "cell_type": "code",
   "execution_count": 23,
   "id": "9bb2e459",
   "metadata": {},
   "outputs": [
    {
     "name": "stdout",
     "output_type": "stream",
     "text": [
      "./BALF-COVID19/Tensor-Metadata.pkl  was correctly saved.\n"
     ]
    }
   ],
   "source": [
    "# Export Tensor Metadata\n",
    "\n",
    "c2c.io.export_variable_with_pickle(meta_tensor, output_folder + 'Tensor-Metadata.pkl')"
   ]
  },
  {
   "cell_type": "code",
   "execution_count": null,
   "id": "acbce428",
   "metadata": {},
   "outputs": [],
   "source": []
  }
 ],
 "metadata": {
  "kernelspec": {
   "display_name": "Python 3 (ipykernel)",
   "language": "python",
   "name": "python3"
  },
  "language_info": {
   "codemirror_mode": {
    "name": "ipython",
    "version": 3
   },
   "file_extension": ".py",
   "mimetype": "text/x-python",
   "name": "python",
   "nbconvert_exporter": "python",
   "pygments_lexer": "ipython3",
   "version": "3.9.12"
  }
 },
 "nbformat": 4,
 "nbformat_minor": 5
}
